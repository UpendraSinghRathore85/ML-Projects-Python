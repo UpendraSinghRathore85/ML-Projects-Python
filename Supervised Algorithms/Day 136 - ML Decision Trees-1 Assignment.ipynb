{
 "cells": [
  {
   "cell_type": "code",
   "execution_count": 52,
   "id": "d19d565c",
   "metadata": {},
   "outputs": [],
   "source": [
    "import pandas as pd \n",
    "import numpy as np\n",
    "import matplotlib.pyplot as plt\n",
    "import seaborn as sns\n",
    "from sklearn.model_selection import train_test_split\n",
    "from sklearn.tree import DecisionTreeClassifier\n",
    "from sklearn import tree\n",
    "\n",
    "from sklearn.metrics import classification_report\n",
    "from sklearn.metrics import ConfusionMatrixDisplay\n",
    "from sklearn.metrics import confusion_matrix\n",
    "\n",
    "import scipy.stats as stats"
   ]
  },
  {
   "cell_type": "code",
   "execution_count": 536,
   "id": "ab504ab8",
   "metadata": {},
   "outputs": [
    {
     "data": {
      "text/plain": [
       "<function scipy.stats._entropy.entropy(pk: 'np.typing.ArrayLike', qk: 'np.typing.ArrayLike | None' = None, base: 'float | None' = None, axis: 'int' = 0) -> 'np.number | np.ndarray'>"
      ]
     },
     "execution_count": 536,
     "metadata": {},
     "output_type": "execute_result"
    }
   ],
   "source": []
  },
  {
   "cell_type": "code",
   "execution_count": 2,
   "id": "670460d0",
   "metadata": {},
   "outputs": [
    {
     "data": {
      "text/html": [
       "<div>\n",
       "<style scoped>\n",
       "    .dataframe tbody tr th:only-of-type {\n",
       "        vertical-align: middle;\n",
       "    }\n",
       "\n",
       "    .dataframe tbody tr th {\n",
       "        vertical-align: top;\n",
       "    }\n",
       "\n",
       "    .dataframe thead th {\n",
       "        text-align: right;\n",
       "    }\n",
       "</style>\n",
       "<table border=\"1\" class=\"dataframe\">\n",
       "  <thead>\n",
       "    <tr style=\"text-align: right;\">\n",
       "      <th></th>\n",
       "      <th>id</th>\n",
       "      <th>X_Minimum</th>\n",
       "      <th>X_Maximum</th>\n",
       "      <th>Y_Minimum</th>\n",
       "      <th>Y_Maximum</th>\n",
       "      <th>Pixels_Areas</th>\n",
       "      <th>X_Perimeter</th>\n",
       "      <th>Y_Perimeter</th>\n",
       "      <th>Sum_of_Luminosity</th>\n",
       "      <th>Minimum_of_Luminosity</th>\n",
       "      <th>...</th>\n",
       "      <th>Orientation_Index</th>\n",
       "      <th>Luminosity_Index</th>\n",
       "      <th>SigmoidOfAreas</th>\n",
       "      <th>Pastry</th>\n",
       "      <th>Z_Scratch</th>\n",
       "      <th>K_Scatch</th>\n",
       "      <th>Stains</th>\n",
       "      <th>Dirtiness</th>\n",
       "      <th>Bumps</th>\n",
       "      <th>Other_Faults</th>\n",
       "    </tr>\n",
       "  </thead>\n",
       "  <tbody>\n",
       "    <tr>\n",
       "      <th>0</th>\n",
       "      <td>0</td>\n",
       "      <td>584</td>\n",
       "      <td>590</td>\n",
       "      <td>909972</td>\n",
       "      <td>909977</td>\n",
       "      <td>16</td>\n",
       "      <td>8</td>\n",
       "      <td>5</td>\n",
       "      <td>2274</td>\n",
       "      <td>113</td>\n",
       "      <td>...</td>\n",
       "      <td>-0.5000</td>\n",
       "      <td>-0.0104</td>\n",
       "      <td>0.1417</td>\n",
       "      <td>0</td>\n",
       "      <td>0</td>\n",
       "      <td>0</td>\n",
       "      <td>1</td>\n",
       "      <td>0</td>\n",
       "      <td>0</td>\n",
       "      <td>0</td>\n",
       "    </tr>\n",
       "    <tr>\n",
       "      <th>1</th>\n",
       "      <td>1</td>\n",
       "      <td>808</td>\n",
       "      <td>816</td>\n",
       "      <td>728350</td>\n",
       "      <td>728372</td>\n",
       "      <td>433</td>\n",
       "      <td>20</td>\n",
       "      <td>54</td>\n",
       "      <td>44478</td>\n",
       "      <td>70</td>\n",
       "      <td>...</td>\n",
       "      <td>0.7419</td>\n",
       "      <td>-0.2997</td>\n",
       "      <td>0.9491</td>\n",
       "      <td>0</td>\n",
       "      <td>0</td>\n",
       "      <td>0</td>\n",
       "      <td>0</td>\n",
       "      <td>0</td>\n",
       "      <td>0</td>\n",
       "      <td>1</td>\n",
       "    </tr>\n",
       "    <tr>\n",
       "      <th>2</th>\n",
       "      <td>2</td>\n",
       "      <td>39</td>\n",
       "      <td>192</td>\n",
       "      <td>2212076</td>\n",
       "      <td>2212144</td>\n",
       "      <td>11388</td>\n",
       "      <td>705</td>\n",
       "      <td>420</td>\n",
       "      <td>1311391</td>\n",
       "      <td>29</td>\n",
       "      <td>...</td>\n",
       "      <td>-0.0105</td>\n",
       "      <td>-0.0944</td>\n",
       "      <td>1.0000</td>\n",
       "      <td>0</td>\n",
       "      <td>0</td>\n",
       "      <td>1</td>\n",
       "      <td>0</td>\n",
       "      <td>0</td>\n",
       "      <td>0</td>\n",
       "      <td>0</td>\n",
       "    </tr>\n",
       "    <tr>\n",
       "      <th>3</th>\n",
       "      <td>3</td>\n",
       "      <td>781</td>\n",
       "      <td>789</td>\n",
       "      <td>3353146</td>\n",
       "      <td>3353173</td>\n",
       "      <td>210</td>\n",
       "      <td>16</td>\n",
       "      <td>29</td>\n",
       "      <td>3202</td>\n",
       "      <td>114</td>\n",
       "      <td>...</td>\n",
       "      <td>0.6667</td>\n",
       "      <td>-0.0402</td>\n",
       "      <td>0.4025</td>\n",
       "      <td>0</td>\n",
       "      <td>0</td>\n",
       "      <td>1</td>\n",
       "      <td>0</td>\n",
       "      <td>0</td>\n",
       "      <td>0</td>\n",
       "      <td>0</td>\n",
       "    </tr>\n",
       "    <tr>\n",
       "      <th>4</th>\n",
       "      <td>4</td>\n",
       "      <td>1540</td>\n",
       "      <td>1560</td>\n",
       "      <td>618457</td>\n",
       "      <td>618502</td>\n",
       "      <td>521</td>\n",
       "      <td>72</td>\n",
       "      <td>67</td>\n",
       "      <td>48231</td>\n",
       "      <td>82</td>\n",
       "      <td>...</td>\n",
       "      <td>0.9158</td>\n",
       "      <td>-0.2455</td>\n",
       "      <td>0.9998</td>\n",
       "      <td>0</td>\n",
       "      <td>0</td>\n",
       "      <td>0</td>\n",
       "      <td>0</td>\n",
       "      <td>0</td>\n",
       "      <td>0</td>\n",
       "      <td>1</td>\n",
       "    </tr>\n",
       "  </tbody>\n",
       "</table>\n",
       "<p>5 rows × 35 columns</p>\n",
       "</div>"
      ],
      "text/plain": [
       "   id  X_Minimum  X_Maximum  Y_Minimum  Y_Maximum  Pixels_Areas  X_Perimeter  \\\n",
       "0   0        584        590     909972     909977            16            8   \n",
       "1   1        808        816     728350     728372           433           20   \n",
       "2   2         39        192    2212076    2212144         11388          705   \n",
       "3   3        781        789    3353146    3353173           210           16   \n",
       "4   4       1540       1560     618457     618502           521           72   \n",
       "\n",
       "   Y_Perimeter  Sum_of_Luminosity  Minimum_of_Luminosity  ...  \\\n",
       "0            5               2274                    113  ...   \n",
       "1           54              44478                     70  ...   \n",
       "2          420            1311391                     29  ...   \n",
       "3           29               3202                    114  ...   \n",
       "4           67              48231                     82  ...   \n",
       "\n",
       "   Orientation_Index  Luminosity_Index  SigmoidOfAreas  Pastry  Z_Scratch  \\\n",
       "0            -0.5000           -0.0104          0.1417       0          0   \n",
       "1             0.7419           -0.2997          0.9491       0          0   \n",
       "2            -0.0105           -0.0944          1.0000       0          0   \n",
       "3             0.6667           -0.0402          0.4025       0          0   \n",
       "4             0.9158           -0.2455          0.9998       0          0   \n",
       "\n",
       "   K_Scatch  Stains  Dirtiness  Bumps  Other_Faults  \n",
       "0         0       1          0      0             0  \n",
       "1         0       0          0      0             1  \n",
       "2         1       0          0      0             0  \n",
       "3         1       0          0      0             0  \n",
       "4         0       0          0      0             1  \n",
       "\n",
       "[5 rows x 35 columns]"
      ]
     },
     "execution_count": 2,
     "metadata": {},
     "output_type": "execute_result"
    }
   ],
   "source": [
    "df = pd.read_csv('./../data/SteelPlant.csv')\n",
    "df.head()"
   ]
  },
  {
   "cell_type": "code",
   "execution_count": 3,
   "id": "2c3c8a45",
   "metadata": {},
   "outputs": [
    {
     "name": "stdout",
     "output_type": "stream",
     "text": [
      "<class 'pandas.core.frame.DataFrame'>\n",
      "RangeIndex: 19219 entries, 0 to 19218\n",
      "Data columns (total 35 columns):\n",
      " #   Column                 Non-Null Count  Dtype  \n",
      "---  ------                 --------------  -----  \n",
      " 0   id                     19219 non-null  int64  \n",
      " 1   X_Minimum              19219 non-null  int64  \n",
      " 2   X_Maximum              19219 non-null  int64  \n",
      " 3   Y_Minimum              19219 non-null  int64  \n",
      " 4   Y_Maximum              19219 non-null  int64  \n",
      " 5   Pixels_Areas           19219 non-null  int64  \n",
      " 6   X_Perimeter            19219 non-null  int64  \n",
      " 7   Y_Perimeter            19219 non-null  int64  \n",
      " 8   Sum_of_Luminosity      19219 non-null  int64  \n",
      " 9   Minimum_of_Luminosity  19219 non-null  int64  \n",
      " 10  Maximum_of_Luminosity  19219 non-null  int64  \n",
      " 11  Length_of_Conveyer     19219 non-null  int64  \n",
      " 12  TypeOfSteel_A300       19219 non-null  int64  \n",
      " 13  TypeOfSteel_A400       19219 non-null  int64  \n",
      " 14  Steel_Plate_Thickness  19219 non-null  int64  \n",
      " 15  Edges_Index            19219 non-null  float64\n",
      " 16  Empty_Index            19219 non-null  float64\n",
      " 17  Square_Index           19219 non-null  float64\n",
      " 18  Outside_X_Index        19219 non-null  float64\n",
      " 19  Edges_X_Index          19219 non-null  float64\n",
      " 20  Edges_Y_Index          19219 non-null  float64\n",
      " 21  Outside_Global_Index   19219 non-null  float64\n",
      " 22  LogOfAreas             19219 non-null  float64\n",
      " 23  Log_X_Index            19219 non-null  float64\n",
      " 24  Log_Y_Index            19219 non-null  float64\n",
      " 25  Orientation_Index      19219 non-null  float64\n",
      " 26  Luminosity_Index       19219 non-null  float64\n",
      " 27  SigmoidOfAreas         19219 non-null  float64\n",
      " 28  Pastry                 19219 non-null  int64  \n",
      " 29  Z_Scratch              19219 non-null  int64  \n",
      " 30  K_Scatch               19219 non-null  int64  \n",
      " 31  Stains                 19219 non-null  int64  \n",
      " 32  Dirtiness              19219 non-null  int64  \n",
      " 33  Bumps                  19219 non-null  int64  \n",
      " 34  Other_Faults           19219 non-null  int64  \n",
      "dtypes: float64(13), int64(22)\n",
      "memory usage: 5.1 MB\n"
     ]
    }
   ],
   "source": [
    "df.info()"
   ]
  },
  {
   "cell_type": "code",
   "execution_count": 5,
   "id": "ebd7bf64",
   "metadata": {},
   "outputs": [
    {
     "data": {
      "text/plain": [
       "Other_Faults\n",
       "0    12661\n",
       "1     6558\n",
       "Name: count, dtype: int64"
      ]
     },
     "execution_count": 5,
     "metadata": {},
     "output_type": "execute_result"
    }
   ],
   "source": [
    "df['Other_Faults'].value_counts()"
   ]
  },
  {
   "cell_type": "code",
   "execution_count": 5,
   "id": "25e3b067",
   "metadata": {},
   "outputs": [],
   "source": [
    "# unbalcanced data"
   ]
  },
  {
   "cell_type": "code",
   "execution_count": 6,
   "id": "71a09c60",
   "metadata": {},
   "outputs": [
    {
     "data": {
      "text/plain": [
       "Pastry          2\n",
       "Z_Scratch       2\n",
       "K_Scatch        2\n",
       "Stains          2\n",
       "Dirtiness       2\n",
       "Bumps           2\n",
       "Other_Faults    2\n",
       "dtype: int64"
      ]
     },
     "execution_count": 6,
     "metadata": {},
     "output_type": "execute_result"
    }
   ],
   "source": [
    "fault_types = ['Pastry', 'Z_Scratch', 'K_Scatch', 'Stains', 'Dirtiness', 'Bumps', 'Other_Faults']\n",
    "df[fault_types].nunique()"
   ]
  },
  {
   "cell_type": "code",
   "execution_count": 7,
   "id": "6156d6ed",
   "metadata": {},
   "outputs": [
    {
     "data": {
      "text/html": [
       "<div>\n",
       "<style scoped>\n",
       "    .dataframe tbody tr th:only-of-type {\n",
       "        vertical-align: middle;\n",
       "    }\n",
       "\n",
       "    .dataframe tbody tr th {\n",
       "        vertical-align: top;\n",
       "    }\n",
       "\n",
       "    .dataframe thead th {\n",
       "        text-align: right;\n",
       "    }\n",
       "</style>\n",
       "<table border=\"1\" class=\"dataframe\">\n",
       "  <thead>\n",
       "    <tr style=\"text-align: right;\">\n",
       "      <th></th>\n",
       "      <th>Pastry</th>\n",
       "      <th>Z_Scratch</th>\n",
       "      <th>K_Scatch</th>\n",
       "      <th>Stains</th>\n",
       "      <th>Dirtiness</th>\n",
       "      <th>Bumps</th>\n",
       "      <th>Other_Faults</th>\n",
       "    </tr>\n",
       "  </thead>\n",
       "  <tbody>\n",
       "    <tr>\n",
       "      <th>0</th>\n",
       "      <td>0</td>\n",
       "      <td>0</td>\n",
       "      <td>0</td>\n",
       "      <td>1</td>\n",
       "      <td>0</td>\n",
       "      <td>0</td>\n",
       "      <td>0</td>\n",
       "    </tr>\n",
       "    <tr>\n",
       "      <th>1</th>\n",
       "      <td>0</td>\n",
       "      <td>0</td>\n",
       "      <td>0</td>\n",
       "      <td>0</td>\n",
       "      <td>0</td>\n",
       "      <td>0</td>\n",
       "      <td>1</td>\n",
       "    </tr>\n",
       "    <tr>\n",
       "      <th>2</th>\n",
       "      <td>0</td>\n",
       "      <td>0</td>\n",
       "      <td>1</td>\n",
       "      <td>0</td>\n",
       "      <td>0</td>\n",
       "      <td>0</td>\n",
       "      <td>0</td>\n",
       "    </tr>\n",
       "    <tr>\n",
       "      <th>3</th>\n",
       "      <td>0</td>\n",
       "      <td>0</td>\n",
       "      <td>1</td>\n",
       "      <td>0</td>\n",
       "      <td>0</td>\n",
       "      <td>0</td>\n",
       "      <td>0</td>\n",
       "    </tr>\n",
       "    <tr>\n",
       "      <th>4</th>\n",
       "      <td>0</td>\n",
       "      <td>0</td>\n",
       "      <td>0</td>\n",
       "      <td>0</td>\n",
       "      <td>0</td>\n",
       "      <td>0</td>\n",
       "      <td>1</td>\n",
       "    </tr>\n",
       "    <tr>\n",
       "      <th>5</th>\n",
       "      <td>0</td>\n",
       "      <td>0</td>\n",
       "      <td>0</td>\n",
       "      <td>0</td>\n",
       "      <td>0</td>\n",
       "      <td>0</td>\n",
       "      <td>1</td>\n",
       "    </tr>\n",
       "    <tr>\n",
       "      <th>6</th>\n",
       "      <td>0</td>\n",
       "      <td>0</td>\n",
       "      <td>0</td>\n",
       "      <td>0</td>\n",
       "      <td>0</td>\n",
       "      <td>1</td>\n",
       "      <td>0</td>\n",
       "    </tr>\n",
       "    <tr>\n",
       "      <th>7</th>\n",
       "      <td>1</td>\n",
       "      <td>0</td>\n",
       "      <td>0</td>\n",
       "      <td>0</td>\n",
       "      <td>0</td>\n",
       "      <td>0</td>\n",
       "      <td>0</td>\n",
       "    </tr>\n",
       "    <tr>\n",
       "      <th>8</th>\n",
       "      <td>0</td>\n",
       "      <td>0</td>\n",
       "      <td>0</td>\n",
       "      <td>0</td>\n",
       "      <td>0</td>\n",
       "      <td>0</td>\n",
       "      <td>0</td>\n",
       "    </tr>\n",
       "    <tr>\n",
       "      <th>9</th>\n",
       "      <td>0</td>\n",
       "      <td>0</td>\n",
       "      <td>0</td>\n",
       "      <td>0</td>\n",
       "      <td>0</td>\n",
       "      <td>1</td>\n",
       "      <td>0</td>\n",
       "    </tr>\n",
       "  </tbody>\n",
       "</table>\n",
       "</div>"
      ],
      "text/plain": [
       "   Pastry  Z_Scratch  K_Scatch  Stains  Dirtiness  Bumps  Other_Faults\n",
       "0       0          0         0       1          0      0             0\n",
       "1       0          0         0       0          0      0             1\n",
       "2       0          0         1       0          0      0             0\n",
       "3       0          0         1       0          0      0             0\n",
       "4       0          0         0       0          0      0             1\n",
       "5       0          0         0       0          0      0             1\n",
       "6       0          0         0       0          0      1             0\n",
       "7       1          0         0       0          0      0             0\n",
       "8       0          0         0       0          0      0             0\n",
       "9       0          0         0       0          0      1             0"
      ]
     },
     "execution_count": 7,
     "metadata": {},
     "output_type": "execute_result"
    }
   ],
   "source": [
    "df[fault_types].head(10)"
   ]
  },
  {
   "cell_type": "code",
   "execution_count": 8,
   "id": "c7947f96",
   "metadata": {},
   "outputs": [],
   "source": [
    "df['Target'] = df[fault_types].idxmax(axis=1)"
   ]
  },
  {
   "cell_type": "code",
   "execution_count": 9,
   "id": "83e63cb7",
   "metadata": {},
   "outputs": [
    {
     "data": {
      "text/html": [
       "<div>\n",
       "<style scoped>\n",
       "    .dataframe tbody tr th:only-of-type {\n",
       "        vertical-align: middle;\n",
       "    }\n",
       "\n",
       "    .dataframe tbody tr th {\n",
       "        vertical-align: top;\n",
       "    }\n",
       "\n",
       "    .dataframe thead th {\n",
       "        text-align: right;\n",
       "    }\n",
       "</style>\n",
       "<table border=\"1\" class=\"dataframe\">\n",
       "  <thead>\n",
       "    <tr style=\"text-align: right;\">\n",
       "      <th></th>\n",
       "      <th>id</th>\n",
       "      <th>X_Minimum</th>\n",
       "      <th>X_Maximum</th>\n",
       "      <th>Y_Minimum</th>\n",
       "      <th>Y_Maximum</th>\n",
       "      <th>Pixels_Areas</th>\n",
       "      <th>X_Perimeter</th>\n",
       "      <th>Y_Perimeter</th>\n",
       "      <th>Sum_of_Luminosity</th>\n",
       "      <th>Minimum_of_Luminosity</th>\n",
       "      <th>...</th>\n",
       "      <th>Luminosity_Index</th>\n",
       "      <th>SigmoidOfAreas</th>\n",
       "      <th>Pastry</th>\n",
       "      <th>Z_Scratch</th>\n",
       "      <th>K_Scatch</th>\n",
       "      <th>Stains</th>\n",
       "      <th>Dirtiness</th>\n",
       "      <th>Bumps</th>\n",
       "      <th>Other_Faults</th>\n",
       "      <th>Target</th>\n",
       "    </tr>\n",
       "  </thead>\n",
       "  <tbody>\n",
       "    <tr>\n",
       "      <th>0</th>\n",
       "      <td>0</td>\n",
       "      <td>584</td>\n",
       "      <td>590</td>\n",
       "      <td>909972</td>\n",
       "      <td>909977</td>\n",
       "      <td>16</td>\n",
       "      <td>8</td>\n",
       "      <td>5</td>\n",
       "      <td>2274</td>\n",
       "      <td>113</td>\n",
       "      <td>...</td>\n",
       "      <td>-0.0104</td>\n",
       "      <td>0.1417</td>\n",
       "      <td>0</td>\n",
       "      <td>0</td>\n",
       "      <td>0</td>\n",
       "      <td>1</td>\n",
       "      <td>0</td>\n",
       "      <td>0</td>\n",
       "      <td>0</td>\n",
       "      <td>Stains</td>\n",
       "    </tr>\n",
       "    <tr>\n",
       "      <th>1</th>\n",
       "      <td>1</td>\n",
       "      <td>808</td>\n",
       "      <td>816</td>\n",
       "      <td>728350</td>\n",
       "      <td>728372</td>\n",
       "      <td>433</td>\n",
       "      <td>20</td>\n",
       "      <td>54</td>\n",
       "      <td>44478</td>\n",
       "      <td>70</td>\n",
       "      <td>...</td>\n",
       "      <td>-0.2997</td>\n",
       "      <td>0.9491</td>\n",
       "      <td>0</td>\n",
       "      <td>0</td>\n",
       "      <td>0</td>\n",
       "      <td>0</td>\n",
       "      <td>0</td>\n",
       "      <td>0</td>\n",
       "      <td>1</td>\n",
       "      <td>Other_Faults</td>\n",
       "    </tr>\n",
       "    <tr>\n",
       "      <th>2</th>\n",
       "      <td>2</td>\n",
       "      <td>39</td>\n",
       "      <td>192</td>\n",
       "      <td>2212076</td>\n",
       "      <td>2212144</td>\n",
       "      <td>11388</td>\n",
       "      <td>705</td>\n",
       "      <td>420</td>\n",
       "      <td>1311391</td>\n",
       "      <td>29</td>\n",
       "      <td>...</td>\n",
       "      <td>-0.0944</td>\n",
       "      <td>1.0000</td>\n",
       "      <td>0</td>\n",
       "      <td>0</td>\n",
       "      <td>1</td>\n",
       "      <td>0</td>\n",
       "      <td>0</td>\n",
       "      <td>0</td>\n",
       "      <td>0</td>\n",
       "      <td>K_Scatch</td>\n",
       "    </tr>\n",
       "    <tr>\n",
       "      <th>3</th>\n",
       "      <td>3</td>\n",
       "      <td>781</td>\n",
       "      <td>789</td>\n",
       "      <td>3353146</td>\n",
       "      <td>3353173</td>\n",
       "      <td>210</td>\n",
       "      <td>16</td>\n",
       "      <td>29</td>\n",
       "      <td>3202</td>\n",
       "      <td>114</td>\n",
       "      <td>...</td>\n",
       "      <td>-0.0402</td>\n",
       "      <td>0.4025</td>\n",
       "      <td>0</td>\n",
       "      <td>0</td>\n",
       "      <td>1</td>\n",
       "      <td>0</td>\n",
       "      <td>0</td>\n",
       "      <td>0</td>\n",
       "      <td>0</td>\n",
       "      <td>K_Scatch</td>\n",
       "    </tr>\n",
       "    <tr>\n",
       "      <th>4</th>\n",
       "      <td>4</td>\n",
       "      <td>1540</td>\n",
       "      <td>1560</td>\n",
       "      <td>618457</td>\n",
       "      <td>618502</td>\n",
       "      <td>521</td>\n",
       "      <td>72</td>\n",
       "      <td>67</td>\n",
       "      <td>48231</td>\n",
       "      <td>82</td>\n",
       "      <td>...</td>\n",
       "      <td>-0.2455</td>\n",
       "      <td>0.9998</td>\n",
       "      <td>0</td>\n",
       "      <td>0</td>\n",
       "      <td>0</td>\n",
       "      <td>0</td>\n",
       "      <td>0</td>\n",
       "      <td>0</td>\n",
       "      <td>1</td>\n",
       "      <td>Other_Faults</td>\n",
       "    </tr>\n",
       "    <tr>\n",
       "      <th>...</th>\n",
       "      <td>...</td>\n",
       "      <td>...</td>\n",
       "      <td>...</td>\n",
       "      <td>...</td>\n",
       "      <td>...</td>\n",
       "      <td>...</td>\n",
       "      <td>...</td>\n",
       "      <td>...</td>\n",
       "      <td>...</td>\n",
       "      <td>...</td>\n",
       "      <td>...</td>\n",
       "      <td>...</td>\n",
       "      <td>...</td>\n",
       "      <td>...</td>\n",
       "      <td>...</td>\n",
       "      <td>...</td>\n",
       "      <td>...</td>\n",
       "      <td>...</td>\n",
       "      <td>...</td>\n",
       "      <td>...</td>\n",
       "      <td>...</td>\n",
       "    </tr>\n",
       "    <tr>\n",
       "      <th>19214</th>\n",
       "      <td>19214</td>\n",
       "      <td>749</td>\n",
       "      <td>757</td>\n",
       "      <td>143210</td>\n",
       "      <td>143219</td>\n",
       "      <td>17</td>\n",
       "      <td>4</td>\n",
       "      <td>4</td>\n",
       "      <td>2193</td>\n",
       "      <td>122</td>\n",
       "      <td>...</td>\n",
       "      <td>0.0044</td>\n",
       "      <td>0.2901</td>\n",
       "      <td>0</td>\n",
       "      <td>0</td>\n",
       "      <td>0</td>\n",
       "      <td>1</td>\n",
       "      <td>0</td>\n",
       "      <td>0</td>\n",
       "      <td>0</td>\n",
       "      <td>Stains</td>\n",
       "    </tr>\n",
       "    <tr>\n",
       "      <th>19215</th>\n",
       "      <td>19215</td>\n",
       "      <td>723</td>\n",
       "      <td>735</td>\n",
       "      <td>2488529</td>\n",
       "      <td>2488541</td>\n",
       "      <td>231</td>\n",
       "      <td>17</td>\n",
       "      <td>26</td>\n",
       "      <td>27135</td>\n",
       "      <td>104</td>\n",
       "      <td>...</td>\n",
       "      <td>-0.0989</td>\n",
       "      <td>0.5378</td>\n",
       "      <td>0</td>\n",
       "      <td>0</td>\n",
       "      <td>0</td>\n",
       "      <td>0</td>\n",
       "      <td>0</td>\n",
       "      <td>0</td>\n",
       "      <td>1</td>\n",
       "      <td>Other_Faults</td>\n",
       "    </tr>\n",
       "    <tr>\n",
       "      <th>19216</th>\n",
       "      <td>19216</td>\n",
       "      <td>6</td>\n",
       "      <td>31</td>\n",
       "      <td>1578055</td>\n",
       "      <td>1578129</td>\n",
       "      <td>780</td>\n",
       "      <td>114</td>\n",
       "      <td>98</td>\n",
       "      <td>71112</td>\n",
       "      <td>41</td>\n",
       "      <td>...</td>\n",
       "      <td>-0.4283</td>\n",
       "      <td>0.9997</td>\n",
       "      <td>1</td>\n",
       "      <td>0</td>\n",
       "      <td>0</td>\n",
       "      <td>0</td>\n",
       "      <td>0</td>\n",
       "      <td>0</td>\n",
       "      <td>0</td>\n",
       "      <td>Pastry</td>\n",
       "    </tr>\n",
       "    <tr>\n",
       "      <th>19217</th>\n",
       "      <td>19217</td>\n",
       "      <td>9</td>\n",
       "      <td>18</td>\n",
       "      <td>1713172</td>\n",
       "      <td>1713184</td>\n",
       "      <td>126</td>\n",
       "      <td>13</td>\n",
       "      <td>26</td>\n",
       "      <td>14808</td>\n",
       "      <td>88</td>\n",
       "      <td>...</td>\n",
       "      <td>-0.1162</td>\n",
       "      <td>0.3509</td>\n",
       "      <td>0</td>\n",
       "      <td>0</td>\n",
       "      <td>0</td>\n",
       "      <td>0</td>\n",
       "      <td>0</td>\n",
       "      <td>0</td>\n",
       "      <td>1</td>\n",
       "      <td>Other_Faults</td>\n",
       "    </tr>\n",
       "    <tr>\n",
       "      <th>19218</th>\n",
       "      <td>19218</td>\n",
       "      <td>1505</td>\n",
       "      <td>1525</td>\n",
       "      <td>1733458</td>\n",
       "      <td>1733471</td>\n",
       "      <td>182</td>\n",
       "      <td>24</td>\n",
       "      <td>33</td>\n",
       "      <td>22785</td>\n",
       "      <td>98</td>\n",
       "      <td>...</td>\n",
       "      <td>-0.1120</td>\n",
       "      <td>0.6619</td>\n",
       "      <td>0</td>\n",
       "      <td>0</td>\n",
       "      <td>0</td>\n",
       "      <td>0</td>\n",
       "      <td>0</td>\n",
       "      <td>1</td>\n",
       "      <td>0</td>\n",
       "      <td>Bumps</td>\n",
       "    </tr>\n",
       "  </tbody>\n",
       "</table>\n",
       "<p>19219 rows × 36 columns</p>\n",
       "</div>"
      ],
      "text/plain": [
       "          id  X_Minimum  X_Maximum  Y_Minimum  Y_Maximum  Pixels_Areas  \\\n",
       "0          0        584        590     909972     909977            16   \n",
       "1          1        808        816     728350     728372           433   \n",
       "2          2         39        192    2212076    2212144         11388   \n",
       "3          3        781        789    3353146    3353173           210   \n",
       "4          4       1540       1560     618457     618502           521   \n",
       "...      ...        ...        ...        ...        ...           ...   \n",
       "19214  19214        749        757     143210     143219            17   \n",
       "19215  19215        723        735    2488529    2488541           231   \n",
       "19216  19216          6         31    1578055    1578129           780   \n",
       "19217  19217          9         18    1713172    1713184           126   \n",
       "19218  19218       1505       1525    1733458    1733471           182   \n",
       "\n",
       "       X_Perimeter  Y_Perimeter  Sum_of_Luminosity  Minimum_of_Luminosity  \\\n",
       "0                8            5               2274                    113   \n",
       "1               20           54              44478                     70   \n",
       "2              705          420            1311391                     29   \n",
       "3               16           29               3202                    114   \n",
       "4               72           67              48231                     82   \n",
       "...            ...          ...                ...                    ...   \n",
       "19214            4            4               2193                    122   \n",
       "19215           17           26              27135                    104   \n",
       "19216          114           98              71112                     41   \n",
       "19217           13           26              14808                     88   \n",
       "19218           24           33              22785                     98   \n",
       "\n",
       "       ...  Luminosity_Index  SigmoidOfAreas  Pastry  Z_Scratch  K_Scatch  \\\n",
       "0      ...           -0.0104          0.1417       0          0         0   \n",
       "1      ...           -0.2997          0.9491       0          0         0   \n",
       "2      ...           -0.0944          1.0000       0          0         1   \n",
       "3      ...           -0.0402          0.4025       0          0         1   \n",
       "4      ...           -0.2455          0.9998       0          0         0   \n",
       "...    ...               ...             ...     ...        ...       ...   \n",
       "19214  ...            0.0044          0.2901       0          0         0   \n",
       "19215  ...           -0.0989          0.5378       0          0         0   \n",
       "19216  ...           -0.4283          0.9997       1          0         0   \n",
       "19217  ...           -0.1162          0.3509       0          0         0   \n",
       "19218  ...           -0.1120          0.6619       0          0         0   \n",
       "\n",
       "       Stains  Dirtiness  Bumps  Other_Faults        Target  \n",
       "0           1          0      0             0        Stains  \n",
       "1           0          0      0             1  Other_Faults  \n",
       "2           0          0      0             0      K_Scatch  \n",
       "3           0          0      0             0      K_Scatch  \n",
       "4           0          0      0             1  Other_Faults  \n",
       "...       ...        ...    ...           ...           ...  \n",
       "19214       1          0      0             0        Stains  \n",
       "19215       0          0      0             1  Other_Faults  \n",
       "19216       0          0      0             0        Pastry  \n",
       "19217       0          0      0             1  Other_Faults  \n",
       "19218       0          0      1             0         Bumps  \n",
       "\n",
       "[19219 rows x 36 columns]"
      ]
     },
     "execution_count": 9,
     "metadata": {},
     "output_type": "execute_result"
    }
   ],
   "source": [
    "df"
   ]
  },
  {
   "cell_type": "markdown",
   "id": "46d22838",
   "metadata": {},
   "source": [
    "- Pastry: Small patches or irregularities on the steel plate surface.\n",
    "- Z_Scratch: Narrow scratches on the surface running parallel to the rolling direction.\n",
    "- K_Scratch: Scratches similar to Z-scratch but perpendicular to the rolling direction.\n",
    "- Stains: Discolored areas indicating contamination.\n",
    "- Dirtiness: Presence of dirt or particulate matter on the surface.\n",
    "- Bumps: Protruding areas on the surface of the steel plate.\n",
    "- Other_Faults: A catch-all category for faults not classified elsewhere."
   ]
  },
  {
   "cell_type": "code",
   "execution_count": 10,
   "id": "62f61794",
   "metadata": {},
   "outputs": [
    {
     "data": {
      "text/plain": [
       "Target\n",
       "Other_Faults    0.340288\n",
       "Bumps           0.247724\n",
       "K_Scatch        0.178521\n",
       "Pastry          0.118841\n",
       "Z_Scratch       0.059837\n",
       "Stains          0.029554\n",
       "Dirtiness       0.025235\n",
       "Name: proportion, dtype: float64"
      ]
     },
     "execution_count": 10,
     "metadata": {},
     "output_type": "execute_result"
    }
   ],
   "source": [
    "# Calculate the probability of each category\n",
    "probabilities = df['Target'].value_counts(normalize=True)\n",
    "probabilities"
   ]
  },
  {
   "cell_type": "code",
   "execution_count": 11,
   "id": "e3a05d06",
   "metadata": {},
   "outputs": [
    {
     "data": {
      "text/plain": [
       "2.364097425566414"
      ]
     },
     "execution_count": 11,
     "metadata": {},
     "output_type": "execute_result"
    }
   ],
   "source": [
    "# Calculate entropy using the formula\n",
    "entropy = -np.sum(probabilities * np.log2(probabilities))\n",
    "entropy"
   ]
  },
  {
   "cell_type": "code",
   "execution_count": 13,
   "id": "19ccf12d",
   "metadata": {},
   "outputs": [
    {
     "name": "stdout",
     "output_type": "stream",
     "text": [
      "The root entropy is: 2.36\n"
     ]
    }
   ],
   "source": [
    "import numpy as np\n",
    "\n",
    "fault_types = ['Pastry', 'Z_Scratch', 'K_Scatch', 'Stains', 'Dirtiness', 'Bumps', 'Other_Faults']\n",
    "df['Target'] = df[fault_types].idxmax(axis=1)\n",
    "\n",
    "# Function to calculate entropy\n",
    "def entropy_calc(y):\n",
    "    p = y.value_counts(normalize=True).to_numpy()\n",
    "    entropies = -p * np.log2(p)  # Using log base 2 for entropy calculation\n",
    "    return round(np.sum(entropies), 2)\n",
    "\n",
    "# Calculate root entropy\n",
    "root_entropy = entropy_calc(df['Target'])\n",
    "print(f\"The root entropy is: {root_entropy}\")"
   ]
  },
  {
   "cell_type": "code",
   "execution_count": 14,
   "id": "db54f1e7",
   "metadata": {},
   "outputs": [
    {
     "data": {
      "text/plain": [
       "<Axes: xlabel='Target'>"
      ]
     },
     "execution_count": 14,
     "metadata": {},
     "output_type": "execute_result"
    },
    {
     "data": {
      "image/png": "[encoded data removed]",
      "text/plain": [
       "<Figure size 640x480 with 1 Axes>"
      ]
     },
     "metadata": {},
     "output_type": "display_data"
    }
   ],
   "source": [
    "df['Target'].value_counts().plot(kind='bar')"
   ]
  },
  {
   "cell_type": "code",
   "execution_count": 15,
   "id": "37e4a211",
   "metadata": {},
   "outputs": [],
   "source": [
    "X = df[['Pixels_Areas', 'SigmoidOfAreas']]\n",
    "y = df.Target"
   ]
  },
  {
   "cell_type": "code",
   "execution_count": 16,
   "id": "5a46477b",
   "metadata": {},
   "outputs": [],
   "source": [
    "X_train, X_test, y_train, y_test = train_test_split(X, y)"
   ]
  },
  {
   "cell_type": "code",
   "execution_count": 17,
   "id": "4b0a6db2",
   "metadata": {},
   "outputs": [
    {
     "name": "stdout",
     "output_type": "stream",
     "text": [
      "(14414, 2)\n",
      "(4805, 2)\n",
      "(14414,)\n",
      "(4805,)\n"
     ]
    }
   ],
   "source": [
    "print(X_train.shape)\n",
    "print(X_test.shape)\n",
    "print(y_train.shape)\n",
    "print(y_test.shape) "
   ]
  },
  {
   "cell_type": "code",
   "execution_count": 18,
   "id": "2afa4872",
   "metadata": {},
   "outputs": [],
   "source": [
    "from sklearn.tree import plot_tree"
   ]
  },
  {
   "cell_type": "code",
   "execution_count": 19,
   "id": "215e57ef",
   "metadata": {},
   "outputs": [
    {
     "data": {
      "image/png": "[encoded data removed]",
      "text/plain": [
       "<Figure size 2000x500 with 1 Axes>"
      ]
     },
     "metadata": {},
     "output_type": "display_data"
    }
   ],
   "source": [
    "clf = DecisionTreeClassifier(max_depth=3, criterion='gini')\n",
    "clf.fit(X_train, y_train) \n",
    "plt.figure(figsize=(20, 5))\n",
    "tree.plot_tree(clf, feature_names=X.columns, class_names='Target', filled=True, rounded=True)\n",
    "plt.show()"
   ]
  },
  {
   "cell_type": "code",
   "execution_count": 20,
   "id": "9d13a3f7",
   "metadata": {},
   "outputs": [
    {
     "data": {
      "text/plain": [
       "-1"
      ]
     },
     "execution_count": 20,
     "metadata": {},
     "output_type": "execute_result"
    }
   ],
   "source": [
    "def gini_cal(p_p=1, p_y=1):    \n",
    "    return np.round(1 - np.sum(np.array([p_p, p_y])**2), 2)\n",
    "\n",
    "gini_cal()"
   ]
  },
  {
   "cell_type": "code",
   "execution_count": 21,
   "id": "7ef0cd0b",
   "metadata": {},
   "outputs": [],
   "source": [
    "purple = 5 \n",
    "yellow = 5 "
   ]
  },
  {
   "cell_type": "code",
   "execution_count": 22,
   "id": "a38c00f8",
   "metadata": {},
   "outputs": [
    {
     "data": {
      "text/plain": [
       "0.5"
      ]
     },
     "execution_count": 22,
     "metadata": {},
     "output_type": "execute_result"
    }
   ],
   "source": [
    "n_samples = 10\n",
    "p_p = 5/n_samples\n",
    "p_y = 5/n_samples\n",
    "\n",
    "p_gini = gini_cal( p_p = p_p, p_y = p_y)\n",
    "p_gini"
   ]
  },
  {
   "cell_type": "code",
   "execution_count": 23,
   "id": "001b85a3",
   "metadata": {},
   "outputs": [
    {
     "data": {
      "text/plain": [
       "0.0"
      ]
     },
     "execution_count": 23,
     "metadata": {},
     "output_type": "execute_result"
    }
   ],
   "source": [
    "# left\n",
    "n_samples = 4\n",
    "p_p = 4/n_samples\n",
    "p_y = 0/n_samples\n",
    "\n",
    "left_gini = gini_cal( p_p = p_p, p_y = p_y)\n",
    "left_gini"
   ]
  },
  {
   "cell_type": "code",
   "execution_count": 24,
   "id": "48887d81",
   "metadata": {},
   "outputs": [
    {
     "data": {
      "text/plain": [
       "0.28"
      ]
     },
     "execution_count": 24,
     "metadata": {},
     "output_type": "execute_result"
    }
   ],
   "source": [
    "# right \n",
    "\n",
    "n_samples = 6\n",
    "p_p = 1/n_samples\n",
    "p_y = 5/n_samples\n",
    "\n",
    "right_gini = gini_cal( p_p = p_p, p_y = p_y)\n",
    "right_gini"
   ]
  },
  {
   "cell_type": "code",
   "execution_count": 25,
   "id": "a683483a",
   "metadata": {},
   "outputs": [
    {
     "data": {
      "text/plain": [
       "0.168"
      ]
     },
     "execution_count": 25,
     "metadata": {},
     "output_type": "execute_result"
    }
   ],
   "source": [
    "wtGiniIndex = (left_gini  * 4/10) + (right_gini* 6/10)\n",
    "wtGiniIndex"
   ]
  },
  {
   "cell_type": "code",
   "execution_count": 26,
   "id": "4369d7ae",
   "metadata": {},
   "outputs": [
    {
     "data": {
      "text/plain": [
       "0.33199999999999996"
      ]
     },
     "execution_count": 26,
     "metadata": {},
     "output_type": "execute_result"
    }
   ],
   "source": [
    "p_gini - wtGiniIndex"
   ]
  },
  {
   "cell_type": "code",
   "execution_count": null,
   "id": "e02681ba",
   "metadata": {},
   "outputs": [],
   "source": []
  },
  {
   "cell_type": "code",
   "execution_count": 27,
   "id": "cdb701cb",
   "metadata": {},
   "outputs": [
    {
     "data": {
      "text/plain": [
       "0.32"
      ]
     },
     "execution_count": 27,
     "metadata": {},
     "output_type": "execute_result"
    }
   ],
   "source": [
    "## parent\n",
    "n_samples = 5\n",
    "p_c = 4/n_samples\n",
    "p_r = 1/n_samples\n",
    "\n",
    "p_gini = gini_cal( p_p = p_c, p_y = p_r)\n",
    "p_gini"
   ]
  },
  {
   "cell_type": "code",
   "execution_count": 28,
   "id": "9115ab42",
   "metadata": {},
   "outputs": [
    {
     "data": {
      "text/plain": [
       "0.5"
      ]
     },
     "execution_count": 28,
     "metadata": {},
     "output_type": "execute_result"
    }
   ],
   "source": [
    "## left\n",
    "n_samples = 2\n",
    "p_c = 1/n_samples\n",
    "p_r = 1/n_samples\n",
    "\n",
    "left_gini = gini_cal( p_p = p_c, p_y = p_r)\n",
    "left_gini"
   ]
  },
  {
   "cell_type": "code",
   "execution_count": 29,
   "id": "ef081a88",
   "metadata": {},
   "outputs": [
    {
     "data": {
      "text/plain": [
       "0.0"
      ]
     },
     "execution_count": 29,
     "metadata": {},
     "output_type": "execute_result"
    }
   ],
   "source": [
    "## left\n",
    "n_samples = 3\n",
    "p_c = 3/n_samples\n",
    "p_r = 0/n_samples\n",
    "\n",
    "right_gini = gini_cal( p_p = p_c, p_y = p_r)\n",
    "right_gini"
   ]
  },
  {
   "cell_type": "code",
   "execution_count": 30,
   "id": "c92738ef",
   "metadata": {},
   "outputs": [
    {
     "data": {
      "text/plain": [
       "0.2"
      ]
     },
     "execution_count": 30,
     "metadata": {},
     "output_type": "execute_result"
    }
   ],
   "source": [
    "wtGiniIndex = (left_gini  * 2/5) + (right_gini* 3/5)\n",
    "wtGiniIndex"
   ]
  },
  {
   "cell_type": "markdown",
   "id": "b07b8997",
   "metadata": {},
   "source": [
    "### Q2. Most Misclassified DT"
   ]
  },
  {
   "cell_type": "code",
   "execution_count": 31,
   "id": "db7b2ce9",
   "metadata": {},
   "outputs": [
    {
     "data": {
      "text/html": [
       "<div>\n",
       "<style scoped>\n",
       "    .dataframe tbody tr th:only-of-type {\n",
       "        vertical-align: middle;\n",
       "    }\n",
       "\n",
       "    .dataframe tbody tr th {\n",
       "        vertical-align: top;\n",
       "    }\n",
       "\n",
       "    .dataframe thead th {\n",
       "        text-align: right;\n",
       "    }\n",
       "</style>\n",
       "<table border=\"1\" class=\"dataframe\">\n",
       "  <thead>\n",
       "    <tr style=\"text-align: right;\">\n",
       "      <th></th>\n",
       "      <th>id</th>\n",
       "      <th>X_Minimum</th>\n",
       "      <th>X_Maximum</th>\n",
       "      <th>Y_Minimum</th>\n",
       "      <th>Y_Maximum</th>\n",
       "      <th>Pixels_Areas</th>\n",
       "      <th>X_Perimeter</th>\n",
       "      <th>Y_Perimeter</th>\n",
       "      <th>Sum_of_Luminosity</th>\n",
       "      <th>Minimum_of_Luminosity</th>\n",
       "      <th>...</th>\n",
       "      <th>Orientation_Index</th>\n",
       "      <th>Luminosity_Index</th>\n",
       "      <th>SigmoidOfAreas</th>\n",
       "      <th>Pastry</th>\n",
       "      <th>Z_Scratch</th>\n",
       "      <th>K_Scatch</th>\n",
       "      <th>Stains</th>\n",
       "      <th>Dirtiness</th>\n",
       "      <th>Bumps</th>\n",
       "      <th>Other_Faults</th>\n",
       "    </tr>\n",
       "  </thead>\n",
       "  <tbody>\n",
       "    <tr>\n",
       "      <th>0</th>\n",
       "      <td>0</td>\n",
       "      <td>584</td>\n",
       "      <td>590</td>\n",
       "      <td>909972</td>\n",
       "      <td>909977</td>\n",
       "      <td>16</td>\n",
       "      <td>8</td>\n",
       "      <td>5</td>\n",
       "      <td>2274</td>\n",
       "      <td>113</td>\n",
       "      <td>...</td>\n",
       "      <td>-0.5000</td>\n",
       "      <td>-0.0104</td>\n",
       "      <td>0.1417</td>\n",
       "      <td>0</td>\n",
       "      <td>0</td>\n",
       "      <td>0</td>\n",
       "      <td>1</td>\n",
       "      <td>0</td>\n",
       "      <td>0</td>\n",
       "      <td>0</td>\n",
       "    </tr>\n",
       "    <tr>\n",
       "      <th>1</th>\n",
       "      <td>1</td>\n",
       "      <td>808</td>\n",
       "      <td>816</td>\n",
       "      <td>728350</td>\n",
       "      <td>728372</td>\n",
       "      <td>433</td>\n",
       "      <td>20</td>\n",
       "      <td>54</td>\n",
       "      <td>44478</td>\n",
       "      <td>70</td>\n",
       "      <td>...</td>\n",
       "      <td>0.7419</td>\n",
       "      <td>-0.2997</td>\n",
       "      <td>0.9491</td>\n",
       "      <td>0</td>\n",
       "      <td>0</td>\n",
       "      <td>0</td>\n",
       "      <td>0</td>\n",
       "      <td>0</td>\n",
       "      <td>0</td>\n",
       "      <td>1</td>\n",
       "    </tr>\n",
       "    <tr>\n",
       "      <th>2</th>\n",
       "      <td>2</td>\n",
       "      <td>39</td>\n",
       "      <td>192</td>\n",
       "      <td>2212076</td>\n",
       "      <td>2212144</td>\n",
       "      <td>11388</td>\n",
       "      <td>705</td>\n",
       "      <td>420</td>\n",
       "      <td>1311391</td>\n",
       "      <td>29</td>\n",
       "      <td>...</td>\n",
       "      <td>-0.0105</td>\n",
       "      <td>-0.0944</td>\n",
       "      <td>1.0000</td>\n",
       "      <td>0</td>\n",
       "      <td>0</td>\n",
       "      <td>1</td>\n",
       "      <td>0</td>\n",
       "      <td>0</td>\n",
       "      <td>0</td>\n",
       "      <td>0</td>\n",
       "    </tr>\n",
       "    <tr>\n",
       "      <th>3</th>\n",
       "      <td>3</td>\n",
       "      <td>781</td>\n",
       "      <td>789</td>\n",
       "      <td>3353146</td>\n",
       "      <td>3353173</td>\n",
       "      <td>210</td>\n",
       "      <td>16</td>\n",
       "      <td>29</td>\n",
       "      <td>3202</td>\n",
       "      <td>114</td>\n",
       "      <td>...</td>\n",
       "      <td>0.6667</td>\n",
       "      <td>-0.0402</td>\n",
       "      <td>0.4025</td>\n",
       "      <td>0</td>\n",
       "      <td>0</td>\n",
       "      <td>1</td>\n",
       "      <td>0</td>\n",
       "      <td>0</td>\n",
       "      <td>0</td>\n",
       "      <td>0</td>\n",
       "    </tr>\n",
       "    <tr>\n",
       "      <th>4</th>\n",
       "      <td>4</td>\n",
       "      <td>1540</td>\n",
       "      <td>1560</td>\n",
       "      <td>618457</td>\n",
       "      <td>618502</td>\n",
       "      <td>521</td>\n",
       "      <td>72</td>\n",
       "      <td>67</td>\n",
       "      <td>48231</td>\n",
       "      <td>82</td>\n",
       "      <td>...</td>\n",
       "      <td>0.9158</td>\n",
       "      <td>-0.2455</td>\n",
       "      <td>0.9998</td>\n",
       "      <td>0</td>\n",
       "      <td>0</td>\n",
       "      <td>0</td>\n",
       "      <td>0</td>\n",
       "      <td>0</td>\n",
       "      <td>0</td>\n",
       "      <td>1</td>\n",
       "    </tr>\n",
       "  </tbody>\n",
       "</table>\n",
       "<p>5 rows × 35 columns</p>\n",
       "</div>"
      ],
      "text/plain": [
       "   id  X_Minimum  X_Maximum  Y_Minimum  Y_Maximum  Pixels_Areas  X_Perimeter  \\\n",
       "0   0        584        590     909972     909977            16            8   \n",
       "1   1        808        816     728350     728372           433           20   \n",
       "2   2         39        192    2212076    2212144         11388          705   \n",
       "3   3        781        789    3353146    3353173           210           16   \n",
       "4   4       1540       1560     618457     618502           521           72   \n",
       "\n",
       "   Y_Perimeter  Sum_of_Luminosity  Minimum_of_Luminosity  ...  \\\n",
       "0            5               2274                    113  ...   \n",
       "1           54              44478                     70  ...   \n",
       "2          420            1311391                     29  ...   \n",
       "3           29               3202                    114  ...   \n",
       "4           67              48231                     82  ...   \n",
       "\n",
       "   Orientation_Index  Luminosity_Index  SigmoidOfAreas  Pastry  Z_Scratch  \\\n",
       "0            -0.5000           -0.0104          0.1417       0          0   \n",
       "1             0.7419           -0.2997          0.9491       0          0   \n",
       "2            -0.0105           -0.0944          1.0000       0          0   \n",
       "3             0.6667           -0.0402          0.4025       0          0   \n",
       "4             0.9158           -0.2455          0.9998       0          0   \n",
       "\n",
       "   K_Scatch  Stains  Dirtiness  Bumps  Other_Faults  \n",
       "0         0       1          0      0             0  \n",
       "1         0       0          0      0             1  \n",
       "2         1       0          0      0             0  \n",
       "3         1       0          0      0             0  \n",
       "4         0       0          0      0             1  \n",
       "\n",
       "[5 rows x 35 columns]"
      ]
     },
     "execution_count": 31,
     "metadata": {},
     "output_type": "execute_result"
    }
   ],
   "source": [
    "df = pd.read_csv('./../data/SteelPlant.csv')\n",
    "df.head()"
   ]
  },
  {
   "cell_type": "code",
   "execution_count": 34,
   "id": "5b1dda5b",
   "metadata": {},
   "outputs": [],
   "source": [
    "fault_types = ['Pastry', 'Z_Scratch', 'K_Scatch', 'Stains', 'Dirtiness', 'Bumps', 'Other_Faults']"
   ]
  },
  {
   "cell_type": "code",
   "execution_count": 35,
   "id": "58a3559f",
   "metadata": {},
   "outputs": [],
   "source": [
    "df['Target'] = df[fault_types].idxmax(axis=1)"
   ]
  },
  {
   "cell_type": "code",
   "execution_count": 36,
   "id": "4056108e",
   "metadata": {},
   "outputs": [
    {
     "data": {
      "text/html": [
       "<div>\n",
       "<style scoped>\n",
       "    .dataframe tbody tr th:only-of-type {\n",
       "        vertical-align: middle;\n",
       "    }\n",
       "\n",
       "    .dataframe tbody tr th {\n",
       "        vertical-align: top;\n",
       "    }\n",
       "\n",
       "    .dataframe thead th {\n",
       "        text-align: right;\n",
       "    }\n",
       "</style>\n",
       "<table border=\"1\" class=\"dataframe\">\n",
       "  <thead>\n",
       "    <tr style=\"text-align: right;\">\n",
       "      <th></th>\n",
       "      <th>id</th>\n",
       "      <th>X_Minimum</th>\n",
       "      <th>X_Maximum</th>\n",
       "      <th>Y_Minimum</th>\n",
       "      <th>Y_Maximum</th>\n",
       "      <th>Pixels_Areas</th>\n",
       "      <th>X_Perimeter</th>\n",
       "      <th>Y_Perimeter</th>\n",
       "      <th>Sum_of_Luminosity</th>\n",
       "      <th>Minimum_of_Luminosity</th>\n",
       "      <th>...</th>\n",
       "      <th>Luminosity_Index</th>\n",
       "      <th>SigmoidOfAreas</th>\n",
       "      <th>Pastry</th>\n",
       "      <th>Z_Scratch</th>\n",
       "      <th>K_Scatch</th>\n",
       "      <th>Stains</th>\n",
       "      <th>Dirtiness</th>\n",
       "      <th>Bumps</th>\n",
       "      <th>Other_Faults</th>\n",
       "      <th>Target</th>\n",
       "    </tr>\n",
       "  </thead>\n",
       "  <tbody>\n",
       "    <tr>\n",
       "      <th>0</th>\n",
       "      <td>0</td>\n",
       "      <td>584</td>\n",
       "      <td>590</td>\n",
       "      <td>909972</td>\n",
       "      <td>909977</td>\n",
       "      <td>16</td>\n",
       "      <td>8</td>\n",
       "      <td>5</td>\n",
       "      <td>2274</td>\n",
       "      <td>113</td>\n",
       "      <td>...</td>\n",
       "      <td>-0.0104</td>\n",
       "      <td>0.1417</td>\n",
       "      <td>0</td>\n",
       "      <td>0</td>\n",
       "      <td>0</td>\n",
       "      <td>1</td>\n",
       "      <td>0</td>\n",
       "      <td>0</td>\n",
       "      <td>0</td>\n",
       "      <td>Stains</td>\n",
       "    </tr>\n",
       "    <tr>\n",
       "      <th>1</th>\n",
       "      <td>1</td>\n",
       "      <td>808</td>\n",
       "      <td>816</td>\n",
       "      <td>728350</td>\n",
       "      <td>728372</td>\n",
       "      <td>433</td>\n",
       "      <td>20</td>\n",
       "      <td>54</td>\n",
       "      <td>44478</td>\n",
       "      <td>70</td>\n",
       "      <td>...</td>\n",
       "      <td>-0.2997</td>\n",
       "      <td>0.9491</td>\n",
       "      <td>0</td>\n",
       "      <td>0</td>\n",
       "      <td>0</td>\n",
       "      <td>0</td>\n",
       "      <td>0</td>\n",
       "      <td>0</td>\n",
       "      <td>1</td>\n",
       "      <td>Other_Faults</td>\n",
       "    </tr>\n",
       "    <tr>\n",
       "      <th>2</th>\n",
       "      <td>2</td>\n",
       "      <td>39</td>\n",
       "      <td>192</td>\n",
       "      <td>2212076</td>\n",
       "      <td>2212144</td>\n",
       "      <td>11388</td>\n",
       "      <td>705</td>\n",
       "      <td>420</td>\n",
       "      <td>1311391</td>\n",
       "      <td>29</td>\n",
       "      <td>...</td>\n",
       "      <td>-0.0944</td>\n",
       "      <td>1.0000</td>\n",
       "      <td>0</td>\n",
       "      <td>0</td>\n",
       "      <td>1</td>\n",
       "      <td>0</td>\n",
       "      <td>0</td>\n",
       "      <td>0</td>\n",
       "      <td>0</td>\n",
       "      <td>K_Scatch</td>\n",
       "    </tr>\n",
       "    <tr>\n",
       "      <th>3</th>\n",
       "      <td>3</td>\n",
       "      <td>781</td>\n",
       "      <td>789</td>\n",
       "      <td>3353146</td>\n",
       "      <td>3353173</td>\n",
       "      <td>210</td>\n",
       "      <td>16</td>\n",
       "      <td>29</td>\n",
       "      <td>3202</td>\n",
       "      <td>114</td>\n",
       "      <td>...</td>\n",
       "      <td>-0.0402</td>\n",
       "      <td>0.4025</td>\n",
       "      <td>0</td>\n",
       "      <td>0</td>\n",
       "      <td>1</td>\n",
       "      <td>0</td>\n",
       "      <td>0</td>\n",
       "      <td>0</td>\n",
       "      <td>0</td>\n",
       "      <td>K_Scatch</td>\n",
       "    </tr>\n",
       "    <tr>\n",
       "      <th>4</th>\n",
       "      <td>4</td>\n",
       "      <td>1540</td>\n",
       "      <td>1560</td>\n",
       "      <td>618457</td>\n",
       "      <td>618502</td>\n",
       "      <td>521</td>\n",
       "      <td>72</td>\n",
       "      <td>67</td>\n",
       "      <td>48231</td>\n",
       "      <td>82</td>\n",
       "      <td>...</td>\n",
       "      <td>-0.2455</td>\n",
       "      <td>0.9998</td>\n",
       "      <td>0</td>\n",
       "      <td>0</td>\n",
       "      <td>0</td>\n",
       "      <td>0</td>\n",
       "      <td>0</td>\n",
       "      <td>0</td>\n",
       "      <td>1</td>\n",
       "      <td>Other_Faults</td>\n",
       "    </tr>\n",
       "    <tr>\n",
       "      <th>...</th>\n",
       "      <td>...</td>\n",
       "      <td>...</td>\n",
       "      <td>...</td>\n",
       "      <td>...</td>\n",
       "      <td>...</td>\n",
       "      <td>...</td>\n",
       "      <td>...</td>\n",
       "      <td>...</td>\n",
       "      <td>...</td>\n",
       "      <td>...</td>\n",
       "      <td>...</td>\n",
       "      <td>...</td>\n",
       "      <td>...</td>\n",
       "      <td>...</td>\n",
       "      <td>...</td>\n",
       "      <td>...</td>\n",
       "      <td>...</td>\n",
       "      <td>...</td>\n",
       "      <td>...</td>\n",
       "      <td>...</td>\n",
       "      <td>...</td>\n",
       "    </tr>\n",
       "    <tr>\n",
       "      <th>19214</th>\n",
       "      <td>19214</td>\n",
       "      <td>749</td>\n",
       "      <td>757</td>\n",
       "      <td>143210</td>\n",
       "      <td>143219</td>\n",
       "      <td>17</td>\n",
       "      <td>4</td>\n",
       "      <td>4</td>\n",
       "      <td>2193</td>\n",
       "      <td>122</td>\n",
       "      <td>...</td>\n",
       "      <td>0.0044</td>\n",
       "      <td>0.2901</td>\n",
       "      <td>0</td>\n",
       "      <td>0</td>\n",
       "      <td>0</td>\n",
       "      <td>1</td>\n",
       "      <td>0</td>\n",
       "      <td>0</td>\n",
       "      <td>0</td>\n",
       "      <td>Stains</td>\n",
       "    </tr>\n",
       "    <tr>\n",
       "      <th>19215</th>\n",
       "      <td>19215</td>\n",
       "      <td>723</td>\n",
       "      <td>735</td>\n",
       "      <td>2488529</td>\n",
       "      <td>2488541</td>\n",
       "      <td>231</td>\n",
       "      <td>17</td>\n",
       "      <td>26</td>\n",
       "      <td>27135</td>\n",
       "      <td>104</td>\n",
       "      <td>...</td>\n",
       "      <td>-0.0989</td>\n",
       "      <td>0.5378</td>\n",
       "      <td>0</td>\n",
       "      <td>0</td>\n",
       "      <td>0</td>\n",
       "      <td>0</td>\n",
       "      <td>0</td>\n",
       "      <td>0</td>\n",
       "      <td>1</td>\n",
       "      <td>Other_Faults</td>\n",
       "    </tr>\n",
       "    <tr>\n",
       "      <th>19216</th>\n",
       "      <td>19216</td>\n",
       "      <td>6</td>\n",
       "      <td>31</td>\n",
       "      <td>1578055</td>\n",
       "      <td>1578129</td>\n",
       "      <td>780</td>\n",
       "      <td>114</td>\n",
       "      <td>98</td>\n",
       "      <td>71112</td>\n",
       "      <td>41</td>\n",
       "      <td>...</td>\n",
       "      <td>-0.4283</td>\n",
       "      <td>0.9997</td>\n",
       "      <td>1</td>\n",
       "      <td>0</td>\n",
       "      <td>0</td>\n",
       "      <td>0</td>\n",
       "      <td>0</td>\n",
       "      <td>0</td>\n",
       "      <td>0</td>\n",
       "      <td>Pastry</td>\n",
       "    </tr>\n",
       "    <tr>\n",
       "      <th>19217</th>\n",
       "      <td>19217</td>\n",
       "      <td>9</td>\n",
       "      <td>18</td>\n",
       "      <td>1713172</td>\n",
       "      <td>1713184</td>\n",
       "      <td>126</td>\n",
       "      <td>13</td>\n",
       "      <td>26</td>\n",
       "      <td>14808</td>\n",
       "      <td>88</td>\n",
       "      <td>...</td>\n",
       "      <td>-0.1162</td>\n",
       "      <td>0.3509</td>\n",
       "      <td>0</td>\n",
       "      <td>0</td>\n",
       "      <td>0</td>\n",
       "      <td>0</td>\n",
       "      <td>0</td>\n",
       "      <td>0</td>\n",
       "      <td>1</td>\n",
       "      <td>Other_Faults</td>\n",
       "    </tr>\n",
       "    <tr>\n",
       "      <th>19218</th>\n",
       "      <td>19218</td>\n",
       "      <td>1505</td>\n",
       "      <td>1525</td>\n",
       "      <td>1733458</td>\n",
       "      <td>1733471</td>\n",
       "      <td>182</td>\n",
       "      <td>24</td>\n",
       "      <td>33</td>\n",
       "      <td>22785</td>\n",
       "      <td>98</td>\n",
       "      <td>...</td>\n",
       "      <td>-0.1120</td>\n",
       "      <td>0.6619</td>\n",
       "      <td>0</td>\n",
       "      <td>0</td>\n",
       "      <td>0</td>\n",
       "      <td>0</td>\n",
       "      <td>0</td>\n",
       "      <td>1</td>\n",
       "      <td>0</td>\n",
       "      <td>Bumps</td>\n",
       "    </tr>\n",
       "  </tbody>\n",
       "</table>\n",
       "<p>19219 rows × 36 columns</p>\n",
       "</div>"
      ],
      "text/plain": [
       "          id  X_Minimum  X_Maximum  Y_Minimum  Y_Maximum  Pixels_Areas  \\\n",
       "0          0        584        590     909972     909977            16   \n",
       "1          1        808        816     728350     728372           433   \n",
       "2          2         39        192    2212076    2212144         11388   \n",
       "3          3        781        789    3353146    3353173           210   \n",
       "4          4       1540       1560     618457     618502           521   \n",
       "...      ...        ...        ...        ...        ...           ...   \n",
       "19214  19214        749        757     143210     143219            17   \n",
       "19215  19215        723        735    2488529    2488541           231   \n",
       "19216  19216          6         31    1578055    1578129           780   \n",
       "19217  19217          9         18    1713172    1713184           126   \n",
       "19218  19218       1505       1525    1733458    1733471           182   \n",
       "\n",
       "       X_Perimeter  Y_Perimeter  Sum_of_Luminosity  Minimum_of_Luminosity  \\\n",
       "0                8            5               2274                    113   \n",
       "1               20           54              44478                     70   \n",
       "2              705          420            1311391                     29   \n",
       "3               16           29               3202                    114   \n",
       "4               72           67              48231                     82   \n",
       "...            ...          ...                ...                    ...   \n",
       "19214            4            4               2193                    122   \n",
       "19215           17           26              27135                    104   \n",
       "19216          114           98              71112                     41   \n",
       "19217           13           26              14808                     88   \n",
       "19218           24           33              22785                     98   \n",
       "\n",
       "       ...  Luminosity_Index  SigmoidOfAreas  Pastry  Z_Scratch  K_Scatch  \\\n",
       "0      ...           -0.0104          0.1417       0          0         0   \n",
       "1      ...           -0.2997          0.9491       0          0         0   \n",
       "2      ...           -0.0944          1.0000       0          0         1   \n",
       "3      ...           -0.0402          0.4025       0          0         1   \n",
       "4      ...           -0.2455          0.9998       0          0         0   \n",
       "...    ...               ...             ...     ...        ...       ...   \n",
       "19214  ...            0.0044          0.2901       0          0         0   \n",
       "19215  ...           -0.0989          0.5378       0          0         0   \n",
       "19216  ...           -0.4283          0.9997       1          0         0   \n",
       "19217  ...           -0.1162          0.3509       0          0         0   \n",
       "19218  ...           -0.1120          0.6619       0          0         0   \n",
       "\n",
       "       Stains  Dirtiness  Bumps  Other_Faults        Target  \n",
       "0           1          0      0             0        Stains  \n",
       "1           0          0      0             1  Other_Faults  \n",
       "2           0          0      0             0      K_Scatch  \n",
       "3           0          0      0             0      K_Scatch  \n",
       "4           0          0      0             1  Other_Faults  \n",
       "...       ...        ...    ...           ...           ...  \n",
       "19214       1          0      0             0        Stains  \n",
       "19215       0          0      0             1  Other_Faults  \n",
       "19216       0          0      0             0        Pastry  \n",
       "19217       0          0      0             1  Other_Faults  \n",
       "19218       0          0      1             0         Bumps  \n",
       "\n",
       "[19219 rows x 36 columns]"
      ]
     },
     "execution_count": 36,
     "metadata": {},
     "output_type": "execute_result"
    }
   ],
   "source": [
    "df"
   ]
  },
  {
   "cell_type": "code",
   "execution_count": 37,
   "id": "f91c9ad4",
   "metadata": {},
   "outputs": [],
   "source": [
    "df = df.drop(columns=fault_types)"
   ]
  },
  {
   "cell_type": "code",
   "execution_count": 38,
   "id": "a3c64fd7",
   "metadata": {},
   "outputs": [],
   "source": [
    "X = df.loc[:, df.columns != 'Target']\n",
    "y = df.loc[:, 'Target']"
   ]
  },
  {
   "cell_type": "code",
   "execution_count": 39,
   "id": "7173a062",
   "metadata": {},
   "outputs": [
    {
     "data": {
      "text/plain": [
       "((19219, 28), (19219,))"
      ]
     },
     "execution_count": 39,
     "metadata": {},
     "output_type": "execute_result"
    }
   ],
   "source": [
    "X.shape, y.shape"
   ]
  },
  {
   "cell_type": "code",
   "execution_count": 40,
   "id": "508ed423",
   "metadata": {},
   "outputs": [],
   "source": [
    "X_train, X_test, y_train, y_test = train_test_split(X,y , random_state=42)"
   ]
  },
  {
   "cell_type": "code",
   "execution_count": 41,
   "id": "875f308e",
   "metadata": {},
   "outputs": [
    {
     "name": "stdout",
     "output_type": "stream",
     "text": [
      "(14414, 28)\n",
      "(4805, 28)\n",
      "(14414,)\n",
      "(4805,)\n"
     ]
    }
   ],
   "source": [
    "for val in [X_train, X_test, y_train, y_test]:\n",
    "    print(val.shape)"
   ]
  },
  {
   "cell_type": "code",
   "execution_count": 42,
   "id": "e946a3eb",
   "metadata": {},
   "outputs": [
    {
     "data": {
      "text/html": [
       "<style>#sk-container-id-1 {color: black;background-color: white;}#sk-container-id-1 pre{padding: 0;}#sk-container-id-1 div.sk-toggleable {background-color: white;}#sk-container-id-1 label.sk-toggleable__label {cursor: pointer;display: block;width: 100%;margin-bottom: 0;padding: 0.3em;box-sizing: border-box;text-align: center;}#sk-container-id-1 label.sk-toggleable__label-arrow:before {content: \"▸\";float: left;margin-right: 0.25em;color: #696969;}#sk-container-id-1 label.sk-toggleable__label-arrow:hover:before {color: black;}#sk-container-id-1 div.sk-estimator:hover label.sk-toggleable__label-arrow:before {color: black;}#sk-container-id-1 div.sk-toggleable__content {max-height: 0;max-width: 0;overflow: hidden;text-align: left;background-color: #f0f8ff;}#sk-container-id-1 div.sk-toggleable__content pre {margin: 0.2em;color: black;border-radius: 0.25em;background-color: #f0f8ff;}#sk-container-id-1 input.sk-toggleable__control:checked~div.sk-toggleable__content {max-height: 200px;max-width: 100%;overflow: auto;}#sk-container-id-1 input.sk-toggleable__control:checked~label.sk-toggleable__label-arrow:before {content: \"▾\";}#sk-container-id-1 div.sk-estimator input.sk-toggleable__control:checked~label.sk-toggleable__label {background-color: #d4ebff;}#sk-container-id-1 div.sk-label input.sk-toggleable__control:checked~label.sk-toggleable__label {background-color: #d4ebff;}#sk-container-id-1 input.sk-hidden--visually {border: 0;clip: rect(1px 1px 1px 1px);clip: rect(1px, 1px, 1px, 1px);height: 1px;margin: -1px;overflow: hidden;padding: 0;position: absolute;width: 1px;}#sk-container-id-1 div.sk-estimator {font-family: monospace;background-color: #f0f8ff;border: 1px dotted black;border-radius: 0.25em;box-sizing: border-box;margin-bottom: 0.5em;}#sk-container-id-1 div.sk-estimator:hover {background-color: #d4ebff;}#sk-container-id-1 div.sk-parallel-item::after {content: \"\";width: 100%;border-bottom: 1px solid gray;flex-grow: 1;}#sk-container-id-1 div.sk-label:hover label.sk-toggleable__label {background-color: #d4ebff;}#sk-container-id-1 div.sk-serial::before {content: \"\";position: absolute;border-left: 1px solid gray;box-sizing: border-box;top: 0;bottom: 0;left: 50%;z-index: 0;}#sk-container-id-1 div.sk-serial {display: flex;flex-direction: column;align-items: center;background-color: white;padding-right: 0.2em;padding-left: 0.2em;position: relative;}#sk-container-id-1 div.sk-item {position: relative;z-index: 1;}#sk-container-id-1 div.sk-parallel {display: flex;align-items: stretch;justify-content: center;background-color: white;position: relative;}#sk-container-id-1 div.sk-item::before, #sk-container-id-1 div.sk-parallel-item::before {content: \"\";position: absolute;border-left: 1px solid gray;box-sizing: border-box;top: 0;bottom: 0;left: 50%;z-index: -1;}#sk-container-id-1 div.sk-parallel-item {display: flex;flex-direction: column;z-index: 1;position: relative;background-color: white;}#sk-container-id-1 div.sk-parallel-item:first-child::after {align-self: flex-end;width: 50%;}#sk-container-id-1 div.sk-parallel-item:last-child::after {align-self: flex-start;width: 50%;}#sk-container-id-1 div.sk-parallel-item:only-child::after {width: 0;}#sk-container-id-1 div.sk-dashed-wrapped {border: 1px dashed gray;margin: 0 0.4em 0.5em 0.4em;box-sizing: border-box;padding-bottom: 0.4em;background-color: white;}#sk-container-id-1 div.sk-label label {font-family: monospace;font-weight: bold;display: inline-block;line-height: 1.2em;}#sk-container-id-1 div.sk-label-container {text-align: center;}#sk-container-id-1 div.sk-container {/* jupyter's `normalize.less` sets `[hidden] { display: none; }` but bootstrap.min.css set `[hidden] { display: none !important; }` so we also need the `!important` here to be able to override the default hidden behavior on the sphinx rendered scikit-learn.org. See: https://github.com/scikit-learn/scikit-learn/issues/21755 */display: inline-block !important;position: relative;}#sk-container-id-1 div.sk-text-repr-fallback {display: none;}</style><div id=\"sk-container-id-1\" class=\"sk-top-container\"><div class=\"sk-text-repr-fallback\"><pre>DecisionTreeClassifier(class_weight=&#x27;balanced&#x27;, criterion=&#x27;entropy&#x27;,\n",
       "                       random_state=42)</pre><b>In a Jupyter environment, please rerun this cell to show the HTML representation or trust the notebook. <br />On GitHub, the HTML representation is unable to render, please try loading this page with nbviewer.org.</b></div><div class=\"sk-container\" hidden><div class=\"sk-item\"><div class=\"sk-estimator sk-toggleable\"><input class=\"sk-toggleable__control sk-hidden--visually\" id=\"sk-estimator-id-1\" type=\"checkbox\" checked><label for=\"sk-estimator-id-1\" class=\"sk-toggleable__label sk-toggleable__label-arrow\">DecisionTreeClassifier</label><div class=\"sk-toggleable__content\"><pre>DecisionTreeClassifier(class_weight=&#x27;balanced&#x27;, criterion=&#x27;entropy&#x27;,\n",
       "                       random_state=42)</pre></div></div></div></div></div>"
      ],
      "text/plain": [
       "DecisionTreeClassifier(class_weight='balanced', criterion='entropy',\n",
       "                       random_state=42)"
      ]
     },
     "execution_count": 42,
     "metadata": {},
     "output_type": "execute_result"
    }
   ],
   "source": [
    "# Train a decision tree classifier with class weights\n",
    "clf = DecisionTreeClassifier(criterion = 'entropy',  class_weight='balanced', random_state=42)\n",
    "clf.fit(X_train, y_train)"
   ]
  },
  {
   "cell_type": "code",
   "execution_count": 43,
   "id": "3914cd51",
   "metadata": {},
   "outputs": [
    {
     "name": "stdout",
     "output_type": "stream",
     "text": [
      "              precision    recall  f1-score   support\n",
      "\n",
      "       Bumps       0.39      0.39      0.39      1178\n",
      "   Dirtiness       0.18      0.14      0.16       133\n",
      "    K_Scatch       0.83      0.83      0.83       853\n",
      "Other_Faults       0.39      0.41      0.40      1622\n",
      "      Pastry       0.21      0.22      0.22       583\n",
      "      Stains       0.65      0.62      0.63       136\n",
      "   Z_Scratch       0.44      0.40      0.42       300\n",
      "\n",
      "    accuracy                           0.45      4805\n",
      "   macro avg       0.44      0.43      0.44      4805\n",
      "weighted avg       0.45      0.45      0.45      4805\n",
      "\n"
     ]
    }
   ],
   "source": [
    "y_pred = clf.predict(X_test)\n",
    "print(classification_report(y_pred, y_test))"
   ]
  },
  {
   "cell_type": "code",
   "execution_count": null,
   "id": "b53da4ab",
   "metadata": {},
   "outputs": [],
   "source": []
  },
  {
   "cell_type": "code",
   "execution_count": 44,
   "id": "0f74fdbf",
   "metadata": {},
   "outputs": [
    {
     "data": {
      "image/png": "[encoded data removed]",
      "text/plain": [
       "<Figure size 2000x600 with 1 Axes>"
      ]
     },
     "metadata": {},
     "output_type": "display_data"
    }
   ],
   "source": [
    "plt.figure(figsize=(20, 6))\n",
    "tree.plot_tree(clf, feature_names=X.columns, class_names=df['Target'].unique(), filled=True, rounded=True, max_depth = 3)\n",
    "# Save the plot as a high-resolution PNG file\n",
    "plt.savefig(\"decision_tree_plot.png\", dpi=300, bbox_inches='tight')\n",
    "plt.show()\n"
   ]
  },
  {
   "cell_type": "markdown",
   "id": "5d2afc5c",
   "metadata": {},
   "source": [
    "# Q5. Optimizing Decision Tree Depth"
   ]
  },
  {
   "cell_type": "code",
   "execution_count": 56,
   "id": "91b6cc91",
   "metadata": {},
   "outputs": [],
   "source": [
    "from sklearn.model_selection import cross_val_score, KFold\n",
    "import numpy as np\n",
    "from sklearn.model_selection import cross_validate"
   ]
  },
  {
   "cell_type": "code",
   "execution_count": 54,
   "id": "7095e357",
   "metadata": {},
   "outputs": [],
   "source": [
    "X_train, X_test, y_train, y_test = train_test_split(X,y , random_state=42)"
   ]
  },
  {
   "cell_type": "code",
   "execution_count": 57,
   "id": "e7903d66",
   "metadata": {},
   "outputs": [
    {
     "name": "stdout",
     "output_type": "stream",
     "text": [
      "K-Fold for depth: 1 - Accuracy Mean: Train: 18.28%, Validation: 18.25%\n",
      "K-Fold for depth: 1 - Accuracy Std: Train: 0.13%, Validation: 1.14%\n",
      "***************\n",
      "K-Fold for depth: 2 - Accuracy Mean: Train: 21.02%, Validation: 20.76%\n",
      "K-Fold for depth: 2 - Accuracy Std: Train: 1.43%, Validation: 1.32%\n",
      "***************\n",
      "K-Fold for depth: 3 - Accuracy Mean: Train: 42.29%, Validation: 42.19%\n",
      "K-Fold for depth: 3 - Accuracy Std: Train: 0.32%, Validation: 1.25%\n",
      "***************\n",
      "K-Fold for depth: 5 - Accuracy Mean: Train: 50.11%, Validation: 49.67%\n",
      "K-Fold for depth: 5 - Accuracy Std: Train: 1.49%, Validation: 1.45%\n",
      "***************\n",
      "K-Fold for depth: 7 - Accuracy Mean: Train: 46.70%, Validation: 44.65%\n",
      "K-Fold for depth: 7 - Accuracy Std: Train: 0.83%, Validation: 1.41%\n",
      "***************\n",
      "K-Fold for depth: 11 - Accuracy Mean: Train: 57.57%, Validation: 46.70%\n",
      "K-Fold for depth: 11 - Accuracy Std: Train: 0.65%, Validation: 0.88%\n",
      "***************\n",
      "K-Fold for depth: 13 - Accuracy Mean: Train: 65.73%, Validation: 48.13%\n",
      "K-Fold for depth: 13 - Accuracy Std: Train: 0.42%, Validation: 1.43%\n",
      "***************\n",
      "K-Fold for depth: 15 - Accuracy Mean: Train: 74.58%, Validation: 48.04%\n",
      "K-Fold for depth: 15 - Accuracy Std: Train: 0.77%, Validation: 1.23%\n",
      "***************\n",
      "K-Fold for depth: 19 - Accuracy Mean: Train: 88.18%, Validation: 48.24%\n",
      "K-Fold for depth: 19 - Accuracy Std: Train: 0.93%, Validation: 1.33%\n",
      "***************\n",
      "K-Fold for depth: 20 - Accuracy Mean: Train: 90.35%, Validation: 48.10%\n",
      "K-Fold for depth: 20 - Accuracy Std: Train: 0.89%, Validation: 1.27%\n",
      "***************\n",
      "K-Fold for depth: 25 - Accuracy Mean: Train: 96.85%, Validation: 47.03%\n",
      "K-Fold for depth: 25 - Accuracy Std: Train: 0.55%, Validation: 1.50%\n",
      "***************\n",
      "K-Fold for depth: 30 - Accuracy Mean: Train: 99.05%, Validation: 46.25%\n",
      "K-Fold for depth: 30 - Accuracy Std: Train: 0.29%, Validation: 1.44%\n",
      "***************\n"
     ]
    }
   ],
   "source": [
    "tree_depths = [1, 2, 3, 5, 7, 11, 13, 15, 19, 20, 25, 30] \n",
    "scores_training = []\n",
    "scores_validation = []\n",
    "for depth in tree_depths:\n",
    "    model = DecisionTreeClassifier(random_state=42, max_depth=depth, class_weight='balanced')\n",
    "    kfold = KFold(n_splits=10, shuffle=True, random_state=42)\n",
    "    cv_acc_results = cross_validate(model, X_train, y_train, cv=kfold, scoring='accuracy', return_train_score=True)\n",
    "    \n",
    "    print(f\"K-Fold for depth: {depth} - Accuracy Mean: Train: {cv_acc_results['train_score'].mean() * 100:.2f}%, Validation: {cv_acc_results['test_score'].mean() * 100:.2f}%\")\n",
    "    print(f\"K-Fold for depth: {depth} - Accuracy Std: Train: {cv_acc_results['train_score'].std() * 100:.2f}%, Validation: {cv_acc_results['test_score'].std() * 100:.2f}%\")\n",
    "    print('***************')\n",
    "\n",
    "    scores_training.append(cv_acc_results['train_score'].mean())\n",
    "    scores_validation.append(cv_acc_results['test_score'].mean())\n",
    "    "
   ]
  },
  {
   "cell_type": "code",
   "execution_count": null,
   "id": "3a038990",
   "metadata": {},
   "outputs": [],
   "source": []
  },
  {
   "cell_type": "code",
   "execution_count": 59,
   "id": "d8347c8f",
   "metadata": {},
   "outputs": [
    {
     "data": {
      "image/png": "[encoded data removed]",
      "text/plain": [
       "<Figure size 1000x300 with 1 Axes>"
      ]
     },
     "metadata": {},
     "output_type": "display_data"
    }
   ],
   "source": [
    "plt.figure(figsize=(10, 3))\n",
    "plt.plot(tree_depths, scores_training, color='red', linestyle='dashed', marker='o',markerfacecolor='blue', label='train')\n",
    "plt.plot(tree_depths, scores_validation, color='green', linestyle='dashed', marker='o',markerfacecolor='blue', label='test')\n",
    "plt.title('depth vs accuracy for decision tree')\n",
    "plt.xlabel('tree depth')\n",
    "plt.ylabel('Accuracy')\n",
    "plt.legend()\n",
    "plt.show()"
   ]
  },
  {
   "cell_type": "code",
   "execution_count": 60,
   "id": "05e08ed5",
   "metadata": {},
   "outputs": [
    {
     "name": "stdout",
     "output_type": "stream",
     "text": [
      "              precision    recall  f1-score   support\n",
      "\n",
      "       Bumps       0.52      0.45      0.48      1366\n",
      "   Dirtiness       0.47      0.12      0.19       419\n",
      "    K_Scatch       0.87      0.91      0.89       814\n",
      "Other_Faults       0.36      0.44      0.40      1352\n",
      "      Pastry       0.16      0.32      0.21       304\n",
      "      Stains       0.79      0.61      0.69       169\n",
      "   Z_Scratch       0.66      0.48      0.55       381\n",
      "\n",
      "    accuracy                           0.50      4805\n",
      "   macro avg       0.55      0.47      0.49      4805\n",
      "weighted avg       0.53      0.50      0.50      4805\n",
      "\n"
     ]
    }
   ],
   "source": [
    "best_tree_clf = DecisionTreeClassifier(random_state=42, max_depth=5, class_weight='balanced')\n",
    "best_tree_clf.fit(X_train, y_train)\n",
    "y_pred = best_tree_clf.predict(X_test)\n",
    "print(classification_report(y_pred, y_test))"
   ]
  },
  {
   "cell_type": "code",
   "execution_count": 61,
   "id": "de37b245",
   "metadata": {},
   "outputs": [],
   "source": [
    "feature_imp = pd.DataFrame({'feature_imp':best_tree_clf.feature_importances_, 'feature_name': best_tree_clf.feature_names_in_})"
   ]
  },
  {
   "cell_type": "code",
   "execution_count": 62,
   "id": "9a26b1d5",
   "metadata": {},
   "outputs": [
    {
     "data": {
      "text/html": [
       "<div>\n",
       "<style scoped>\n",
       "    .dataframe tbody tr th:only-of-type {\n",
       "        vertical-align: middle;\n",
       "    }\n",
       "\n",
       "    .dataframe tbody tr th {\n",
       "        vertical-align: top;\n",
       "    }\n",
       "\n",
       "    .dataframe thead th {\n",
       "        text-align: right;\n",
       "    }\n",
       "</style>\n",
       "<table border=\"1\" class=\"dataframe\">\n",
       "  <thead>\n",
       "    <tr style=\"text-align: right;\">\n",
       "      <th></th>\n",
       "      <th>feature_imp</th>\n",
       "    </tr>\n",
       "    <tr>\n",
       "      <th>feature_name</th>\n",
       "      <th></th>\n",
       "    </tr>\n",
       "  </thead>\n",
       "  <tbody>\n",
       "    <tr>\n",
       "      <th>Outside_X_Index</th>\n",
       "      <td>0.319797</td>\n",
       "    </tr>\n",
       "    <tr>\n",
       "      <th>Pixels_Areas</th>\n",
       "      <td>0.294860</td>\n",
       "    </tr>\n",
       "    <tr>\n",
       "      <th>Length_of_Conveyer</th>\n",
       "      <td>0.125352</td>\n",
       "    </tr>\n",
       "    <tr>\n",
       "      <th>TypeOfSteel_A300</th>\n",
       "      <td>0.109240</td>\n",
       "    </tr>\n",
       "    <tr>\n",
       "      <th>Orientation_Index</th>\n",
       "      <td>0.071100</td>\n",
       "    </tr>\n",
       "    <tr>\n",
       "      <th>Steel_Plate_Thickness</th>\n",
       "      <td>0.059511</td>\n",
       "    </tr>\n",
       "    <tr>\n",
       "      <th>Luminosity_Index</th>\n",
       "      <td>0.003524</td>\n",
       "    </tr>\n",
       "    <tr>\n",
       "      <th>Edges_Index</th>\n",
       "      <td>0.003512</td>\n",
       "    </tr>\n",
       "    <tr>\n",
       "      <th>X_Perimeter</th>\n",
       "      <td>0.002863</td>\n",
       "    </tr>\n",
       "    <tr>\n",
       "      <th>Y_Perimeter</th>\n",
       "      <td>0.002681</td>\n",
       "    </tr>\n",
       "  </tbody>\n",
       "</table>\n",
       "</div>"
      ],
      "text/plain": [
       "                       feature_imp\n",
       "feature_name                      \n",
       "Outside_X_Index           0.319797\n",
       "Pixels_Areas              0.294860\n",
       "Length_of_Conveyer        0.125352\n",
       "TypeOfSteel_A300          0.109240\n",
       "Orientation_Index         0.071100\n",
       "Steel_Plate_Thickness     0.059511\n",
       "Luminosity_Index          0.003524\n",
       "Edges_Index               0.003512\n",
       "X_Perimeter               0.002863\n",
       "Y_Perimeter               0.002681"
      ]
     },
     "execution_count": 62,
     "metadata": {},
     "output_type": "execute_result"
    }
   ],
   "source": [
    "feature_imp.sort_values('feature_imp', ascending=False).set_index('feature_name')[:10]"
   ]
  },
  {
   "cell_type": "code",
   "execution_count": 63,
   "id": "5c604223",
   "metadata": {},
   "outputs": [
    {
     "data": {
      "text/plain": [
       "Text(0.5, 1.0, 'Feature importance')"
      ]
     },
     "execution_count": 63,
     "metadata": {},
     "output_type": "execute_result"
    },
    {
     "data": {
      "image/png": "[encoded data removed]",
      "text/plain": [
       "<Figure size 1000x200 with 1 Axes>"
      ]
     },
     "metadata": {},
     "output_type": "display_data"
    }
   ],
   "source": [
    "feature_imp.sort_values('feature_imp', ascending=False).set_index('feature_name').plot(kind='bar', figsize=(10, 2))\n",
    "plt.title('Feature importance')"
   ]
  },
  {
   "cell_type": "code",
   "execution_count": 64,
   "id": "6e6c8bdd",
   "metadata": {},
   "outputs": [
    {
     "data": {
      "text/plain": [
       "<sklearn.metrics._plot.confusion_matrix.ConfusionMatrixDisplay at 0x245fb9e0290>"
      ]
     },
     "execution_count": 64,
     "metadata": {},
     "output_type": "execute_result"
    },
    {
     "data": {
      "image/png": "[encoded data removed]",
      "text/plain": [
       "<Figure size 640x480 with 2 Axes>"
      ]
     },
     "metadata": {},
     "output_type": "display_data"
    }
   ],
   "source": [
    "cm = confusion_matrix(y_test,y_pred)\n",
    "ConfusionMatrixDisplay(cm).plot()"
   ]
  },
  {
   "cell_type": "code",
   "execution_count": 65,
   "id": "833e2775",
   "metadata": {},
   "outputs": [
    {
     "data": {
      "image/png": "[encoded data removed]",
      "text/plain": [
       "<Figure size 500x500 with 2 Axes>"
      ]
     },
     "metadata": {},
     "output_type": "display_data"
    }
   ],
   "source": [
    "class_names = df.Target.unique()\n",
    "plt.figure(figsize=(5, 5), tight_layout=True)\n",
    "sns.heatmap(cm, annot=True, fmt='d', cmap='YlGnBu',  cbar=True,\n",
    "            xticklabels=class_names, yticklabels=class_names)\n",
    "plt.xlabel('Predicted Label')\n",
    "plt.ylabel('True Label')\n",
    "plt.title('Confusion Matrix')\n",
    "plt.show()"
   ]
  },
  {
   "cell_type": "code",
   "execution_count": 66,
   "id": "a78f5081",
   "metadata": {},
   "outputs": [
    {
     "name": "stdout",
     "output_type": "stream",
     "text": [
      "K-Fold for depth: 3 - Accuracy Mean: Train: 42.29%, Validation: 42.19%\n",
      "K-Fold for depth: 3 - Accuracy Std: Train: 0.32%, Validation: 1.25%\n",
      "***************\n",
      "K-Fold for depth: 5 - Accuracy Mean: Train: 50.11%, Validation: 49.67%\n",
      "K-Fold for depth: 5 - Accuracy Std: Train: 1.49%, Validation: 1.45%\n",
      "***************\n",
      "K-Fold for depth: 7 - Accuracy Mean: Train: 46.70%, Validation: 44.65%\n",
      "K-Fold for depth: 7 - Accuracy Std: Train: 0.83%, Validation: 1.41%\n",
      "***************\n",
      "K-Fold for depth: 11 - Accuracy Mean: Train: 57.57%, Validation: 46.70%\n",
      "K-Fold for depth: 11 - Accuracy Std: Train: 0.65%, Validation: 0.88%\n",
      "***************\n",
      "K-Fold for depth: 13 - Accuracy Mean: Train: 65.73%, Validation: 48.13%\n",
      "K-Fold for depth: 13 - Accuracy Std: Train: 0.42%, Validation: 1.43%\n",
      "***************\n",
      "K-Fold for depth: 15 - Accuracy Mean: Train: 74.58%, Validation: 48.04%\n",
      "K-Fold for depth: 15 - Accuracy Std: Train: 0.77%, Validation: 1.23%\n",
      "***************\n",
      "K-Fold for depth: 19 - Accuracy Mean: Train: 88.18%, Validation: 48.24%\n",
      "K-Fold for depth: 19 - Accuracy Std: Train: 0.93%, Validation: 1.33%\n",
      "***************\n",
      "K-Fold for depth: 20 - Accuracy Mean: Train: 90.35%, Validation: 48.10%\n",
      "K-Fold for depth: 20 - Accuracy Std: Train: 0.89%, Validation: 1.27%\n",
      "***************\n",
      "The model accuracy on testing data with best depth is 0.495525494276795\n"
     ]
    }
   ],
   "source": [
    "import numpy as np\n",
    "from sklearn.tree import DecisionTreeClassifier\n",
    "from sklearn.model_selection import KFold, cross_validate\n",
    "\n",
    "# Define the list of tree depths you want to evaluate\n",
    "depths = [3, 5, 7, 11, 13, 15, 19, 20]\n",
    "\n",
    "# Setup KFold with 10 splits and a fixed random state\n",
    "kfold = KFold(n_splits=10, shuffle=True, random_state=42)\n",
    "\n",
    "for depth in depths:\n",
    "    # Initialize Decision Tree Classifier with the current depth\n",
    "    tree_clf = DecisionTreeClassifier(max_depth=depth, random_state=42, class_weight='balanced')\n",
    "\n",
    "    # Perform cross-validation\n",
    "    cv_acc_results = cross_validate(tree_clf, X_train, y_train, cv=kfold, scoring='accuracy', return_train_score=True)\n",
    "\n",
    "    # Output the mean and standard deviation of the training and validation scores\n",
    "    print(f\"K-Fold for depth: {depth} - Accuracy Mean: Train: {cv_acc_results['train_score'].mean() * 100:.2f}%, Validation: {cv_acc_results['test_score'].mean() * 100:.2f}%\")\n",
    "    print(f\"K-Fold for depth: {depth} - Accuracy Std: Train: {cv_acc_results['train_score'].std() * 100:.2f}%, Validation: {cv_acc_results['test_score'].std() * 100:.2f}%\")\n",
    "    print('***************')\n",
    "\n",
    "# Testing the best depth on the testing data\n",
    "best_tree_clf = DecisionTreeClassifier(max_depth=5, random_state=42, class_weight='balanced')\n",
    "best_tree_clf.fit(X_train, y_train)\n",
    "print(f\"The model accuracy on testing data with best depth is {best_tree_clf.score(X_test, y_test)}\")"
   ]
  },
  {
   "cell_type": "code",
   "execution_count": null,
   "id": "aa8e8e1b",
   "metadata": {},
   "outputs": [],
   "source": []
  },
  {
   "cell_type": "markdown",
   "id": "86e85714",
   "metadata": {},
   "source": [
    "# Q1. Decision Tree Classification"
   ]
  },
  {
   "cell_type": "code",
   "execution_count": 74,
   "id": "780735fe",
   "metadata": {},
   "outputs": [],
   "source": [
    "feature = [0.58,  0.9 , 0.45, 0.18, 0.5,  0.12, 0.31, 0.09, 0.24, 0.83]\n",
    "label = [1, 0,  0,  0,  0,  0,  1,  0,  1,  1]    "
   ]
  },
  {
   "cell_type": "code",
   "execution_count": 79,
   "id": "8d5594b8",
   "metadata": {},
   "outputs": [
    {
     "data": {
      "text/plain": [
       "0.0"
      ]
     },
     "execution_count": 79,
     "metadata": {},
     "output_type": "execute_result"
    }
   ],
   "source": [
    "def entropy(s):\n",
    "    prob = np.bincount(s)/len(s)\n",
    "    \n",
    "    return stats.entropy(prob, base=2)\n",
    "\n",
    "entropy(np.array([1]))\n"
   ]
  },
  {
   "cell_type": "code",
   "execution_count": 80,
   "id": "73d45095",
   "metadata": {},
   "outputs": [],
   "source": [
    "import numpy as np\n",
    "\n",
    "def entropy(s):\n",
    "    prob = np.bincount(s)/len(s)\n",
    "    return stats.entropy(prob, base=2)\n",
    "\n",
    "def information_gain(parent, left_child, right_child):\n",
    "    we_entropy = entropy(left_child)*(len(left_child)/len(parent)) + entropy(right_child)*(len(right_child)/len(parent))\n",
    "    info_gain = entropy(parent) - we_entropy\n",
    "    return info_gain\n",
    "    \n",
    "def best_split(features,labels):\n",
    "    best_threshold=None\n",
    "    best_info_gain = -1\n",
    "    \n",
    "    # For every unique value of that feature\n",
    "    for threshold in np.unique(features):\n",
    "        \n",
    "        y_left = labels[np.where(threshold >=  features)]  #list of labels in left child\n",
    "        y_right = labels[np.where(threshold <  features)]  #list of labels in right child\n",
    "        \n",
    "        if len(y_left) > 0 and len(y_right) > 0:\n",
    "            gain = information_gain(labels, y_left, y_right)                 # Caclulate the information gain and save the split parameters if the current split if better then the previous best\n",
    "\n",
    "            if gain > best_info_gain:\n",
    "                best_threshold = threshold\n",
    "                best_info_gain = gain\n",
    "    \n",
    "    return best_threshold"
   ]
  },
  {
   "cell_type": "code",
   "execution_count": 76,
   "id": "003d1061",
   "metadata": {},
   "outputs": [
    {
     "data": {
      "text/plain": [
       "0.18"
      ]
     },
     "execution_count": 76,
     "metadata": {},
     "output_type": "execute_result"
    }
   ],
   "source": [
    "X = np.array([0.58, 0.9, 0.45, 0.18, 0.5, 0.12, 0.31, 0.09, 0.24, 0.83])\n",
    "y = np.array([1, 0,  0,  0,  0,  0,  1,  0,  1,  1])\n",
    "best_split(X, y)"
   ]
  },
  {
   "cell_type": "code",
   "execution_count": 77,
   "id": "4b3423f2",
   "metadata": {},
   "outputs": [],
   "source": [
    "attr1 = np.array([0, 1, 2, 1, 2, 0, 1, 2, 2, 0, 1, 1, 0, 1, 2, 1, 1, 1, 0, 1])\n",
    "y = np.array([0, 0, 1, 0, 0, 0, 0, 1, 1, 1, 1, 1, 0, 1, 0, 1, 1, 1, 1, 0])"
   ]
  },
  {
   "cell_type": "code",
   "execution_count": 78,
   "id": "192d0ab3",
   "metadata": {},
   "outputs": [
    {
     "data": {
      "text/plain": [
       "array([0, 0, 1, 0, 1])"
      ]
     },
     "execution_count": 78,
     "metadata": {},
     "output_type": "execute_result"
    }
   ],
   "source": [
    "y[attr1 == 0]"
   ]
  },
  {
   "cell_type": "code",
   "execution_count": null,
   "id": "673a4f1a",
   "metadata": {},
   "outputs": [],
   "source": []
  },
  {
   "cell_type": "code",
   "execution_count": null,
   "id": "32717fb7",
   "metadata": {},
   "outputs": [],
   "source": []
  }
 ],
 "metadata": {
  "kernelspec": {
   "display_name": "Python 3 (ipykernel)",
   "language": "python",
   "name": "python3"
  },
  "language_info": {
   "codemirror_mode": {
    "name": "ipython",
    "version": 3
   },
   "file_extension": ".py",
   "mimetype": "text/x-python",
   "name": "python",
   "nbconvert_exporter": "python",
   "pygments_lexer": "ipython3",
   "version": "3.11.5"
  }
 },
 "nbformat": 4,
 "nbformat_minor": 5
}
