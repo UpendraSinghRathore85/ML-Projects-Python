{
 "cells": [
  {
   "cell_type": "code",
   "execution_count": 46,
   "id": "d19d565c",
   "metadata": {},
   "outputs": [],
   "source": [
    "import pandas as pd \n",
    "import numpy as np\n",
    "import matplotlib.pyplot as plt\n",
    "import seaborn as sns\n",
    "from sklearn.model_selection import train_test_split\n",
    "from sklearn.tree import DecisionTreeClassifier\n",
    "from sklearn import tree"
   ]
  },
  {
   "cell_type": "code",
   "execution_count": 2,
   "id": "670460d0",
   "metadata": {},
   "outputs": [
    {
     "data": {
      "text/html": [
       "<div>\n",
       "<style scoped>\n",
       "    .dataframe tbody tr th:only-of-type {\n",
       "        vertical-align: middle;\n",
       "    }\n",
       "\n",
       "    .dataframe tbody tr th {\n",
       "        vertical-align: top;\n",
       "    }\n",
       "\n",
       "    .dataframe thead th {\n",
       "        text-align: right;\n",
       "    }\n",
       "</style>\n",
       "<table border=\"1\" class=\"dataframe\">\n",
       "  <thead>\n",
       "    <tr style=\"text-align: right;\">\n",
       "      <th></th>\n",
       "      <th>id</th>\n",
       "      <th>X_Minimum</th>\n",
       "      <th>X_Maximum</th>\n",
       "      <th>Y_Minimum</th>\n",
       "      <th>Y_Maximum</th>\n",
       "      <th>Pixels_Areas</th>\n",
       "      <th>X_Perimeter</th>\n",
       "      <th>Y_Perimeter</th>\n",
       "      <th>Sum_of_Luminosity</th>\n",
       "      <th>Minimum_of_Luminosity</th>\n",
       "      <th>...</th>\n",
       "      <th>Orientation_Index</th>\n",
       "      <th>Luminosity_Index</th>\n",
       "      <th>SigmoidOfAreas</th>\n",
       "      <th>Pastry</th>\n",
       "      <th>Z_Scratch</th>\n",
       "      <th>K_Scatch</th>\n",
       "      <th>Stains</th>\n",
       "      <th>Dirtiness</th>\n",
       "      <th>Bumps</th>\n",
       "      <th>Other_Faults</th>\n",
       "    </tr>\n",
       "  </thead>\n",
       "  <tbody>\n",
       "    <tr>\n",
       "      <th>0</th>\n",
       "      <td>0</td>\n",
       "      <td>584</td>\n",
       "      <td>590</td>\n",
       "      <td>909972</td>\n",
       "      <td>909977</td>\n",
       "      <td>16</td>\n",
       "      <td>8</td>\n",
       "      <td>5</td>\n",
       "      <td>2274</td>\n",
       "      <td>113</td>\n",
       "      <td>...</td>\n",
       "      <td>-0.5000</td>\n",
       "      <td>-0.0104</td>\n",
       "      <td>0.1417</td>\n",
       "      <td>0</td>\n",
       "      <td>0</td>\n",
       "      <td>0</td>\n",
       "      <td>1</td>\n",
       "      <td>0</td>\n",
       "      <td>0</td>\n",
       "      <td>0</td>\n",
       "    </tr>\n",
       "    <tr>\n",
       "      <th>1</th>\n",
       "      <td>1</td>\n",
       "      <td>808</td>\n",
       "      <td>816</td>\n",
       "      <td>728350</td>\n",
       "      <td>728372</td>\n",
       "      <td>433</td>\n",
       "      <td>20</td>\n",
       "      <td>54</td>\n",
       "      <td>44478</td>\n",
       "      <td>70</td>\n",
       "      <td>...</td>\n",
       "      <td>0.7419</td>\n",
       "      <td>-0.2997</td>\n",
       "      <td>0.9491</td>\n",
       "      <td>0</td>\n",
       "      <td>0</td>\n",
       "      <td>0</td>\n",
       "      <td>0</td>\n",
       "      <td>0</td>\n",
       "      <td>0</td>\n",
       "      <td>1</td>\n",
       "    </tr>\n",
       "    <tr>\n",
       "      <th>2</th>\n",
       "      <td>2</td>\n",
       "      <td>39</td>\n",
       "      <td>192</td>\n",
       "      <td>2212076</td>\n",
       "      <td>2212144</td>\n",
       "      <td>11388</td>\n",
       "      <td>705</td>\n",
       "      <td>420</td>\n",
       "      <td>1311391</td>\n",
       "      <td>29</td>\n",
       "      <td>...</td>\n",
       "      <td>-0.0105</td>\n",
       "      <td>-0.0944</td>\n",
       "      <td>1.0000</td>\n",
       "      <td>0</td>\n",
       "      <td>0</td>\n",
       "      <td>1</td>\n",
       "      <td>0</td>\n",
       "      <td>0</td>\n",
       "      <td>0</td>\n",
       "      <td>0</td>\n",
       "    </tr>\n",
       "    <tr>\n",
       "      <th>3</th>\n",
       "      <td>3</td>\n",
       "      <td>781</td>\n",
       "      <td>789</td>\n",
       "      <td>3353146</td>\n",
       "      <td>3353173</td>\n",
       "      <td>210</td>\n",
       "      <td>16</td>\n",
       "      <td>29</td>\n",
       "      <td>3202</td>\n",
       "      <td>114</td>\n",
       "      <td>...</td>\n",
       "      <td>0.6667</td>\n",
       "      <td>-0.0402</td>\n",
       "      <td>0.4025</td>\n",
       "      <td>0</td>\n",
       "      <td>0</td>\n",
       "      <td>1</td>\n",
       "      <td>0</td>\n",
       "      <td>0</td>\n",
       "      <td>0</td>\n",
       "      <td>0</td>\n",
       "    </tr>\n",
       "    <tr>\n",
       "      <th>4</th>\n",
       "      <td>4</td>\n",
       "      <td>1540</td>\n",
       "      <td>1560</td>\n",
       "      <td>618457</td>\n",
       "      <td>618502</td>\n",
       "      <td>521</td>\n",
       "      <td>72</td>\n",
       "      <td>67</td>\n",
       "      <td>48231</td>\n",
       "      <td>82</td>\n",
       "      <td>...</td>\n",
       "      <td>0.9158</td>\n",
       "      <td>-0.2455</td>\n",
       "      <td>0.9998</td>\n",
       "      <td>0</td>\n",
       "      <td>0</td>\n",
       "      <td>0</td>\n",
       "      <td>0</td>\n",
       "      <td>0</td>\n",
       "      <td>0</td>\n",
       "      <td>1</td>\n",
       "    </tr>\n",
       "  </tbody>\n",
       "</table>\n",
       "<p>5 rows × 35 columns</p>\n",
       "</div>"
      ],
      "text/plain": [
       "   id  X_Minimum  X_Maximum  Y_Minimum  Y_Maximum  Pixels_Areas  X_Perimeter  \\\n",
       "0   0        584        590     909972     909977            16            8   \n",
       "1   1        808        816     728350     728372           433           20   \n",
       "2   2         39        192    2212076    2212144         11388          705   \n",
       "3   3        781        789    3353146    3353173           210           16   \n",
       "4   4       1540       1560     618457     618502           521           72   \n",
       "\n",
       "   Y_Perimeter  Sum_of_Luminosity  Minimum_of_Luminosity  ...  \\\n",
       "0            5               2274                    113  ...   \n",
       "1           54              44478                     70  ...   \n",
       "2          420            1311391                     29  ...   \n",
       "3           29               3202                    114  ...   \n",
       "4           67              48231                     82  ...   \n",
       "\n",
       "   Orientation_Index  Luminosity_Index  SigmoidOfAreas  Pastry  Z_Scratch  \\\n",
       "0            -0.5000           -0.0104          0.1417       0          0   \n",
       "1             0.7419           -0.2997          0.9491       0          0   \n",
       "2            -0.0105           -0.0944          1.0000       0          0   \n",
       "3             0.6667           -0.0402          0.4025       0          0   \n",
       "4             0.9158           -0.2455          0.9998       0          0   \n",
       "\n",
       "   K_Scatch  Stains  Dirtiness  Bumps  Other_Faults  \n",
       "0         0       1          0      0             0  \n",
       "1         0       0          0      0             1  \n",
       "2         1       0          0      0             0  \n",
       "3         1       0          0      0             0  \n",
       "4         0       0          0      0             1  \n",
       "\n",
       "[5 rows x 35 columns]"
      ]
     },
     "execution_count": 2,
     "metadata": {},
     "output_type": "execute_result"
    }
   ],
   "source": [
    "df = pd.read_csv('./../data/SteelPlant.csv')\n",
    "df.head()"
   ]
  },
  {
   "cell_type": "code",
   "execution_count": 3,
   "id": "2c3c8a45",
   "metadata": {},
   "outputs": [
    {
     "name": "stdout",
     "output_type": "stream",
     "text": [
      "<class 'pandas.core.frame.DataFrame'>\n",
      "RangeIndex: 19219 entries, 0 to 19218\n",
      "Data columns (total 35 columns):\n",
      " #   Column                 Non-Null Count  Dtype  \n",
      "---  ------                 --------------  -----  \n",
      " 0   id                     19219 non-null  int64  \n",
      " 1   X_Minimum              19219 non-null  int64  \n",
      " 2   X_Maximum              19219 non-null  int64  \n",
      " 3   Y_Minimum              19219 non-null  int64  \n",
      " 4   Y_Maximum              19219 non-null  int64  \n",
      " 5   Pixels_Areas           19219 non-null  int64  \n",
      " 6   X_Perimeter            19219 non-null  int64  \n",
      " 7   Y_Perimeter            19219 non-null  int64  \n",
      " 8   Sum_of_Luminosity      19219 non-null  int64  \n",
      " 9   Minimum_of_Luminosity  19219 non-null  int64  \n",
      " 10  Maximum_of_Luminosity  19219 non-null  int64  \n",
      " 11  Length_of_Conveyer     19219 non-null  int64  \n",
      " 12  TypeOfSteel_A300       19219 non-null  int64  \n",
      " 13  TypeOfSteel_A400       19219 non-null  int64  \n",
      " 14  Steel_Plate_Thickness  19219 non-null  int64  \n",
      " 15  Edges_Index            19219 non-null  float64\n",
      " 16  Empty_Index            19219 non-null  float64\n",
      " 17  Square_Index           19219 non-null  float64\n",
      " 18  Outside_X_Index        19219 non-null  float64\n",
      " 19  Edges_X_Index          19219 non-null  float64\n",
      " 20  Edges_Y_Index          19219 non-null  float64\n",
      " 21  Outside_Global_Index   19219 non-null  float64\n",
      " 22  LogOfAreas             19219 non-null  float64\n",
      " 23  Log_X_Index            19219 non-null  float64\n",
      " 24  Log_Y_Index            19219 non-null  float64\n",
      " 25  Orientation_Index      19219 non-null  float64\n",
      " 26  Luminosity_Index       19219 non-null  float64\n",
      " 27  SigmoidOfAreas         19219 non-null  float64\n",
      " 28  Pastry                 19219 non-null  int64  \n",
      " 29  Z_Scratch              19219 non-null  int64  \n",
      " 30  K_Scatch               19219 non-null  int64  \n",
      " 31  Stains                 19219 non-null  int64  \n",
      " 32  Dirtiness              19219 non-null  int64  \n",
      " 33  Bumps                  19219 non-null  int64  \n",
      " 34  Other_Faults           19219 non-null  int64  \n",
      "dtypes: float64(13), int64(22)\n",
      "memory usage: 5.1 MB\n"
     ]
    }
   ],
   "source": [
    "df.info()"
   ]
  },
  {
   "cell_type": "code",
   "execution_count": 4,
   "id": "ebd7bf64",
   "metadata": {},
   "outputs": [
    {
     "data": {
      "text/plain": [
       "Other_Faults\n",
       "0    12661\n",
       "1     6558\n",
       "Name: count, dtype: int64"
      ]
     },
     "execution_count": 4,
     "metadata": {},
     "output_type": "execute_result"
    }
   ],
   "source": [
    "df['Other_Faults'].value_counts()"
   ]
  },
  {
   "cell_type": "code",
   "execution_count": 5,
   "id": "25e3b067",
   "metadata": {},
   "outputs": [],
   "source": [
    "# unbalcanced data"
   ]
  },
  {
   "cell_type": "code",
   "execution_count": 6,
   "id": "71a09c60",
   "metadata": {},
   "outputs": [
    {
     "data": {
      "text/plain": [
       "Pastry          2\n",
       "Z_Scratch       2\n",
       "K_Scatch        2\n",
       "Stains          2\n",
       "Dirtiness       2\n",
       "Bumps           2\n",
       "Other_Faults    2\n",
       "dtype: int64"
      ]
     },
     "execution_count": 6,
     "metadata": {},
     "output_type": "execute_result"
    }
   ],
   "source": [
    "fault_types = ['Pastry', 'Z_Scratch', 'K_Scatch', 'Stains', 'Dirtiness', 'Bumps', 'Other_Faults']\n",
    "df[fault_types].nunique()"
   ]
  },
  {
   "cell_type": "code",
   "execution_count": 12,
   "id": "6156d6ed",
   "metadata": {},
   "outputs": [
    {
     "data": {
      "text/html": [
       "<div>\n",
       "<style scoped>\n",
       "    .dataframe tbody tr th:only-of-type {\n",
       "        vertical-align: middle;\n",
       "    }\n",
       "\n",
       "    .dataframe tbody tr th {\n",
       "        vertical-align: top;\n",
       "    }\n",
       "\n",
       "    .dataframe thead th {\n",
       "        text-align: right;\n",
       "    }\n",
       "</style>\n",
       "<table border=\"1\" class=\"dataframe\">\n",
       "  <thead>\n",
       "    <tr style=\"text-align: right;\">\n",
       "      <th></th>\n",
       "      <th>Pastry</th>\n",
       "      <th>Z_Scratch</th>\n",
       "      <th>K_Scatch</th>\n",
       "      <th>Stains</th>\n",
       "      <th>Dirtiness</th>\n",
       "      <th>Bumps</th>\n",
       "      <th>Other_Faults</th>\n",
       "      <th>Target</th>\n",
       "    </tr>\n",
       "  </thead>\n",
       "  <tbody>\n",
       "    <tr>\n",
       "      <th>0</th>\n",
       "      <td>0</td>\n",
       "      <td>0</td>\n",
       "      <td>0</td>\n",
       "      <td>1</td>\n",
       "      <td>0</td>\n",
       "      <td>0</td>\n",
       "      <td>0</td>\n",
       "      <td>Stains</td>\n",
       "    </tr>\n",
       "    <tr>\n",
       "      <th>1</th>\n",
       "      <td>0</td>\n",
       "      <td>0</td>\n",
       "      <td>0</td>\n",
       "      <td>0</td>\n",
       "      <td>0</td>\n",
       "      <td>0</td>\n",
       "      <td>1</td>\n",
       "      <td>Other_Faults</td>\n",
       "    </tr>\n",
       "    <tr>\n",
       "      <th>2</th>\n",
       "      <td>0</td>\n",
       "      <td>0</td>\n",
       "      <td>1</td>\n",
       "      <td>0</td>\n",
       "      <td>0</td>\n",
       "      <td>0</td>\n",
       "      <td>0</td>\n",
       "      <td>K_Scatch</td>\n",
       "    </tr>\n",
       "    <tr>\n",
       "      <th>3</th>\n",
       "      <td>0</td>\n",
       "      <td>0</td>\n",
       "      <td>1</td>\n",
       "      <td>0</td>\n",
       "      <td>0</td>\n",
       "      <td>0</td>\n",
       "      <td>0</td>\n",
       "      <td>K_Scatch</td>\n",
       "    </tr>\n",
       "    <tr>\n",
       "      <th>4</th>\n",
       "      <td>0</td>\n",
       "      <td>0</td>\n",
       "      <td>0</td>\n",
       "      <td>0</td>\n",
       "      <td>0</td>\n",
       "      <td>0</td>\n",
       "      <td>1</td>\n",
       "      <td>Other_Faults</td>\n",
       "    </tr>\n",
       "    <tr>\n",
       "      <th>5</th>\n",
       "      <td>0</td>\n",
       "      <td>0</td>\n",
       "      <td>0</td>\n",
       "      <td>0</td>\n",
       "      <td>0</td>\n",
       "      <td>0</td>\n",
       "      <td>1</td>\n",
       "      <td>Other_Faults</td>\n",
       "    </tr>\n",
       "    <tr>\n",
       "      <th>6</th>\n",
       "      <td>0</td>\n",
       "      <td>0</td>\n",
       "      <td>0</td>\n",
       "      <td>0</td>\n",
       "      <td>0</td>\n",
       "      <td>1</td>\n",
       "      <td>0</td>\n",
       "      <td>Bumps</td>\n",
       "    </tr>\n",
       "    <tr>\n",
       "      <th>7</th>\n",
       "      <td>1</td>\n",
       "      <td>0</td>\n",
       "      <td>0</td>\n",
       "      <td>0</td>\n",
       "      <td>0</td>\n",
       "      <td>0</td>\n",
       "      <td>0</td>\n",
       "      <td>Pastry</td>\n",
       "    </tr>\n",
       "    <tr>\n",
       "      <th>8</th>\n",
       "      <td>0</td>\n",
       "      <td>0</td>\n",
       "      <td>0</td>\n",
       "      <td>0</td>\n",
       "      <td>0</td>\n",
       "      <td>0</td>\n",
       "      <td>0</td>\n",
       "      <td>Pastry</td>\n",
       "    </tr>\n",
       "    <tr>\n",
       "      <th>9</th>\n",
       "      <td>0</td>\n",
       "      <td>0</td>\n",
       "      <td>0</td>\n",
       "      <td>0</td>\n",
       "      <td>0</td>\n",
       "      <td>1</td>\n",
       "      <td>0</td>\n",
       "      <td>Bumps</td>\n",
       "    </tr>\n",
       "  </tbody>\n",
       "</table>\n",
       "</div>"
      ],
      "text/plain": [
       "   Pastry  Z_Scratch  K_Scatch  Stains  Dirtiness  Bumps  Other_Faults  \\\n",
       "0       0          0         0       1          0      0             0   \n",
       "1       0          0         0       0          0      0             1   \n",
       "2       0          0         1       0          0      0             0   \n",
       "3       0          0         1       0          0      0             0   \n",
       "4       0          0         0       0          0      0             1   \n",
       "5       0          0         0       0          0      0             1   \n",
       "6       0          0         0       0          0      1             0   \n",
       "7       1          0         0       0          0      0             0   \n",
       "8       0          0         0       0          0      0             0   \n",
       "9       0          0         0       0          0      1             0   \n",
       "\n",
       "         Target  \n",
       "0        Stains  \n",
       "1  Other_Faults  \n",
       "2      K_Scatch  \n",
       "3      K_Scatch  \n",
       "4  Other_Faults  \n",
       "5  Other_Faults  \n",
       "6         Bumps  \n",
       "7        Pastry  \n",
       "8        Pastry  \n",
       "9         Bumps  "
      ]
     },
     "execution_count": 12,
     "metadata": {},
     "output_type": "execute_result"
    }
   ],
   "source": [
    "df[fault_types].head(10)"
   ]
  },
  {
   "cell_type": "code",
   "execution_count": 8,
   "id": "c7947f96",
   "metadata": {},
   "outputs": [],
   "source": [
    "df['Target'] = df[fault_types].idxmax(axis=1)"
   ]
  },
  {
   "cell_type": "code",
   "execution_count": 11,
   "id": "83e63cb7",
   "metadata": {},
   "outputs": [
    {
     "data": {
      "text/html": [
       "<div>\n",
       "<style scoped>\n",
       "    .dataframe tbody tr th:only-of-type {\n",
       "        vertical-align: middle;\n",
       "    }\n",
       "\n",
       "    .dataframe tbody tr th {\n",
       "        vertical-align: top;\n",
       "    }\n",
       "\n",
       "    .dataframe thead th {\n",
       "        text-align: right;\n",
       "    }\n",
       "</style>\n",
       "<table border=\"1\" class=\"dataframe\">\n",
       "  <thead>\n",
       "    <tr style=\"text-align: right;\">\n",
       "      <th></th>\n",
       "      <th>id</th>\n",
       "      <th>X_Minimum</th>\n",
       "      <th>X_Maximum</th>\n",
       "      <th>Y_Minimum</th>\n",
       "      <th>Y_Maximum</th>\n",
       "      <th>Pixels_Areas</th>\n",
       "      <th>X_Perimeter</th>\n",
       "      <th>Y_Perimeter</th>\n",
       "      <th>Sum_of_Luminosity</th>\n",
       "      <th>Minimum_of_Luminosity</th>\n",
       "      <th>...</th>\n",
       "      <th>Luminosity_Index</th>\n",
       "      <th>SigmoidOfAreas</th>\n",
       "      <th>Pastry</th>\n",
       "      <th>Z_Scratch</th>\n",
       "      <th>K_Scatch</th>\n",
       "      <th>Stains</th>\n",
       "      <th>Dirtiness</th>\n",
       "      <th>Bumps</th>\n",
       "      <th>Other_Faults</th>\n",
       "      <th>Target</th>\n",
       "    </tr>\n",
       "  </thead>\n",
       "  <tbody>\n",
       "    <tr>\n",
       "      <th>0</th>\n",
       "      <td>0</td>\n",
       "      <td>584</td>\n",
       "      <td>590</td>\n",
       "      <td>909972</td>\n",
       "      <td>909977</td>\n",
       "      <td>16</td>\n",
       "      <td>8</td>\n",
       "      <td>5</td>\n",
       "      <td>2274</td>\n",
       "      <td>113</td>\n",
       "      <td>...</td>\n",
       "      <td>-0.0104</td>\n",
       "      <td>0.1417</td>\n",
       "      <td>0</td>\n",
       "      <td>0</td>\n",
       "      <td>0</td>\n",
       "      <td>1</td>\n",
       "      <td>0</td>\n",
       "      <td>0</td>\n",
       "      <td>0</td>\n",
       "      <td>Stains</td>\n",
       "    </tr>\n",
       "    <tr>\n",
       "      <th>1</th>\n",
       "      <td>1</td>\n",
       "      <td>808</td>\n",
       "      <td>816</td>\n",
       "      <td>728350</td>\n",
       "      <td>728372</td>\n",
       "      <td>433</td>\n",
       "      <td>20</td>\n",
       "      <td>54</td>\n",
       "      <td>44478</td>\n",
       "      <td>70</td>\n",
       "      <td>...</td>\n",
       "      <td>-0.2997</td>\n",
       "      <td>0.9491</td>\n",
       "      <td>0</td>\n",
       "      <td>0</td>\n",
       "      <td>0</td>\n",
       "      <td>0</td>\n",
       "      <td>0</td>\n",
       "      <td>0</td>\n",
       "      <td>1</td>\n",
       "      <td>Other_Faults</td>\n",
       "    </tr>\n",
       "    <tr>\n",
       "      <th>2</th>\n",
       "      <td>2</td>\n",
       "      <td>39</td>\n",
       "      <td>192</td>\n",
       "      <td>2212076</td>\n",
       "      <td>2212144</td>\n",
       "      <td>11388</td>\n",
       "      <td>705</td>\n",
       "      <td>420</td>\n",
       "      <td>1311391</td>\n",
       "      <td>29</td>\n",
       "      <td>...</td>\n",
       "      <td>-0.0944</td>\n",
       "      <td>1.0000</td>\n",
       "      <td>0</td>\n",
       "      <td>0</td>\n",
       "      <td>1</td>\n",
       "      <td>0</td>\n",
       "      <td>0</td>\n",
       "      <td>0</td>\n",
       "      <td>0</td>\n",
       "      <td>K_Scatch</td>\n",
       "    </tr>\n",
       "    <tr>\n",
       "      <th>3</th>\n",
       "      <td>3</td>\n",
       "      <td>781</td>\n",
       "      <td>789</td>\n",
       "      <td>3353146</td>\n",
       "      <td>3353173</td>\n",
       "      <td>210</td>\n",
       "      <td>16</td>\n",
       "      <td>29</td>\n",
       "      <td>3202</td>\n",
       "      <td>114</td>\n",
       "      <td>...</td>\n",
       "      <td>-0.0402</td>\n",
       "      <td>0.4025</td>\n",
       "      <td>0</td>\n",
       "      <td>0</td>\n",
       "      <td>1</td>\n",
       "      <td>0</td>\n",
       "      <td>0</td>\n",
       "      <td>0</td>\n",
       "      <td>0</td>\n",
       "      <td>K_Scatch</td>\n",
       "    </tr>\n",
       "    <tr>\n",
       "      <th>4</th>\n",
       "      <td>4</td>\n",
       "      <td>1540</td>\n",
       "      <td>1560</td>\n",
       "      <td>618457</td>\n",
       "      <td>618502</td>\n",
       "      <td>521</td>\n",
       "      <td>72</td>\n",
       "      <td>67</td>\n",
       "      <td>48231</td>\n",
       "      <td>82</td>\n",
       "      <td>...</td>\n",
       "      <td>-0.2455</td>\n",
       "      <td>0.9998</td>\n",
       "      <td>0</td>\n",
       "      <td>0</td>\n",
       "      <td>0</td>\n",
       "      <td>0</td>\n",
       "      <td>0</td>\n",
       "      <td>0</td>\n",
       "      <td>1</td>\n",
       "      <td>Other_Faults</td>\n",
       "    </tr>\n",
       "    <tr>\n",
       "      <th>...</th>\n",
       "      <td>...</td>\n",
       "      <td>...</td>\n",
       "      <td>...</td>\n",
       "      <td>...</td>\n",
       "      <td>...</td>\n",
       "      <td>...</td>\n",
       "      <td>...</td>\n",
       "      <td>...</td>\n",
       "      <td>...</td>\n",
       "      <td>...</td>\n",
       "      <td>...</td>\n",
       "      <td>...</td>\n",
       "      <td>...</td>\n",
       "      <td>...</td>\n",
       "      <td>...</td>\n",
       "      <td>...</td>\n",
       "      <td>...</td>\n",
       "      <td>...</td>\n",
       "      <td>...</td>\n",
       "      <td>...</td>\n",
       "      <td>...</td>\n",
       "    </tr>\n",
       "    <tr>\n",
       "      <th>19214</th>\n",
       "      <td>19214</td>\n",
       "      <td>749</td>\n",
       "      <td>757</td>\n",
       "      <td>143210</td>\n",
       "      <td>143219</td>\n",
       "      <td>17</td>\n",
       "      <td>4</td>\n",
       "      <td>4</td>\n",
       "      <td>2193</td>\n",
       "      <td>122</td>\n",
       "      <td>...</td>\n",
       "      <td>0.0044</td>\n",
       "      <td>0.2901</td>\n",
       "      <td>0</td>\n",
       "      <td>0</td>\n",
       "      <td>0</td>\n",
       "      <td>1</td>\n",
       "      <td>0</td>\n",
       "      <td>0</td>\n",
       "      <td>0</td>\n",
       "      <td>Stains</td>\n",
       "    </tr>\n",
       "    <tr>\n",
       "      <th>19215</th>\n",
       "      <td>19215</td>\n",
       "      <td>723</td>\n",
       "      <td>735</td>\n",
       "      <td>2488529</td>\n",
       "      <td>2488541</td>\n",
       "      <td>231</td>\n",
       "      <td>17</td>\n",
       "      <td>26</td>\n",
       "      <td>27135</td>\n",
       "      <td>104</td>\n",
       "      <td>...</td>\n",
       "      <td>-0.0989</td>\n",
       "      <td>0.5378</td>\n",
       "      <td>0</td>\n",
       "      <td>0</td>\n",
       "      <td>0</td>\n",
       "      <td>0</td>\n",
       "      <td>0</td>\n",
       "      <td>0</td>\n",
       "      <td>1</td>\n",
       "      <td>Other_Faults</td>\n",
       "    </tr>\n",
       "    <tr>\n",
       "      <th>19216</th>\n",
       "      <td>19216</td>\n",
       "      <td>6</td>\n",
       "      <td>31</td>\n",
       "      <td>1578055</td>\n",
       "      <td>1578129</td>\n",
       "      <td>780</td>\n",
       "      <td>114</td>\n",
       "      <td>98</td>\n",
       "      <td>71112</td>\n",
       "      <td>41</td>\n",
       "      <td>...</td>\n",
       "      <td>-0.4283</td>\n",
       "      <td>0.9997</td>\n",
       "      <td>1</td>\n",
       "      <td>0</td>\n",
       "      <td>0</td>\n",
       "      <td>0</td>\n",
       "      <td>0</td>\n",
       "      <td>0</td>\n",
       "      <td>0</td>\n",
       "      <td>Pastry</td>\n",
       "    </tr>\n",
       "    <tr>\n",
       "      <th>19217</th>\n",
       "      <td>19217</td>\n",
       "      <td>9</td>\n",
       "      <td>18</td>\n",
       "      <td>1713172</td>\n",
       "      <td>1713184</td>\n",
       "      <td>126</td>\n",
       "      <td>13</td>\n",
       "      <td>26</td>\n",
       "      <td>14808</td>\n",
       "      <td>88</td>\n",
       "      <td>...</td>\n",
       "      <td>-0.1162</td>\n",
       "      <td>0.3509</td>\n",
       "      <td>0</td>\n",
       "      <td>0</td>\n",
       "      <td>0</td>\n",
       "      <td>0</td>\n",
       "      <td>0</td>\n",
       "      <td>0</td>\n",
       "      <td>1</td>\n",
       "      <td>Other_Faults</td>\n",
       "    </tr>\n",
       "    <tr>\n",
       "      <th>19218</th>\n",
       "      <td>19218</td>\n",
       "      <td>1505</td>\n",
       "      <td>1525</td>\n",
       "      <td>1733458</td>\n",
       "      <td>1733471</td>\n",
       "      <td>182</td>\n",
       "      <td>24</td>\n",
       "      <td>33</td>\n",
       "      <td>22785</td>\n",
       "      <td>98</td>\n",
       "      <td>...</td>\n",
       "      <td>-0.1120</td>\n",
       "      <td>0.6619</td>\n",
       "      <td>0</td>\n",
       "      <td>0</td>\n",
       "      <td>0</td>\n",
       "      <td>0</td>\n",
       "      <td>0</td>\n",
       "      <td>1</td>\n",
       "      <td>0</td>\n",
       "      <td>Bumps</td>\n",
       "    </tr>\n",
       "  </tbody>\n",
       "</table>\n",
       "<p>19219 rows × 36 columns</p>\n",
       "</div>"
      ],
      "text/plain": [
       "          id  X_Minimum  X_Maximum  Y_Minimum  Y_Maximum  Pixels_Areas  \\\n",
       "0          0        584        590     909972     909977            16   \n",
       "1          1        808        816     728350     728372           433   \n",
       "2          2         39        192    2212076    2212144         11388   \n",
       "3          3        781        789    3353146    3353173           210   \n",
       "4          4       1540       1560     618457     618502           521   \n",
       "...      ...        ...        ...        ...        ...           ...   \n",
       "19214  19214        749        757     143210     143219            17   \n",
       "19215  19215        723        735    2488529    2488541           231   \n",
       "19216  19216          6         31    1578055    1578129           780   \n",
       "19217  19217          9         18    1713172    1713184           126   \n",
       "19218  19218       1505       1525    1733458    1733471           182   \n",
       "\n",
       "       X_Perimeter  Y_Perimeter  Sum_of_Luminosity  Minimum_of_Luminosity  \\\n",
       "0                8            5               2274                    113   \n",
       "1               20           54              44478                     70   \n",
       "2              705          420            1311391                     29   \n",
       "3               16           29               3202                    114   \n",
       "4               72           67              48231                     82   \n",
       "...            ...          ...                ...                    ...   \n",
       "19214            4            4               2193                    122   \n",
       "19215           17           26              27135                    104   \n",
       "19216          114           98              71112                     41   \n",
       "19217           13           26              14808                     88   \n",
       "19218           24           33              22785                     98   \n",
       "\n",
       "       ...  Luminosity_Index  SigmoidOfAreas  Pastry  Z_Scratch  K_Scatch  \\\n",
       "0      ...           -0.0104          0.1417       0          0         0   \n",
       "1      ...           -0.2997          0.9491       0          0         0   \n",
       "2      ...           -0.0944          1.0000       0          0         1   \n",
       "3      ...           -0.0402          0.4025       0          0         1   \n",
       "4      ...           -0.2455          0.9998       0          0         0   \n",
       "...    ...               ...             ...     ...        ...       ...   \n",
       "19214  ...            0.0044          0.2901       0          0         0   \n",
       "19215  ...           -0.0989          0.5378       0          0         0   \n",
       "19216  ...           -0.4283          0.9997       1          0         0   \n",
       "19217  ...           -0.1162          0.3509       0          0         0   \n",
       "19218  ...           -0.1120          0.6619       0          0         0   \n",
       "\n",
       "       Stains  Dirtiness  Bumps  Other_Faults        Target  \n",
       "0           1          0      0             0        Stains  \n",
       "1           0          0      0             1  Other_Faults  \n",
       "2           0          0      0             0      K_Scatch  \n",
       "3           0          0      0             0      K_Scatch  \n",
       "4           0          0      0             1  Other_Faults  \n",
       "...       ...        ...    ...           ...           ...  \n",
       "19214       1          0      0             0        Stains  \n",
       "19215       0          0      0             1  Other_Faults  \n",
       "19216       0          0      0             0        Pastry  \n",
       "19217       0          0      0             1  Other_Faults  \n",
       "19218       0          0      1             0         Bumps  \n",
       "\n",
       "[19219 rows x 36 columns]"
      ]
     },
     "execution_count": 11,
     "metadata": {},
     "output_type": "execute_result"
    }
   ],
   "source": [
    "df"
   ]
  },
  {
   "cell_type": "markdown",
   "id": "46d22838",
   "metadata": {},
   "source": [
    "- Pastry: Small patches or irregularities on the steel plate surface.\n",
    "- Z_Scratch: Narrow scratches on the surface running parallel to the rolling direction.\n",
    "- K_Scratch: Scratches similar to Z-scratch but perpendicular to the rolling direction.\n",
    "- Stains: Discolored areas indicating contamination.\n",
    "- Dirtiness: Presence of dirt or particulate matter on the surface.\n",
    "- Bumps: Protruding areas on the surface of the steel plate.\n",
    "- Other_Faults: A catch-all category for faults not classified elsewhere."
   ]
  },
  {
   "cell_type": "code",
   "execution_count": 15,
   "id": "62f61794",
   "metadata": {},
   "outputs": [
    {
     "data": {
      "text/plain": [
       "Target\n",
       "Other_Faults    0.340288\n",
       "Bumps           0.247724\n",
       "K_Scatch        0.178521\n",
       "Pastry          0.118841\n",
       "Z_Scratch       0.059837\n",
       "Stains          0.029554\n",
       "Dirtiness       0.025235\n",
       "Name: proportion, dtype: float64"
      ]
     },
     "execution_count": 15,
     "metadata": {},
     "output_type": "execute_result"
    }
   ],
   "source": [
    "# Calculate the probability of each category\n",
    "probabilities = df['Target'].value_counts(normalize=True)\n",
    "probabilities"
   ]
  },
  {
   "cell_type": "code",
   "execution_count": 21,
   "id": "e3a05d06",
   "metadata": {},
   "outputs": [
    {
     "data": {
      "text/plain": [
       "2.364097425566414"
      ]
     },
     "execution_count": 21,
     "metadata": {},
     "output_type": "execute_result"
    }
   ],
   "source": [
    "# Calculate entropy using the formula\n",
    "entropy = -np.sum(probabilities * np.log2(probabilities))\n",
    "entropy"
   ]
  },
  {
   "cell_type": "code",
   "execution_count": 24,
   "id": "19ccf12d",
   "metadata": {},
   "outputs": [
    {
     "name": "stdout",
     "output_type": "stream",
     "text": [
      "The root entropy is: 2.36\n"
     ]
    }
   ],
   "source": [
    "import numpy as np\n",
    "\n",
    "fault_types = ['Pastry', 'Z_Scratch', 'K_Scatch', 'Stains', 'Dirtiness', 'Bumps', 'Other_Faults']\n",
    "df['Target'] = df[fault_types].idxmax(axis=1)\n",
    "\n",
    "# Function to calculate entropy\n",
    "def entropy_calc(y):\n",
    "    p = y.value_counts(normalize=True).to_numpy()\n",
    "    entropies = -p * np.log2(p)  # Using log base 2 for entropy calculation\n",
    "    return round(np.sum(entropies), 2)\n",
    "\n",
    "# Calculate root entropy\n",
    "root_entropy = entropy_calc(df['Target'])\n",
    "print(f\"The root entropy is: {root_entropy}\")"
   ]
  },
  {
   "cell_type": "code",
   "execution_count": 28,
   "id": "db54f1e7",
   "metadata": {},
   "outputs": [
    {
     "data": {
      "text/plain": [
       "<Axes: xlabel='Target'>"
      ]
     },
     "execution_count": 28,
     "metadata": {},
     "output_type": "execute_result"
    },
    {
     "data": {
      "image/png": "[encoded data removed]",
      "text/plain": [
       "<Figure size 640x480 with 1 Axes>"
      ]
     },
     "metadata": {},
     "output_type": "display_data"
    }
   ],
   "source": [
    "df['Target'].value_counts().plot(kind='bar')"
   ]
  },
  {
   "cell_type": "code",
   "execution_count": 37,
   "id": "37e4a211",
   "metadata": {},
   "outputs": [],
   "source": [
    "X = df[['Pixels_Areas', 'SigmoidOfAreas']]\n",
    "y = df.Target"
   ]
  },
  {
   "cell_type": "code",
   "execution_count": 39,
   "id": "5a46477b",
   "metadata": {},
   "outputs": [],
   "source": [
    "X_train, X_test, y_train, y_test = train_test_split(X, y)"
   ]
  },
  {
   "cell_type": "code",
   "execution_count": 54,
   "id": "4b0a6db2",
   "metadata": {},
   "outputs": [
    {
     "name": "stdout",
     "output_type": "stream",
     "text": [
      "(14414, 2)\n",
      "(4805, 2)\n",
      "(14414,)\n",
      "(4805,)\n"
     ]
    }
   ],
   "source": [
    "print(X_train.shape)\n",
    "print(X_test.shape)\n",
    "print(y_train.shape)\n",
    "print(y_test.shape) "
   ]
  },
  {
   "cell_type": "code",
   "execution_count": 55,
   "id": "2afa4872",
   "metadata": {},
   "outputs": [],
   "source": [
    "from sklearn.tree import plot_tree"
   ]
  },
  {
   "cell_type": "code",
   "execution_count": 61,
   "id": "215e57ef",
   "metadata": {},
   "outputs": [
    {
     "data": {
      "image/png": "[encoded data removed]",
      "text/plain": [
       "<Figure size 2000x500 with 1 Axes>"
      ]
     },
     "metadata": {},
     "output_type": "display_data"
    }
   ],
   "source": [
    "clf = DecisionTreeClassifier(max_depth=3, criterion='gini')\n",
    "clf.fit(X_train, y_train) \n",
    "plt.figure(figsize=(20, 5))\n",
    "tree.plot_tree(clf, feature_names=X.columns, class_names='Target', filled=True, rounded=True)\n",
    "plt.show()"
   ]
  },
  {
   "cell_type": "code",
   "execution_count": 129,
   "id": "9d13a3f7",
   "metadata": {},
   "outputs": [
    {
     "data": {
      "text/plain": [
       "-1"
      ]
     },
     "execution_count": 129,
     "metadata": {},
     "output_type": "execute_result"
    }
   ],
   "source": [
    "def gini_cal(p_p=1, p_y=1):    \n",
    "    return np.round(1 - np.sum(np.array([p_p, p_y])**2), 2)\n",
    "\n",
    "gini_cal()"
   ]
  },
  {
   "cell_type": "code",
   "execution_count": 142,
   "id": "7ef0cd0b",
   "metadata": {},
   "outputs": [],
   "source": [
    "purple = 5 \n",
    "yellow = 5 "
   ]
  },
  {
   "cell_type": "code",
   "execution_count": 180,
   "id": "a38c00f8",
   "metadata": {},
   "outputs": [
    {
     "data": {
      "text/plain": [
       "0.5"
      ]
     },
     "execution_count": 180,
     "metadata": {},
     "output_type": "execute_result"
    }
   ],
   "source": [
    "n_samples = 10\n",
    "p_p = 5/n_samples\n",
    "p_y = 5/n_samples\n",
    "\n",
    "p_gini = gini_cal( p_p = p_p, p_y = p_y)\n",
    "p_gini"
   ]
  },
  {
   "cell_type": "code",
   "execution_count": 185,
   "id": "001b85a3",
   "metadata": {},
   "outputs": [
    {
     "data": {
      "text/plain": [
       "0.0"
      ]
     },
     "execution_count": 185,
     "metadata": {},
     "output_type": "execute_result"
    }
   ],
   "source": [
    "# left\n",
    "n_samples = 4\n",
    "p_p = 4/n_samples\n",
    "p_y = 0/n_samples\n",
    "\n",
    "left_gini = gini_cal( p_p = p_p, p_y = p_y)\n",
    "left_gini"
   ]
  },
  {
   "cell_type": "code",
   "execution_count": 182,
   "id": "48887d81",
   "metadata": {},
   "outputs": [
    {
     "data": {
      "text/plain": [
       "0.28"
      ]
     },
     "execution_count": 182,
     "metadata": {},
     "output_type": "execute_result"
    }
   ],
   "source": [
    "# right \n",
    "\n",
    "n_samples = 6\n",
    "p_p = 1/n_samples\n",
    "p_y = 5/n_samples\n",
    "\n",
    "right_gini = gini_cal( p_p = p_p, p_y = p_y)\n",
    "right_gini"
   ]
  },
  {
   "cell_type": "code",
   "execution_count": 183,
   "id": "a683483a",
   "metadata": {},
   "outputs": [
    {
     "data": {
      "text/plain": [
       "0.168"
      ]
     },
     "execution_count": 183,
     "metadata": {},
     "output_type": "execute_result"
    }
   ],
   "source": [
    "wtGiniIndex = (left_gini  * 4/10) + (right_gini* 6/10)\n",
    "wtGiniIndex"
   ]
  },
  {
   "cell_type": "code",
   "execution_count": 186,
   "id": "4369d7ae",
   "metadata": {},
   "outputs": [
    {
     "data": {
      "text/plain": [
       "0.33199999999999996"
      ]
     },
     "execution_count": 186,
     "metadata": {},
     "output_type": "execute_result"
    }
   ],
   "source": [
    "p_gini - wtGiniIndex"
   ]
  },
  {
   "cell_type": "code",
   "execution_count": null,
   "id": "e02681ba",
   "metadata": {},
   "outputs": [],
   "source": []
  },
  {
   "cell_type": "code",
   "execution_count": 195,
   "id": "cdb701cb",
   "metadata": {},
   "outputs": [
    {
     "data": {
      "text/plain": [
       "0.32"
      ]
     },
     "execution_count": 195,
     "metadata": {},
     "output_type": "execute_result"
    }
   ],
   "source": [
    "## parent\n",
    "n_samples = 5\n",
    "p_c = 4/n_samples\n",
    "p_r = 1/n_samples\n",
    "\n",
    "p_gini = gini_cal( p_p = p_c, p_y = p_r)\n",
    "p_gini"
   ]
  },
  {
   "cell_type": "code",
   "execution_count": 196,
   "id": "9115ab42",
   "metadata": {},
   "outputs": [
    {
     "data": {
      "text/plain": [
       "0.5"
      ]
     },
     "execution_count": 196,
     "metadata": {},
     "output_type": "execute_result"
    }
   ],
   "source": [
    "## left\n",
    "n_samples = 2\n",
    "p_c = 1/n_samples\n",
    "p_r = 1/n_samples\n",
    "\n",
    "left_gini = gini_cal( p_p = p_c, p_y = p_r)\n",
    "left_gini"
   ]
  },
  {
   "cell_type": "code",
   "execution_count": 197,
   "id": "ef081a88",
   "metadata": {},
   "outputs": [
    {
     "data": {
      "text/plain": [
       "0.0"
      ]
     },
     "execution_count": 197,
     "metadata": {},
     "output_type": "execute_result"
    }
   ],
   "source": [
    "## left\n",
    "n_samples = 3\n",
    "p_c = 3/n_samples\n",
    "p_r = 0/n_samples\n",
    "\n",
    "right_gini = gini_cal( p_p = p_c, p_y = p_r)\n",
    "right_gini"
   ]
  },
  {
   "cell_type": "code",
   "execution_count": 198,
   "id": "c92738ef",
   "metadata": {},
   "outputs": [
    {
     "data": {
      "text/plain": [
       "0.2"
      ]
     },
     "execution_count": 198,
     "metadata": {},
     "output_type": "execute_result"
    }
   ],
   "source": [
    "wtGiniIndex = (left_gini  * 2/5) + (right_gini* 3/5)\n",
    "wtGiniIndex"
   ]
  }
 ],
 "metadata": {
  "kernelspec": {
   "display_name": "Python 3 (ipykernel)",
   "language": "python",
   "name": "python3"
  },
  "language_info": {
   "codemirror_mode": {
    "name": "ipython",
    "version": 3
   },
   "file_extension": ".py",
   "mimetype": "text/x-python",
   "name": "python",
   "nbconvert_exporter": "python",
   "pygments_lexer": "ipython3",
   "version": "3.11.5"
  }
 },
 "nbformat": 4,
 "nbformat_minor": 5
}
