{
 "cells": [
  {
   "cell_type": "markdown",
   "id": "83d04e55",
   "metadata": {},
   "source": [
    "# Analyzing Restaurant Booking Trends with Boosting Algorithms"
   ]
  },
  {
   "cell_type": "markdown",
   "id": "60775816",
   "metadata": {},
   "source": [
    "### Context\n",
    "\n",
    "\n",
    "### Dataset Description\n",
    "\n",
    "The dataset you will analyze contains a variety of attributes related to restaurant bookings. These details offer insights into customer preferences, booking patterns, and cancellation trends. Each booking record is characterized by several features:\n",
    "\n",
    "### Booking Attributes:\n",
    "- **id:** Unique identifier for each booking.\n",
    "- **no_of_adults:** Number of adults per booking.\n",
    "- **no_of_children:** Number of children per booking.\n",
    "- **no_of_weekend_nights:** Number of weekend nights booked.\n",
    "- **no_of_week_nights:** Number of weekday nights booked.\n",
    "- **type_of_meal_plan:** Type of meal plan selected (e.g., bed and breakfast, all-inclusive).\n",
    "- **required_car_parking_space:** Indicates if a parking space was required.\n",
    "- **room_type_reserved:** Type of room reserved.\n",
    "- **lead_time:** Number of days between the booking date and the arrival date.\n",
    "- **arrival_year, arrival_month, arrival_date:** Date details for when the booking is scheduled.\n",
    "- **market_segment_type:** The market segment from which the booking originated.\n",
    "- **repeated_guest:** Flag indicating if the guest has booked before.\n",
    "- **no_of_previous_cancellations:** Number of prior cancellations by the guest.\n",
    "- **no_of_previous_bookings_not_canceled:** Number of previous bookings not canceled by the guest.\n",
    "- **avg_price_per_room:** Average price per room type.\n",
    "- **no_of_special_requests:** Number of special requests made by the guest.\n",
    "- **booking_status:** Status of the booking ( confirmed = 0, canceled = 1).\n",
    "\n",
    "Your objective is to use boosting techniques to predict the 'booking_status' and analyze factors that influence booking behaviors. This analysis will help in identifying key trends that could influence policy adjustments, promotional strategies, and operational improvements."
   ]
  },
  {
   "cell_type": "code",
   "execution_count": 1,
   "id": "52b9d1c3",
   "metadata": {},
   "outputs": [],
   "source": [
    "import pandas as pd\n",
    "import seaborn as sns\n",
    "import matplotlib.pyplot as plt"
   ]
  },
  {
   "cell_type": "code",
   "execution_count": 2,
   "id": "9bd2cc04",
   "metadata": {},
   "outputs": [
    {
     "data": {
      "text/html": [
       "<div>\n",
       "<style scoped>\n",
       "    .dataframe tbody tr th:only-of-type {\n",
       "        vertical-align: middle;\n",
       "    }\n",
       "\n",
       "    .dataframe tbody tr th {\n",
       "        vertical-align: top;\n",
       "    }\n",
       "\n",
       "    .dataframe thead th {\n",
       "        text-align: right;\n",
       "    }\n",
       "</style>\n",
       "<table border=\"1\" class=\"dataframe\">\n",
       "  <thead>\n",
       "    <tr style=\"text-align: right;\">\n",
       "      <th></th>\n",
       "      <th>id</th>\n",
       "      <th>no_of_adults</th>\n",
       "      <th>no_of_children</th>\n",
       "      <th>no_of_weekend_nights</th>\n",
       "      <th>no_of_week_nights</th>\n",
       "      <th>type_of_meal_plan</th>\n",
       "      <th>required_car_parking_space</th>\n",
       "      <th>room_type_reserved</th>\n",
       "      <th>lead_time</th>\n",
       "      <th>arrival_year</th>\n",
       "      <th>arrival_month</th>\n",
       "      <th>arrival_date</th>\n",
       "      <th>market_segment_type</th>\n",
       "      <th>repeated_guest</th>\n",
       "      <th>no_of_previous_cancellations</th>\n",
       "      <th>no_of_previous_bookings_not_canceled</th>\n",
       "      <th>avg_price_per_room</th>\n",
       "      <th>no_of_special_requests</th>\n",
       "      <th>booking_status</th>\n",
       "    </tr>\n",
       "  </thead>\n",
       "  <tbody>\n",
       "    <tr>\n",
       "      <th>0</th>\n",
       "      <td>0</td>\n",
       "      <td>2</td>\n",
       "      <td>0</td>\n",
       "      <td>0</td>\n",
       "      <td>2</td>\n",
       "      <td>1</td>\n",
       "      <td>0</td>\n",
       "      <td>0</td>\n",
       "      <td>9</td>\n",
       "      <td>2018</td>\n",
       "      <td>1</td>\n",
       "      <td>14</td>\n",
       "      <td>1</td>\n",
       "      <td>1</td>\n",
       "      <td>11</td>\n",
       "      <td>0</td>\n",
       "      <td>67.50</td>\n",
       "      <td>0</td>\n",
       "      <td>0</td>\n",
       "    </tr>\n",
       "    <tr>\n",
       "      <th>1</th>\n",
       "      <td>1</td>\n",
       "      <td>2</td>\n",
       "      <td>0</td>\n",
       "      <td>1</td>\n",
       "      <td>2</td>\n",
       "      <td>0</td>\n",
       "      <td>0</td>\n",
       "      <td>0</td>\n",
       "      <td>117</td>\n",
       "      <td>2018</td>\n",
       "      <td>7</td>\n",
       "      <td>29</td>\n",
       "      <td>0</td>\n",
       "      <td>0</td>\n",
       "      <td>0</td>\n",
       "      <td>0</td>\n",
       "      <td>72.25</td>\n",
       "      <td>0</td>\n",
       "      <td>0</td>\n",
       "    </tr>\n",
       "    <tr>\n",
       "      <th>2</th>\n",
       "      <td>2</td>\n",
       "      <td>2</td>\n",
       "      <td>0</td>\n",
       "      <td>0</td>\n",
       "      <td>1</td>\n",
       "      <td>0</td>\n",
       "      <td>0</td>\n",
       "      <td>0</td>\n",
       "      <td>315</td>\n",
       "      <td>2018</td>\n",
       "      <td>12</td>\n",
       "      <td>2</td>\n",
       "      <td>0</td>\n",
       "      <td>0</td>\n",
       "      <td>0</td>\n",
       "      <td>0</td>\n",
       "      <td>52.00</td>\n",
       "      <td>0</td>\n",
       "      <td>0</td>\n",
       "    </tr>\n",
       "    <tr>\n",
       "      <th>3</th>\n",
       "      <td>3</td>\n",
       "      <td>1</td>\n",
       "      <td>0</td>\n",
       "      <td>0</td>\n",
       "      <td>2</td>\n",
       "      <td>1</td>\n",
       "      <td>0</td>\n",
       "      <td>0</td>\n",
       "      <td>32</td>\n",
       "      <td>2018</td>\n",
       "      <td>12</td>\n",
       "      <td>1</td>\n",
       "      <td>1</td>\n",
       "      <td>0</td>\n",
       "      <td>0</td>\n",
       "      <td>0</td>\n",
       "      <td>56.00</td>\n",
       "      <td>0</td>\n",
       "      <td>0</td>\n",
       "    </tr>\n",
       "    <tr>\n",
       "      <th>4</th>\n",
       "      <td>4</td>\n",
       "      <td>2</td>\n",
       "      <td>0</td>\n",
       "      <td>1</td>\n",
       "      <td>0</td>\n",
       "      <td>0</td>\n",
       "      <td>0</td>\n",
       "      <td>0</td>\n",
       "      <td>258</td>\n",
       "      <td>2018</td>\n",
       "      <td>10</td>\n",
       "      <td>16</td>\n",
       "      <td>0</td>\n",
       "      <td>0</td>\n",
       "      <td>0</td>\n",
       "      <td>0</td>\n",
       "      <td>100.00</td>\n",
       "      <td>0</td>\n",
       "      <td>1</td>\n",
       "    </tr>\n",
       "  </tbody>\n",
       "</table>\n",
       "</div>"
      ],
      "text/plain": [
       "   id  no_of_adults  no_of_children  no_of_weekend_nights  no_of_week_nights  \\\n",
       "0   0             2               0                     0                  2   \n",
       "1   1             2               0                     1                  2   \n",
       "2   2             2               0                     0                  1   \n",
       "3   3             1               0                     0                  2   \n",
       "4   4             2               0                     1                  0   \n",
       "\n",
       "   type_of_meal_plan  required_car_parking_space  room_type_reserved  \\\n",
       "0                  1                           0                   0   \n",
       "1                  0                           0                   0   \n",
       "2                  0                           0                   0   \n",
       "3                  1                           0                   0   \n",
       "4                  0                           0                   0   \n",
       "\n",
       "   lead_time  arrival_year  arrival_month  arrival_date  market_segment_type  \\\n",
       "0          9          2018              1            14                    1   \n",
       "1        117          2018              7            29                    0   \n",
       "2        315          2018             12             2                    0   \n",
       "3         32          2018             12             1                    1   \n",
       "4        258          2018             10            16                    0   \n",
       "\n",
       "   repeated_guest  no_of_previous_cancellations  \\\n",
       "0               1                            11   \n",
       "1               0                             0   \n",
       "2               0                             0   \n",
       "3               0                             0   \n",
       "4               0                             0   \n",
       "\n",
       "   no_of_previous_bookings_not_canceled  avg_price_per_room  \\\n",
       "0                                     0               67.50   \n",
       "1                                     0               72.25   \n",
       "2                                     0               52.00   \n",
       "3                                     0               56.00   \n",
       "4                                     0              100.00   \n",
       "\n",
       "   no_of_special_requests  booking_status  \n",
       "0                       0               0  \n",
       "1                       0               0  \n",
       "2                       0               0  \n",
       "3                       0               0  \n",
       "4                       0               1  "
      ]
     },
     "execution_count": 2,
     "metadata": {},
     "output_type": "execute_result"
    }
   ],
   "source": [
    "df = pd.read_csv(\"./../data/booking.csv\")\n",
    "df.head()"
   ]
  },
  {
   "cell_type": "code",
   "execution_count": 3,
   "id": "5caf4d93",
   "metadata": {},
   "outputs": [
    {
     "name": "stdout",
     "output_type": "stream",
     "text": [
      "<class 'pandas.core.frame.DataFrame'>\n",
      "RangeIndex: 42100 entries, 0 to 42099\n",
      "Data columns (total 19 columns):\n",
      " #   Column                                Non-Null Count  Dtype  \n",
      "---  ------                                --------------  -----  \n",
      " 0   id                                    42100 non-null  int64  \n",
      " 1   no_of_adults                          42100 non-null  int64  \n",
      " 2   no_of_children                        42100 non-null  int64  \n",
      " 3   no_of_weekend_nights                  42100 non-null  int64  \n",
      " 4   no_of_week_nights                     42100 non-null  int64  \n",
      " 5   type_of_meal_plan                     42100 non-null  int64  \n",
      " 6   required_car_parking_space            42100 non-null  int64  \n",
      " 7   room_type_reserved                    42100 non-null  int64  \n",
      " 8   lead_time                             42100 non-null  int64  \n",
      " 9   arrival_year                          42100 non-null  int64  \n",
      " 10  arrival_month                         42100 non-null  int64  \n",
      " 11  arrival_date                          42100 non-null  int64  \n",
      " 12  market_segment_type                   42100 non-null  int64  \n",
      " 13  repeated_guest                        42100 non-null  int64  \n",
      " 14  no_of_previous_cancellations          42100 non-null  int64  \n",
      " 15  no_of_previous_bookings_not_canceled  42100 non-null  int64  \n",
      " 16  avg_price_per_room                    42100 non-null  float64\n",
      " 17  no_of_special_requests                42100 non-null  int64  \n",
      " 18  booking_status                        42100 non-null  int64  \n",
      "dtypes: float64(1), int64(18)\n",
      "memory usage: 6.1 MB\n"
     ]
    }
   ],
   "source": [
    "df.info()"
   ]
  },
  {
   "cell_type": "code",
   "execution_count": 4,
   "id": "76df9a95",
   "metadata": {},
   "outputs": [
    {
     "data": {
      "text/plain": [
       "16"
      ]
     },
     "execution_count": 4,
     "metadata": {},
     "output_type": "execute_result"
    }
   ],
   "source": [
    "ZAdu_xChd = ['no_of_adults', 'no_of_children']\n",
    "len(df[(df['no_of_adults'] == 0) & (df['no_of_children'] == 0)] )"
   ]
  },
  {
   "cell_type": "code",
   "execution_count": 5,
   "id": "c4c2ebd3",
   "metadata": {},
   "outputs": [
    {
     "data": {
      "text/plain": [
       "no_of_adults  no_of_children\n",
       "0             0                 16\n",
       "dtype: int64"
      ]
     },
     "execution_count": 5,
     "metadata": {},
     "output_type": "execute_result"
    }
   ],
   "source": [
    "df[(df['no_of_adults'] == 0) & (df['no_of_children'] == 0)][ZAdu_xChd].value_counts()"
   ]
  },
  {
   "cell_type": "code",
   "execution_count": 6,
   "id": "0719967b",
   "metadata": {},
   "outputs": [
    {
     "data": {
      "text/html": [
       "<div>\n",
       "<style scoped>\n",
       "    .dataframe tbody tr th:only-of-type {\n",
       "        vertical-align: middle;\n",
       "    }\n",
       "\n",
       "    .dataframe tbody tr th {\n",
       "        vertical-align: top;\n",
       "    }\n",
       "\n",
       "    .dataframe thead th {\n",
       "        text-align: right;\n",
       "    }\n",
       "</style>\n",
       "<table border=\"1\" class=\"dataframe\">\n",
       "  <thead>\n",
       "    <tr style=\"text-align: right;\">\n",
       "      <th></th>\n",
       "      <th>id</th>\n",
       "      <th>no_of_adults</th>\n",
       "      <th>no_of_children</th>\n",
       "      <th>no_of_weekend_nights</th>\n",
       "      <th>no_of_week_nights</th>\n",
       "      <th>type_of_meal_plan</th>\n",
       "      <th>required_car_parking_space</th>\n",
       "      <th>room_type_reserved</th>\n",
       "      <th>lead_time</th>\n",
       "      <th>arrival_year</th>\n",
       "      <th>arrival_month</th>\n",
       "      <th>arrival_date</th>\n",
       "      <th>market_segment_type</th>\n",
       "      <th>repeated_guest</th>\n",
       "      <th>no_of_previous_cancellations</th>\n",
       "      <th>no_of_previous_bookings_not_canceled</th>\n",
       "      <th>avg_price_per_room</th>\n",
       "      <th>no_of_special_requests</th>\n",
       "      <th>booking_status</th>\n",
       "    </tr>\n",
       "  </thead>\n",
       "  <tbody>\n",
       "    <tr>\n",
       "      <th>4</th>\n",
       "      <td>4</td>\n",
       "      <td>2</td>\n",
       "      <td>0</td>\n",
       "      <td>1</td>\n",
       "      <td>0</td>\n",
       "      <td>0</td>\n",
       "      <td>0</td>\n",
       "      <td>0</td>\n",
       "      <td>258</td>\n",
       "      <td>2018</td>\n",
       "      <td>10</td>\n",
       "      <td>16</td>\n",
       "      <td>0</td>\n",
       "      <td>0</td>\n",
       "      <td>0</td>\n",
       "      <td>0</td>\n",
       "      <td>100.00</td>\n",
       "      <td>0</td>\n",
       "      <td>1</td>\n",
       "    </tr>\n",
       "    <tr>\n",
       "      <th>5</th>\n",
       "      <td>5</td>\n",
       "      <td>0</td>\n",
       "      <td>2</td>\n",
       "      <td>2</td>\n",
       "      <td>5</td>\n",
       "      <td>0</td>\n",
       "      <td>0</td>\n",
       "      <td>2</td>\n",
       "      <td>215</td>\n",
       "      <td>2018</td>\n",
       "      <td>10</td>\n",
       "      <td>6</td>\n",
       "      <td>1</td>\n",
       "      <td>0</td>\n",
       "      <td>0</td>\n",
       "      <td>0</td>\n",
       "      <td>212.06</td>\n",
       "      <td>0</td>\n",
       "      <td>1</td>\n",
       "    </tr>\n",
       "    <tr>\n",
       "      <th>6</th>\n",
       "      <td>6</td>\n",
       "      <td>2</td>\n",
       "      <td>0</td>\n",
       "      <td>0</td>\n",
       "      <td>1</td>\n",
       "      <td>2</td>\n",
       "      <td>0</td>\n",
       "      <td>0</td>\n",
       "      <td>320</td>\n",
       "      <td>2018</td>\n",
       "      <td>8</td>\n",
       "      <td>18</td>\n",
       "      <td>0</td>\n",
       "      <td>0</td>\n",
       "      <td>0</td>\n",
       "      <td>0</td>\n",
       "      <td>115.00</td>\n",
       "      <td>1</td>\n",
       "      <td>1</td>\n",
       "    </tr>\n",
       "    <tr>\n",
       "      <th>11</th>\n",
       "      <td>11</td>\n",
       "      <td>2</td>\n",
       "      <td>2</td>\n",
       "      <td>0</td>\n",
       "      <td>1</td>\n",
       "      <td>0</td>\n",
       "      <td>0</td>\n",
       "      <td>3</td>\n",
       "      <td>69</td>\n",
       "      <td>2018</td>\n",
       "      <td>8</td>\n",
       "      <td>12</td>\n",
       "      <td>1</td>\n",
       "      <td>0</td>\n",
       "      <td>0</td>\n",
       "      <td>0</td>\n",
       "      <td>221.30</td>\n",
       "      <td>1</td>\n",
       "      <td>1</td>\n",
       "    </tr>\n",
       "    <tr>\n",
       "      <th>12</th>\n",
       "      <td>12</td>\n",
       "      <td>2</td>\n",
       "      <td>1</td>\n",
       "      <td>1</td>\n",
       "      <td>1</td>\n",
       "      <td>0</td>\n",
       "      <td>0</td>\n",
       "      <td>0</td>\n",
       "      <td>50</td>\n",
       "      <td>2018</td>\n",
       "      <td>4</td>\n",
       "      <td>30</td>\n",
       "      <td>1</td>\n",
       "      <td>0</td>\n",
       "      <td>0</td>\n",
       "      <td>0</td>\n",
       "      <td>121.50</td>\n",
       "      <td>1</td>\n",
       "      <td>1</td>\n",
       "    </tr>\n",
       "  </tbody>\n",
       "</table>\n",
       "</div>"
      ],
      "text/plain": [
       "    id  no_of_adults  no_of_children  no_of_weekend_nights  no_of_week_nights  \\\n",
       "4    4             2               0                     1                  0   \n",
       "5    5             0               2                     2                  5   \n",
       "6    6             2               0                     0                  1   \n",
       "11  11             2               2                     0                  1   \n",
       "12  12             2               1                     1                  1   \n",
       "\n",
       "    type_of_meal_plan  required_car_parking_space  room_type_reserved  \\\n",
       "4                   0                           0                   0   \n",
       "5                   0                           0                   2   \n",
       "6                   2                           0                   0   \n",
       "11                  0                           0                   3   \n",
       "12                  0                           0                   0   \n",
       "\n",
       "    lead_time  arrival_year  arrival_month  arrival_date  market_segment_type  \\\n",
       "4         258          2018             10            16                    0   \n",
       "5         215          2018             10             6                    1   \n",
       "6         320          2018              8            18                    0   \n",
       "11         69          2018              8            12                    1   \n",
       "12         50          2018              4            30                    1   \n",
       "\n",
       "    repeated_guest  no_of_previous_cancellations  \\\n",
       "4                0                             0   \n",
       "5                0                             0   \n",
       "6                0                             0   \n",
       "11               0                             0   \n",
       "12               0                             0   \n",
       "\n",
       "    no_of_previous_bookings_not_canceled  avg_price_per_room  \\\n",
       "4                                      0              100.00   \n",
       "5                                      0              212.06   \n",
       "6                                      0              115.00   \n",
       "11                                     0              221.30   \n",
       "12                                     0              121.50   \n",
       "\n",
       "    no_of_special_requests  booking_status  \n",
       "4                        0               1  \n",
       "5                        0               1  \n",
       "6                        1               1  \n",
       "11                       1               1  \n",
       "12                       1               1  "
      ]
     },
     "execution_count": 6,
     "metadata": {},
     "output_type": "execute_result"
    }
   ],
   "source": [
    "df_booking_cancellations = df[df['booking_status'] == 1]\n",
    "df_booking_cancellations.head()"
   ]
  },
  {
   "cell_type": "code",
   "execution_count": 7,
   "id": "60e5b12b",
   "metadata": {},
   "outputs": [
    {
     "data": {
      "text/plain": [
       "0        0\n",
       "1        0\n",
       "2        0\n",
       "3        0\n",
       "4        1\n",
       "        ..\n",
       "42095    1\n",
       "42096    0\n",
       "42097    0\n",
       "42098    0\n",
       "42099    0\n",
       "Name: booking_status, Length: 42100, dtype: int64"
      ]
     },
     "execution_count": 7,
     "metadata": {},
     "output_type": "execute_result"
    }
   ],
   "source": [
    "df.booking_status"
   ]
  },
  {
   "cell_type": "code",
   "execution_count": 8,
   "id": "0680a556",
   "metadata": {},
   "outputs": [
    {
     "data": {
      "text/plain": [
       "<Axes: xlabel='arrival_month,booking_status'>"
      ]
     },
     "execution_count": 8,
     "metadata": {},
     "output_type": "execute_result"
    },
    {
     "data": {
      "image/png": "[encoded data removed]",
      "text/plain": [
       "<Figure size 640x480 with 1 Axes>"
      ]
     },
     "metadata": {},
     "output_type": "display_data"
    }
   ],
   "source": [
    "df_cancelled = df[df['booking_status'] == 1]\n",
    "pd.DataFrame(df_cancelled.groupby(['arrival_month', 'booking_status']).count()).loc[:,'id'].plot(kind='bar')\n"
   ]
  },
  {
   "cell_type": "code",
   "execution_count": 9,
   "id": "27c584eb",
   "metadata": {},
   "outputs": [
    {
     "data": {
      "text/plain": [
       "<Axes: xlabel='arrival_month'>"
      ]
     },
     "execution_count": 9,
     "metadata": {},
     "output_type": "execute_result"
    },
    {
     "data": {
      "image/png": "[encoded data removed]",
      "text/plain": [
       "<Figure size 640x480 with 1 Axes>"
      ]
     },
     "metadata": {},
     "output_type": "display_data"
    }
   ],
   "source": [
    "pd.pivot_table(index='arrival_month', columns='booking_status', data=df, aggfunc='size').plot(kind='bar')"
   ]
  },
  {
   "cell_type": "markdown",
   "id": "8e7d43a0",
   "metadata": {},
   "source": [
    "# 3. Datatime Engineering"
   ]
  },
  {
   "cell_type": "code",
   "execution_count": 10,
   "id": "4b2e4a9e",
   "metadata": {},
   "outputs": [
    {
     "data": {
      "text/plain": [
       "0        14\n",
       "1        29\n",
       "2         2\n",
       "3         1\n",
       "4        16\n",
       "         ..\n",
       "42095    30\n",
       "42096    23\n",
       "42097    21\n",
       "42098     9\n",
       "42099    26\n",
       "Name: arrival_date, Length: 42100, dtype: int64"
      ]
     },
     "execution_count": 10,
     "metadata": {},
     "output_type": "execute_result"
    }
   ],
   "source": [
    "df['arrival_date']"
   ]
  },
  {
   "cell_type": "code",
   "execution_count": 11,
   "id": "4ef9bd84",
   "metadata": {},
   "outputs": [],
   "source": [
    "df = df.rename(columns={'arrival_year':'year', 'arrival_month':'month', 'arrival_date':'day'})"
   ]
  },
  {
   "cell_type": "code",
   "execution_count": 12,
   "id": "61c44a4e",
   "metadata": {},
   "outputs": [
    {
     "data": {
      "text/plain": [
       "Index(['id', 'no_of_adults', 'no_of_children', 'no_of_weekend_nights',\n",
       "       'no_of_week_nights', 'type_of_meal_plan', 'required_car_parking_space',\n",
       "       'room_type_reserved', 'lead_time', 'year', 'month', 'day',\n",
       "       'market_segment_type', 'repeated_guest', 'no_of_previous_cancellations',\n",
       "       'no_of_previous_bookings_not_canceled', 'avg_price_per_room',\n",
       "       'no_of_special_requests', 'booking_status'],\n",
       "      dtype='object')"
      ]
     },
     "execution_count": 12,
     "metadata": {},
     "output_type": "execute_result"
    }
   ],
   "source": [
    "df.columns"
   ]
  },
  {
   "cell_type": "code",
   "execution_count": 13,
   "id": "f3190360",
   "metadata": {},
   "outputs": [],
   "source": [
    "df['date']= pd.to_datetime(df[['day', 'month', 'year']], errors='coerce')"
   ]
  },
  {
   "cell_type": "code",
   "execution_count": 14,
   "id": "b67215c8",
   "metadata": {},
   "outputs": [],
   "source": [
    "df.drop(columns=['day', 'month', 'year'], inplace=True)"
   ]
  },
  {
   "cell_type": "markdown",
   "id": "38c48dd5",
   "metadata": {},
   "source": [
    "# Q4. Boosting Steps"
   ]
  },
  {
   "cell_type": "code",
   "execution_count": 20,
   "id": "03ec1158",
   "metadata": {},
   "outputs": [],
   "source": [
    "import numpy as np  \n",
    "from sklearn.tree import DecisionTreeClassifier  \n",
    "from sklearn.metrics import accuracy_score  \n",
    "\n",
    "df = pd.read_csv(\"./../data/booking.csv\")\n",
    "df.head()\n",
    "\n",
    "# Note: Target = 'booking_status', y = df[Target] and X = df.drop(Target, axis = 1)\n",
    "X = df.drop(columns=['booking_status'])\n",
    "y = df['booking_status']\n",
    "\n",
    "# Initialize weights  \n",
    "weights = np.ones(len(X)) / len(X)  \n",
    "\n",
    "# Train first weak learner  \n",
    "dt1 = DecisionTreeClassifier(random_state=10, max_depth=1)  \n",
    "dt1.fit(X, y)  \n",
    "y_pred_1 = dt1.predict(X)  "
   ]
  },
  {
   "cell_type": "code",
   "execution_count": 22,
   "id": "8f176056",
   "metadata": {},
   "outputs": [
    {
     "data": {
      "text/plain": [
       "Index(['id', 'no_of_adults', 'no_of_children', 'no_of_weekend_nights',\n",
       "       'no_of_week_nights', 'type_of_meal_plan', 'required_car_parking_space',\n",
       "       'room_type_reserved', 'lead_time', 'arrival_year', 'arrival_month',\n",
       "       'arrival_date', 'market_segment_type', 'repeated_guest',\n",
       "       'no_of_previous_cancellations', 'no_of_previous_bookings_not_canceled',\n",
       "       'avg_price_per_room', 'no_of_special_requests', 'booking_status'],\n",
       "      dtype='object')"
      ]
     },
     "execution_count": 22,
     "metadata": {},
     "output_type": "execute_result"
    }
   ],
   "source": [
    "df.columns"
   ]
  },
  {
   "cell_type": "code",
   "execution_count": 19,
   "id": "7e967364",
   "metadata": {},
   "outputs": [
    {
     "data": {
      "text/plain": [
       "array([0, 0, 1, ..., 1, 0, 0], dtype=int64)"
      ]
     },
     "execution_count": 19,
     "metadata": {},
     "output_type": "execute_result"
    }
   ],
   "source": [
    "y_pred_1"
   ]
  },
  {
   "cell_type": "code",
   "execution_count": null,
   "id": "e031710d",
   "metadata": {},
   "outputs": [],
   "source": [
    "# Update weights function  \n",
    "def update_weights(y, y_pred, weights):  \n",
    "    for i in range(len(weights)):  \n",
    "        if y[i] != y_pred[i]:  \n",
    "            weights[i] *= 1.5  # Increase the weight for misclassified instances  \n",
    "        else:  \n",
    "            weights[i] *= 0.5  # Decrease the weight for correctly classified instances  \n",
    "    return weights / np.sum(weights)  # Normalize the weights  \n",
    "\n",
    "# Apply first learner and update weights  \n",
    "weights = update_weights(y, y_pred_1, weights)  \n",
    "\n",
    "# Train second weak learner  \n",
    "dt2 = DecisionTreeClassifier(random_state=10, max_depth=1)  \n",
    "dt2.fit(X, y, sample_weight= weights)   # Utilize updated weights for learning for this sample_weight is used.\n",
    "y_pred_2 = dt2.predict(X)  \n",
    "\n",
    "# Combine the weak learners' predictions  \n",
    "# Assuming a simple average for combination  \n",
    "final_prediction = np.round((y_pred_1 + y_pred_2) / 2.0).astype(int)  \n",
    "\n",
    "# Calculate the accuracy  \n",
    "final_accuracy = accuracy_score(y, final_prediction)  \n",
    "print(f\"Final combined prediction accuracy: {final_accuracy}\")"
   ]
  },
  {
   "cell_type": "markdown",
   "id": "36aefdde",
   "metadata": {},
   "source": [
    "# Q8. Boosting Accuracy"
   ]
  },
  {
   "cell_type": "code",
   "execution_count": 43,
   "id": "9ce36d87",
   "metadata": {},
   "outputs": [],
   "source": [
    "from sklearn.model_selection import train_test_split\n",
    "from sklearn.ensemble import GradientBoostingClassifier\n",
    "from sklearn.metrics import accuracy_score, classification_report"
   ]
  },
  {
   "cell_type": "code",
   "execution_count": 77,
   "id": "573f659b",
   "metadata": {},
   "outputs": [
    {
     "data": {
      "text/html": [
       "<div>\n",
       "<style scoped>\n",
       "    .dataframe tbody tr th:only-of-type {\n",
       "        vertical-align: middle;\n",
       "    }\n",
       "\n",
       "    .dataframe tbody tr th {\n",
       "        vertical-align: top;\n",
       "    }\n",
       "\n",
       "    .dataframe thead th {\n",
       "        text-align: right;\n",
       "    }\n",
       "</style>\n",
       "<table border=\"1\" class=\"dataframe\">\n",
       "  <thead>\n",
       "    <tr style=\"text-align: right;\">\n",
       "      <th></th>\n",
       "      <th>id</th>\n",
       "      <th>no_of_adults</th>\n",
       "      <th>no_of_children</th>\n",
       "      <th>no_of_weekend_nights</th>\n",
       "      <th>no_of_week_nights</th>\n",
       "      <th>type_of_meal_plan</th>\n",
       "      <th>required_car_parking_space</th>\n",
       "      <th>room_type_reserved</th>\n",
       "      <th>lead_time</th>\n",
       "      <th>arrival_year</th>\n",
       "      <th>arrival_month</th>\n",
       "      <th>arrival_date</th>\n",
       "      <th>market_segment_type</th>\n",
       "      <th>repeated_guest</th>\n",
       "      <th>no_of_previous_cancellations</th>\n",
       "      <th>no_of_previous_bookings_not_canceled</th>\n",
       "      <th>avg_price_per_room</th>\n",
       "      <th>no_of_special_requests</th>\n",
       "      <th>booking_status</th>\n",
       "    </tr>\n",
       "  </thead>\n",
       "  <tbody>\n",
       "    <tr>\n",
       "      <th>0</th>\n",
       "      <td>0</td>\n",
       "      <td>2</td>\n",
       "      <td>0</td>\n",
       "      <td>0</td>\n",
       "      <td>2</td>\n",
       "      <td>1</td>\n",
       "      <td>0</td>\n",
       "      <td>0</td>\n",
       "      <td>9</td>\n",
       "      <td>2018</td>\n",
       "      <td>1</td>\n",
       "      <td>14</td>\n",
       "      <td>1</td>\n",
       "      <td>1</td>\n",
       "      <td>11</td>\n",
       "      <td>0</td>\n",
       "      <td>67.50</td>\n",
       "      <td>0</td>\n",
       "      <td>0</td>\n",
       "    </tr>\n",
       "    <tr>\n",
       "      <th>1</th>\n",
       "      <td>1</td>\n",
       "      <td>2</td>\n",
       "      <td>0</td>\n",
       "      <td>1</td>\n",
       "      <td>2</td>\n",
       "      <td>0</td>\n",
       "      <td>0</td>\n",
       "      <td>0</td>\n",
       "      <td>117</td>\n",
       "      <td>2018</td>\n",
       "      <td>7</td>\n",
       "      <td>29</td>\n",
       "      <td>0</td>\n",
       "      <td>0</td>\n",
       "      <td>0</td>\n",
       "      <td>0</td>\n",
       "      <td>72.25</td>\n",
       "      <td>0</td>\n",
       "      <td>0</td>\n",
       "    </tr>\n",
       "    <tr>\n",
       "      <th>2</th>\n",
       "      <td>2</td>\n",
       "      <td>2</td>\n",
       "      <td>0</td>\n",
       "      <td>0</td>\n",
       "      <td>1</td>\n",
       "      <td>0</td>\n",
       "      <td>0</td>\n",
       "      <td>0</td>\n",
       "      <td>315</td>\n",
       "      <td>2018</td>\n",
       "      <td>12</td>\n",
       "      <td>2</td>\n",
       "      <td>0</td>\n",
       "      <td>0</td>\n",
       "      <td>0</td>\n",
       "      <td>0</td>\n",
       "      <td>52.00</td>\n",
       "      <td>0</td>\n",
       "      <td>0</td>\n",
       "    </tr>\n",
       "    <tr>\n",
       "      <th>3</th>\n",
       "      <td>3</td>\n",
       "      <td>1</td>\n",
       "      <td>0</td>\n",
       "      <td>0</td>\n",
       "      <td>2</td>\n",
       "      <td>1</td>\n",
       "      <td>0</td>\n",
       "      <td>0</td>\n",
       "      <td>32</td>\n",
       "      <td>2018</td>\n",
       "      <td>12</td>\n",
       "      <td>1</td>\n",
       "      <td>1</td>\n",
       "      <td>0</td>\n",
       "      <td>0</td>\n",
       "      <td>0</td>\n",
       "      <td>56.00</td>\n",
       "      <td>0</td>\n",
       "      <td>0</td>\n",
       "    </tr>\n",
       "    <tr>\n",
       "      <th>4</th>\n",
       "      <td>4</td>\n",
       "      <td>2</td>\n",
       "      <td>0</td>\n",
       "      <td>1</td>\n",
       "      <td>0</td>\n",
       "      <td>0</td>\n",
       "      <td>0</td>\n",
       "      <td>0</td>\n",
       "      <td>258</td>\n",
       "      <td>2018</td>\n",
       "      <td>10</td>\n",
       "      <td>16</td>\n",
       "      <td>0</td>\n",
       "      <td>0</td>\n",
       "      <td>0</td>\n",
       "      <td>0</td>\n",
       "      <td>100.00</td>\n",
       "      <td>0</td>\n",
       "      <td>1</td>\n",
       "    </tr>\n",
       "  </tbody>\n",
       "</table>\n",
       "</div>"
      ],
      "text/plain": [
       "   id  no_of_adults  no_of_children  no_of_weekend_nights  no_of_week_nights  \\\n",
       "0   0             2               0                     0                  2   \n",
       "1   1             2               0                     1                  2   \n",
       "2   2             2               0                     0                  1   \n",
       "3   3             1               0                     0                  2   \n",
       "4   4             2               0                     1                  0   \n",
       "\n",
       "   type_of_meal_plan  required_car_parking_space  room_type_reserved  \\\n",
       "0                  1                           0                   0   \n",
       "1                  0                           0                   0   \n",
       "2                  0                           0                   0   \n",
       "3                  1                           0                   0   \n",
       "4                  0                           0                   0   \n",
       "\n",
       "   lead_time  arrival_year  arrival_month  arrival_date  market_segment_type  \\\n",
       "0          9          2018              1            14                    1   \n",
       "1        117          2018              7            29                    0   \n",
       "2        315          2018             12             2                    0   \n",
       "3         32          2018             12             1                    1   \n",
       "4        258          2018             10            16                    0   \n",
       "\n",
       "   repeated_guest  no_of_previous_cancellations  \\\n",
       "0               1                            11   \n",
       "1               0                             0   \n",
       "2               0                             0   \n",
       "3               0                             0   \n",
       "4               0                             0   \n",
       "\n",
       "   no_of_previous_bookings_not_canceled  avg_price_per_room  \\\n",
       "0                                     0               67.50   \n",
       "1                                     0               72.25   \n",
       "2                                     0               52.00   \n",
       "3                                     0               56.00   \n",
       "4                                     0              100.00   \n",
       "\n",
       "   no_of_special_requests  booking_status  \n",
       "0                       0               0  \n",
       "1                       0               0  \n",
       "2                       0               0  \n",
       "3                       0               0  \n",
       "4                       0               1  "
      ]
     },
     "execution_count": 77,
     "metadata": {},
     "output_type": "execute_result"
    }
   ],
   "source": [
    "df = pd.read_csv(\"./../data/booking.csv\")\n",
    "df.head()"
   ]
  },
  {
   "cell_type": "code",
   "execution_count": 80,
   "id": "038ab319",
   "metadata": {},
   "outputs": [],
   "source": [
    "X = df.loc[:, df.columns!= 'booking_status']\n",
    "y= df.loc[:, 'booking_status']"
   ]
  },
  {
   "cell_type": "code",
   "execution_count": 81,
   "id": "480c3625",
   "metadata": {},
   "outputs": [],
   "source": [
    "oX_train, oX_test, oy_train, oy_test = train_test_split(X, y , test_size=0.2, random_state=10)"
   ]
  },
  {
   "cell_type": "code",
   "execution_count": 82,
   "id": "7b2526ab",
   "metadata": {},
   "outputs": [
    {
     "name": "stdout",
     "output_type": "stream",
     "text": [
      "(33680, 18) (8420, 18) (33680,) (8420,)\n"
     ]
    }
   ],
   "source": [
    "print(oX_train.shape, oX_test.shape, oy_train.shape, oy_test.shape)"
   ]
  },
  {
   "cell_type": "code",
   "execution_count": 83,
   "id": "9d1ad039",
   "metadata": {},
   "outputs": [
    {
     "data": {
      "text/html": [
       "<style>#sk-container-id-6 {color: black;background-color: white;}#sk-container-id-6 pre{padding: 0;}#sk-container-id-6 div.sk-toggleable {background-color: white;}#sk-container-id-6 label.sk-toggleable__label {cursor: pointer;display: block;width: 100%;margin-bottom: 0;padding: 0.3em;box-sizing: border-box;text-align: center;}#sk-container-id-6 label.sk-toggleable__label-arrow:before {content: \"▸\";float: left;margin-right: 0.25em;color: #696969;}#sk-container-id-6 label.sk-toggleable__label-arrow:hover:before {color: black;}#sk-container-id-6 div.sk-estimator:hover label.sk-toggleable__label-arrow:before {color: black;}#sk-container-id-6 div.sk-toggleable__content {max-height: 0;max-width: 0;overflow: hidden;text-align: left;background-color: #f0f8ff;}#sk-container-id-6 div.sk-toggleable__content pre {margin: 0.2em;color: black;border-radius: 0.25em;background-color: #f0f8ff;}#sk-container-id-6 input.sk-toggleable__control:checked~div.sk-toggleable__content {max-height: 200px;max-width: 100%;overflow: auto;}#sk-container-id-6 input.sk-toggleable__control:checked~label.sk-toggleable__label-arrow:before {content: \"▾\";}#sk-container-id-6 div.sk-estimator input.sk-toggleable__control:checked~label.sk-toggleable__label {background-color: #d4ebff;}#sk-container-id-6 div.sk-label input.sk-toggleable__control:checked~label.sk-toggleable__label {background-color: #d4ebff;}#sk-container-id-6 input.sk-hidden--visually {border: 0;clip: rect(1px 1px 1px 1px);clip: rect(1px, 1px, 1px, 1px);height: 1px;margin: -1px;overflow: hidden;padding: 0;position: absolute;width: 1px;}#sk-container-id-6 div.sk-estimator {font-family: monospace;background-color: #f0f8ff;border: 1px dotted black;border-radius: 0.25em;box-sizing: border-box;margin-bottom: 0.5em;}#sk-container-id-6 div.sk-estimator:hover {background-color: #d4ebff;}#sk-container-id-6 div.sk-parallel-item::after {content: \"\";width: 100%;border-bottom: 1px solid gray;flex-grow: 1;}#sk-container-id-6 div.sk-label:hover label.sk-toggleable__label {background-color: #d4ebff;}#sk-container-id-6 div.sk-serial::before {content: \"\";position: absolute;border-left: 1px solid gray;box-sizing: border-box;top: 0;bottom: 0;left: 50%;z-index: 0;}#sk-container-id-6 div.sk-serial {display: flex;flex-direction: column;align-items: center;background-color: white;padding-right: 0.2em;padding-left: 0.2em;position: relative;}#sk-container-id-6 div.sk-item {position: relative;z-index: 1;}#sk-container-id-6 div.sk-parallel {display: flex;align-items: stretch;justify-content: center;background-color: white;position: relative;}#sk-container-id-6 div.sk-item::before, #sk-container-id-6 div.sk-parallel-item::before {content: \"\";position: absolute;border-left: 1px solid gray;box-sizing: border-box;top: 0;bottom: 0;left: 50%;z-index: -1;}#sk-container-id-6 div.sk-parallel-item {display: flex;flex-direction: column;z-index: 1;position: relative;background-color: white;}#sk-container-id-6 div.sk-parallel-item:first-child::after {align-self: flex-end;width: 50%;}#sk-container-id-6 div.sk-parallel-item:last-child::after {align-self: flex-start;width: 50%;}#sk-container-id-6 div.sk-parallel-item:only-child::after {width: 0;}#sk-container-id-6 div.sk-dashed-wrapped {border: 1px dashed gray;margin: 0 0.4em 0.5em 0.4em;box-sizing: border-box;padding-bottom: 0.4em;background-color: white;}#sk-container-id-6 div.sk-label label {font-family: monospace;font-weight: bold;display: inline-block;line-height: 1.2em;}#sk-container-id-6 div.sk-label-container {text-align: center;}#sk-container-id-6 div.sk-container {/* jupyter's `normalize.less` sets `[hidden] { display: none; }` but bootstrap.min.css set `[hidden] { display: none !important; }` so we also need the `!important` here to be able to override the default hidden behavior on the sphinx rendered scikit-learn.org. See: https://github.com/scikit-learn/scikit-learn/issues/21755 */display: inline-block !important;position: relative;}#sk-container-id-6 div.sk-text-repr-fallback {display: none;}</style><div id=\"sk-container-id-6\" class=\"sk-top-container\"><div class=\"sk-text-repr-fallback\"><pre>GradientBoostingClassifier()</pre><b>In a Jupyter environment, please rerun this cell to show the HTML representation or trust the notebook. <br />On GitHub, the HTML representation is unable to render, please try loading this page with nbviewer.org.</b></div><div class=\"sk-container\" hidden><div class=\"sk-item\"><div class=\"sk-estimator sk-toggleable\"><input class=\"sk-toggleable__control sk-hidden--visually\" id=\"sk-estimator-id-6\" type=\"checkbox\" checked><label for=\"sk-estimator-id-6\" class=\"sk-toggleable__label sk-toggleable__label-arrow\">GradientBoostingClassifier</label><div class=\"sk-toggleable__content\"><pre>GradientBoostingClassifier()</pre></div></div></div></div></div>"
      ],
      "text/plain": [
       "GradientBoostingClassifier()"
      ]
     },
     "execution_count": 83,
     "metadata": {},
     "output_type": "execute_result"
    }
   ],
   "source": [
    "gbc = GradientBoostingClassifier(loss='log_loss')\n",
    "gbc"
   ]
  },
  {
   "cell_type": "code",
   "execution_count": 84,
   "id": "8ae17e2b",
   "metadata": {},
   "outputs": [],
   "source": [
    "gbc.fit(oX_train, oy_train)\n",
    "y_pred = gbc.predict(oX_test)\n"
   ]
  },
  {
   "cell_type": "code",
   "execution_count": 85,
   "id": "59459c18",
   "metadata": {},
   "outputs": [
    {
     "data": {
      "text/plain": [
       "0.8042755344418052"
      ]
     },
     "execution_count": 85,
     "metadata": {},
     "output_type": "execute_result"
    }
   ],
   "source": [
    "accOrig = accuracy_score(y_pred, oy_test)\n",
    "accOrig"
   ]
  },
  {
   "cell_type": "code",
   "execution_count": 49,
   "id": "1aa99ad5",
   "metadata": {},
   "outputs": [],
   "source": [
    "### Preporcess the data"
   ]
  },
  {
   "cell_type": "code",
   "execution_count": 56,
   "id": "69eb98e6",
   "metadata": {},
   "outputs": [
    {
     "data": {
      "text/plain": [
       "id                                      0\n",
       "no_of_adults                            0\n",
       "no_of_children                          0\n",
       "no_of_weekend_nights                    0\n",
       "no_of_week_nights                       0\n",
       "type_of_meal_plan                       0\n",
       "required_car_parking_space              0\n",
       "room_type_reserved                      0\n",
       "lead_time                               0\n",
       "arrival_year                            0\n",
       "arrival_month                           0\n",
       "arrival_date                            0\n",
       "market_segment_type                     0\n",
       "repeated_guest                          0\n",
       "no_of_previous_cancellations            0\n",
       "no_of_previous_bookings_not_canceled    0\n",
       "avg_price_per_room                      0\n",
       "no_of_special_requests                  0\n",
       "booking_status                          0\n",
       "dtype: int64"
      ]
     },
     "execution_count": 56,
     "metadata": {},
     "output_type": "execute_result"
    }
   ],
   "source": [
    "df.isnull().sum()"
   ]
  },
  {
   "cell_type": "code",
   "execution_count": 65,
   "id": "9a02c6db",
   "metadata": {},
   "outputs": [],
   "source": [
    "df_prepoceed = df.rename(columns={'arrival_year':'year', 'arrival_month': 'month', 'arrival_date':'day'})\n"
   ]
  },
  {
   "cell_type": "code",
   "execution_count": 67,
   "id": "b16ffd89",
   "metadata": {},
   "outputs": [
    {
     "data": {
      "text/plain": [
       "(1, 31)"
      ]
     },
     "execution_count": 67,
     "metadata": {},
     "output_type": "execute_result"
    }
   ],
   "source": [
    "df_prepoceed['day'].min(), df_prepoceed['day'].max() "
   ]
  },
  {
   "cell_type": "code",
   "execution_count": 69,
   "id": "4f5b655b",
   "metadata": {},
   "outputs": [
    {
     "data": {
      "text/plain": [
       "(1, 12)"
      ]
     },
     "execution_count": 69,
     "metadata": {},
     "output_type": "execute_result"
    }
   ],
   "source": [
    "df_prepoceed['month'].min(), df_prepoceed['month'].max() "
   ]
  },
  {
   "cell_type": "code",
   "execution_count": 70,
   "id": "44452022",
   "metadata": {},
   "outputs": [
    {
     "data": {
      "text/plain": [
       "(2017, 2018)"
      ]
     },
     "execution_count": 70,
     "metadata": {},
     "output_type": "execute_result"
    }
   ],
   "source": [
    "df_prepoceed['year'].min(), df_prepoceed['year'].max() "
   ]
  },
  {
   "cell_type": "code",
   "execution_count": 74,
   "id": "4f2998af",
   "metadata": {},
   "outputs": [],
   "source": [
    "df_prepoceed['date'] = pd.to_datetime(df_prepoceed[['day', 'month', 'year']], errors='coerce')"
   ]
  },
  {
   "cell_type": "code",
   "execution_count": 76,
   "id": "0d158728",
   "metadata": {},
   "outputs": [],
   "source": [
    "df_prepoceed = df_prepoceed.drop(columns=['day', 'month', 'year'])"
   ]
  },
  {
   "cell_type": "code",
   "execution_count": 95,
   "id": "0eb32b29",
   "metadata": {},
   "outputs": [],
   "source": [
    "df_prepoceed = df_prepoceed.dropna()"
   ]
  },
  {
   "cell_type": "code",
   "execution_count": 100,
   "id": "4b6f7ffc",
   "metadata": {},
   "outputs": [
    {
     "data": {
      "text/plain": [
       "id                                      0\n",
       "no_of_adults                            0\n",
       "no_of_children                          0\n",
       "no_of_weekend_nights                    0\n",
       "no_of_week_nights                       0\n",
       "type_of_meal_plan                       0\n",
       "required_car_parking_space              0\n",
       "room_type_reserved                      0\n",
       "lead_time                               0\n",
       "market_segment_type                     0\n",
       "repeated_guest                          0\n",
       "no_of_previous_cancellations            0\n",
       "no_of_previous_bookings_not_canceled    0\n",
       "avg_price_per_room                      0\n",
       "no_of_special_requests                  0\n",
       "booking_status                          0\n",
       "date                                    0\n",
       "dtype: int64"
      ]
     },
     "execution_count": 100,
     "metadata": {},
     "output_type": "execute_result"
    }
   ],
   "source": [
    "df_prepoceed.isnull().sum()"
   ]
  },
  {
   "cell_type": "code",
   "execution_count": 106,
   "id": "5c37b4bb",
   "metadata": {},
   "outputs": [
    {
     "name": "stderr",
     "output_type": "stream",
     "text": [
      "C:\\Users\\Upendra\\AppData\\Local\\Temp\\ipykernel_30188\\1856184396.py:1: SettingWithCopyWarning: \n",
      "A value is trying to be set on a copy of a slice from a DataFrame.\n",
      "Try using .loc[row_indexer,col_indexer] = value instead\n",
      "\n",
      "See the caveats in the documentation: https://pandas.pydata.org/pandas-docs/stable/user_guide/indexing.html#returning-a-view-versus-a-copy\n",
      "  df_prepoceed['day'] = df_prepoceed.date.dt.day\n",
      "C:\\Users\\Upendra\\AppData\\Local\\Temp\\ipykernel_30188\\1856184396.py:2: SettingWithCopyWarning: \n",
      "A value is trying to be set on a copy of a slice from a DataFrame.\n",
      "Try using .loc[row_indexer,col_indexer] = value instead\n",
      "\n",
      "See the caveats in the documentation: https://pandas.pydata.org/pandas-docs/stable/user_guide/indexing.html#returning-a-view-versus-a-copy\n",
      "  df_prepoceed['month'] = df_prepoceed.date.dt.month\n",
      "C:\\Users\\Upendra\\AppData\\Local\\Temp\\ipykernel_30188\\1856184396.py:3: SettingWithCopyWarning: \n",
      "A value is trying to be set on a copy of a slice from a DataFrame.\n",
      "Try using .loc[row_indexer,col_indexer] = value instead\n",
      "\n",
      "See the caveats in the documentation: https://pandas.pydata.org/pandas-docs/stable/user_guide/indexing.html#returning-a-view-versus-a-copy\n",
      "  df_prepoceed['year'] = df_prepoceed.date.dt.year\n"
     ]
    }
   ],
   "source": [
    "df_prepoceed['day'] = df_prepoceed.date.dt.day\n",
    "df_prepoceed['month'] = df_prepoceed.date.dt.month\n",
    "df_prepoceed['year'] = df_prepoceed.date.dt.year"
   ]
  },
  {
   "cell_type": "code",
   "execution_count": 109,
   "id": "52f418b6",
   "metadata": {},
   "outputs": [
    {
     "name": "stderr",
     "output_type": "stream",
     "text": [
      "C:\\Users\\Upendra\\AppData\\Local\\Temp\\ipykernel_30188\\1362724685.py:1: SettingWithCopyWarning: \n",
      "A value is trying to be set on a copy of a slice from a DataFrame\n",
      "\n",
      "See the caveats in the documentation: https://pandas.pydata.org/pandas-docs/stable/user_guide/indexing.html#returning-a-view-versus-a-copy\n",
      "  df_prepoceed.drop(columns='date', inplace=True)\n"
     ]
    }
   ],
   "source": [
    "df_prepoceed.drop(columns='date', inplace=True)"
   ]
  },
  {
   "cell_type": "code",
   "execution_count": null,
   "id": "4e6d0abc",
   "metadata": {},
   "outputs": [],
   "source": []
  },
  {
   "cell_type": "code",
   "execution_count": null,
   "id": "111d608f",
   "metadata": {},
   "outputs": [],
   "source": []
  },
  {
   "cell_type": "code",
   "execution_count": 111,
   "id": "d19e9add",
   "metadata": {},
   "outputs": [],
   "source": [
    "X = df_prepoceed.loc[:, df_prepoceed.columns!= 'booking_status']\n",
    "y= df_prepoceed.loc[:, 'booking_status']"
   ]
  },
  {
   "cell_type": "code",
   "execution_count": 112,
   "id": "09b7ead5",
   "metadata": {},
   "outputs": [],
   "source": [
    "X_train, X_test, y_train, y_test = train_test_split(X, y , test_size=0.2, random_state=10)"
   ]
  },
  {
   "cell_type": "code",
   "execution_count": 114,
   "id": "256f143b",
   "metadata": {},
   "outputs": [
    {
     "data": {
      "text/plain": [
       "0.8128418549346017"
      ]
     },
     "execution_count": 114,
     "metadata": {},
     "output_type": "execute_result"
    }
   ],
   "source": [
    "gbc = GradientBoostingClassifier(loss='log_loss')\n",
    "gbc.fit(X_train, y_train)\n",
    "y_pred = gbc.predict(X_test)\n",
    "accPrep = accuracy_score(y_pred, y_test)\n",
    "accPrep"
   ]
  },
  {
   "cell_type": "code",
   "execution_count": 116,
   "id": "d9a6e116",
   "metadata": {},
   "outputs": [],
   "source": [
    "### Ans"
   ]
  },
  {
   "cell_type": "raw",
   "id": "312a7995",
   "metadata": {},
   "source": [
    "import pandas as pd\n",
    "from sklearn.model_selection import train_test_split\n",
    "from sklearn.ensemble import GradientBoostingClassifier\n",
    "from sklearn.metrics import accuracy_score\n",
    "\n",
    "# Split original data\n",
    "X_train_orig, X_test_orig, y_train_orig, y_test_orig = train_test_split(X, y, test_size=0.2, random_state=10)\n",
    "\n",
    "# Train Random Forest on original data\n",
    "gbc_orig = GradientBoostingClassifier(random_state=10)\n",
    "gbc_orig.fit(X_train_orig, y_train_orig)\n",
    "pred_orig = gbc_orig.predict(X_test_orig)\n",
    "accuracy_orig = accuracy_score(y_test_orig, pred_orig)\n",
    "\n",
    "# Processed dataset\n",
    "new_processed_df = new_processed_df.dropna()\n",
    "\n",
    "# Split processed data (ensure to select the same target variable 'y')\n",
    "X_train_proc, X_test_proc, y_train_proc, y_test_proc = train_test_split(new_df.drop(Target, axis = 1), new_df[Target], test_size=0.2, random_state=10)\n",
    "\n",
    "# Train Random Forest on processed data\n",
    "gbc_proc = GradientBoostingClassifier(random_state=10)\n",
    "gbc_proc.fit(X_train_proc, y_train_proc)\n",
    "pred_proc = gbc_proc.predict(X_test_proc)\n",
    "accuracy_proc = accuracy_score(y_test_proc, pred_proc)\n",
    "\n",
    "# Compare accuracies\n",
    "print(f\"Accuracy on original data: {accuracy_orig}\")\n",
    "print(f\"Accuracy on processed data: {accuracy_proc}\")"
   ]
  },
  {
   "cell_type": "code",
   "execution_count": 145,
   "id": "9f4070bc",
   "metadata": {},
   "outputs": [],
   "source": [
    "\n",
    "X1 = [1.2, 14.8, 0.4, 28.5, 14.1]\n",
    "X2 = [1.3, 18.4, 0.38, 28.6, 9.87]\n",
    "X3 = [2.05, 11.4, 0.43, 23.5, 11.5]\n",
    "y = [1.8, 9.8, 0.67, 19.9, 18.1]"
   ]
  },
  {
   "cell_type": "code",
   "execution_count": 146,
   "id": "aabc62e7",
   "metadata": {},
   "outputs": [],
   "source": [
    "X1 = np.array(X1)\n",
    "X2 = np.array(X2)\n",
    "X3 = np.array(X3)\n",
    "y = np.array(y)"
   ]
  },
  {
   "cell_type": "code",
   "execution_count": 147,
   "id": "1a192bbd",
   "metadata": {},
   "outputs": [],
   "source": [
    "X1 = X1.T\n",
    "X2 = X2.T\n",
    "X3 = X3.T\n",
    "y = y.T"
   ]
  },
  {
   "cell_type": "code",
   "execution_count": 148,
   "id": "697077b8",
   "metadata": {},
   "outputs": [
    {
     "data": {
      "text/plain": [
       "array([ 1.2, 14.8,  0.4, 28.5, 14.1])"
      ]
     },
     "execution_count": 148,
     "metadata": {},
     "output_type": "execute_result"
    }
   ],
   "source": [
    "X1.T"
   ]
  },
  {
   "cell_type": "code",
   "execution_count": 154,
   "id": "5e78f9f3",
   "metadata": {},
   "outputs": [],
   "source": [
    "df1 = pd.DataFrame([X1, X2, X3, y], columns=['X1', 'X2', 'X3', 'X4', 'y'])\n",
    "df1['y_pred1'] = df1.y.mean()"
   ]
  },
  {
   "cell_type": "code",
   "execution_count": 156,
   "id": "ef2d69aa",
   "metadata": {},
   "outputs": [
    {
     "data": {
      "text/html": [
       "<div>\n",
       "<style scoped>\n",
       "    .dataframe tbody tr th:only-of-type {\n",
       "        vertical-align: middle;\n",
       "    }\n",
       "\n",
       "    .dataframe tbody tr th {\n",
       "        vertical-align: top;\n",
       "    }\n",
       "\n",
       "    .dataframe thead th {\n",
       "        text-align: right;\n",
       "    }\n",
       "</style>\n",
       "<table border=\"1\" class=\"dataframe\">\n",
       "  <thead>\n",
       "    <tr style=\"text-align: right;\">\n",
       "      <th></th>\n",
       "      <th>X1</th>\n",
       "      <th>X2</th>\n",
       "      <th>X3</th>\n",
       "      <th>X4</th>\n",
       "      <th>y</th>\n",
       "      <th>y_pred1</th>\n",
       "    </tr>\n",
       "  </thead>\n",
       "  <tbody>\n",
       "    <tr>\n",
       "      <th>0</th>\n",
       "      <td>1.20</td>\n",
       "      <td>14.8</td>\n",
       "      <td>0.40</td>\n",
       "      <td>28.5</td>\n",
       "      <td>14.10</td>\n",
       "      <td>13.3925</td>\n",
       "    </tr>\n",
       "    <tr>\n",
       "      <th>1</th>\n",
       "      <td>1.30</td>\n",
       "      <td>18.4</td>\n",
       "      <td>0.38</td>\n",
       "      <td>28.6</td>\n",
       "      <td>9.87</td>\n",
       "      <td>13.3925</td>\n",
       "    </tr>\n",
       "    <tr>\n",
       "      <th>2</th>\n",
       "      <td>2.05</td>\n",
       "      <td>11.4</td>\n",
       "      <td>0.43</td>\n",
       "      <td>23.5</td>\n",
       "      <td>11.50</td>\n",
       "      <td>13.3925</td>\n",
       "    </tr>\n",
       "    <tr>\n",
       "      <th>3</th>\n",
       "      <td>1.80</td>\n",
       "      <td>9.8</td>\n",
       "      <td>0.67</td>\n",
       "      <td>19.9</td>\n",
       "      <td>18.10</td>\n",
       "      <td>13.3925</td>\n",
       "    </tr>\n",
       "  </tbody>\n",
       "</table>\n",
       "</div>"
      ],
      "text/plain": [
       "     X1    X2    X3    X4      y  y_pred1\n",
       "0  1.20  14.8  0.40  28.5  14.10  13.3925\n",
       "1  1.30  18.4  0.38  28.6   9.87  13.3925\n",
       "2  2.05  11.4  0.43  23.5  11.50  13.3925\n",
       "3  1.80   9.8  0.67  19.9  18.10  13.3925"
      ]
     },
     "execution_count": 156,
     "metadata": {},
     "output_type": "execute_result"
    }
   ],
   "source": [
    "df1"
   ]
  },
  {
   "cell_type": "code",
   "execution_count": 159,
   "id": "4be073ef",
   "metadata": {},
   "outputs": [],
   "source": [
    "df1['res1'] = df1['y'] - df1['y_pred1']"
   ]
  },
  {
   "cell_type": "code",
   "execution_count": 161,
   "id": "8634e672",
   "metadata": {},
   "outputs": [
    {
     "data": {
      "text/html": [
       "<div>\n",
       "<style scoped>\n",
       "    .dataframe tbody tr th:only-of-type {\n",
       "        vertical-align: middle;\n",
       "    }\n",
       "\n",
       "    .dataframe tbody tr th {\n",
       "        vertical-align: top;\n",
       "    }\n",
       "\n",
       "    .dataframe thead th {\n",
       "        text-align: right;\n",
       "    }\n",
       "</style>\n",
       "<table border=\"1\" class=\"dataframe\">\n",
       "  <thead>\n",
       "    <tr style=\"text-align: right;\">\n",
       "      <th></th>\n",
       "      <th>X1</th>\n",
       "      <th>X2</th>\n",
       "      <th>X3</th>\n",
       "      <th>X4</th>\n",
       "      <th>y</th>\n",
       "      <th>y_pred1</th>\n",
       "      <th>res1</th>\n",
       "    </tr>\n",
       "  </thead>\n",
       "  <tbody>\n",
       "    <tr>\n",
       "      <th>0</th>\n",
       "      <td>1.20</td>\n",
       "      <td>14.8</td>\n",
       "      <td>0.40</td>\n",
       "      <td>28.5</td>\n",
       "      <td>14.10</td>\n",
       "      <td>13.3925</td>\n",
       "      <td>0.7075</td>\n",
       "    </tr>\n",
       "    <tr>\n",
       "      <th>1</th>\n",
       "      <td>1.30</td>\n",
       "      <td>18.4</td>\n",
       "      <td>0.38</td>\n",
       "      <td>28.6</td>\n",
       "      <td>9.87</td>\n",
       "      <td>13.3925</td>\n",
       "      <td>-3.5225</td>\n",
       "    </tr>\n",
       "    <tr>\n",
       "      <th>2</th>\n",
       "      <td>2.05</td>\n",
       "      <td>11.4</td>\n",
       "      <td>0.43</td>\n",
       "      <td>23.5</td>\n",
       "      <td>11.50</td>\n",
       "      <td>13.3925</td>\n",
       "      <td>-1.8925</td>\n",
       "    </tr>\n",
       "    <tr>\n",
       "      <th>3</th>\n",
       "      <td>1.80</td>\n",
       "      <td>9.8</td>\n",
       "      <td>0.67</td>\n",
       "      <td>19.9</td>\n",
       "      <td>18.10</td>\n",
       "      <td>13.3925</td>\n",
       "      <td>4.7075</td>\n",
       "    </tr>\n",
       "  </tbody>\n",
       "</table>\n",
       "</div>"
      ],
      "text/plain": [
       "     X1    X2    X3    X4      y  y_pred1    res1\n",
       "0  1.20  14.8  0.40  28.5  14.10  13.3925  0.7075\n",
       "1  1.30  18.4  0.38  28.6   9.87  13.3925 -3.5225\n",
       "2  2.05  11.4  0.43  23.5  11.50  13.3925 -1.8925\n",
       "3  1.80   9.8  0.67  19.9  18.10  13.3925  4.7075"
      ]
     },
     "execution_count": 161,
     "metadata": {},
     "output_type": "execute_result"
    }
   ],
   "source": [
    "df1"
   ]
  },
  {
   "cell_type": "code",
   "execution_count": 170,
   "id": "e0f4faa1",
   "metadata": {},
   "outputs": [
    {
     "data": {
      "text/html": [
       "<div>\n",
       "<style scoped>\n",
       "    .dataframe tbody tr th:only-of-type {\n",
       "        vertical-align: middle;\n",
       "    }\n",
       "\n",
       "    .dataframe tbody tr th {\n",
       "        vertical-align: top;\n",
       "    }\n",
       "\n",
       "    .dataframe thead th {\n",
       "        text-align: right;\n",
       "    }\n",
       "</style>\n",
       "<table border=\"1\" class=\"dataframe\">\n",
       "  <thead>\n",
       "    <tr style=\"text-align: right;\">\n",
       "      <th></th>\n",
       "      <th>Height</th>\n",
       "      <th>FColor</th>\n",
       "      <th>Gender</th>\n",
       "      <th>Weight</th>\n",
       "    </tr>\n",
       "  </thead>\n",
       "  <tbody>\n",
       "    <tr>\n",
       "      <th>0</th>\n",
       "      <td>1.6</td>\n",
       "      <td>Blue</td>\n",
       "      <td>M</td>\n",
       "      <td>88</td>\n",
       "    </tr>\n",
       "    <tr>\n",
       "      <th>1</th>\n",
       "      <td>1.6</td>\n",
       "      <td>Green</td>\n",
       "      <td>F</td>\n",
       "      <td>76</td>\n",
       "    </tr>\n",
       "    <tr>\n",
       "      <th>2</th>\n",
       "      <td>1.5</td>\n",
       "      <td>Blue</td>\n",
       "      <td>F</td>\n",
       "      <td>56</td>\n",
       "    </tr>\n",
       "    <tr>\n",
       "      <th>3</th>\n",
       "      <td>1.8</td>\n",
       "      <td>Red</td>\n",
       "      <td>M</td>\n",
       "      <td>73</td>\n",
       "    </tr>\n",
       "  </tbody>\n",
       "</table>\n",
       "</div>"
      ],
      "text/plain": [
       "   Height FColor Gender  Weight\n",
       "0     1.6   Blue      M      88\n",
       "1     1.6  Green      F      76\n",
       "2     1.5   Blue      F      56\n",
       "3     1.8    Red      M      73"
      ]
     },
     "execution_count": 170,
     "metadata": {},
     "output_type": "execute_result"
    }
   ],
   "source": [
    "df = pd.DataFrame()\n",
    "df['Height'] = [1.6, 1.6, 1.5, 1.8]\n",
    "df['FColor'] = ['Blue', 'Green', 'Blue', 'Red' ]\n",
    "df['Gender'] = ['M', 'F', 'F', 'M']\n",
    "df['Weight'] = [88, 76, 56, 73]\n",
    "df"
   ]
  },
  {
   "cell_type": "code",
   "execution_count": 172,
   "id": "d0c950b1",
   "metadata": {},
   "outputs": [
    {
     "data": {
      "text/html": [
       "<div>\n",
       "<style scoped>\n",
       "    .dataframe tbody tr th:only-of-type {\n",
       "        vertical-align: middle;\n",
       "    }\n",
       "\n",
       "    .dataframe tbody tr th {\n",
       "        vertical-align: top;\n",
       "    }\n",
       "\n",
       "    .dataframe thead th {\n",
       "        text-align: right;\n",
       "    }\n",
       "</style>\n",
       "<table border=\"1\" class=\"dataframe\">\n",
       "  <thead>\n",
       "    <tr style=\"text-align: right;\">\n",
       "      <th></th>\n",
       "      <th>Height</th>\n",
       "      <th>FColor</th>\n",
       "      <th>Gender</th>\n",
       "      <th>Weight</th>\n",
       "      <th>pred1</th>\n",
       "      <th>res1</th>\n",
       "    </tr>\n",
       "  </thead>\n",
       "  <tbody>\n",
       "    <tr>\n",
       "      <th>0</th>\n",
       "      <td>1.6</td>\n",
       "      <td>Blue</td>\n",
       "      <td>M</td>\n",
       "      <td>88</td>\n",
       "      <td>73.25</td>\n",
       "      <td>14.75</td>\n",
       "    </tr>\n",
       "    <tr>\n",
       "      <th>1</th>\n",
       "      <td>1.6</td>\n",
       "      <td>Green</td>\n",
       "      <td>F</td>\n",
       "      <td>76</td>\n",
       "      <td>73.25</td>\n",
       "      <td>2.75</td>\n",
       "    </tr>\n",
       "    <tr>\n",
       "      <th>2</th>\n",
       "      <td>1.5</td>\n",
       "      <td>Blue</td>\n",
       "      <td>F</td>\n",
       "      <td>56</td>\n",
       "      <td>73.25</td>\n",
       "      <td>-17.25</td>\n",
       "    </tr>\n",
       "    <tr>\n",
       "      <th>3</th>\n",
       "      <td>1.8</td>\n",
       "      <td>Red</td>\n",
       "      <td>M</td>\n",
       "      <td>73</td>\n",
       "      <td>73.25</td>\n",
       "      <td>-0.25</td>\n",
       "    </tr>\n",
       "  </tbody>\n",
       "</table>\n",
       "</div>"
      ],
      "text/plain": [
       "   Height FColor Gender  Weight  pred1   res1\n",
       "0     1.6   Blue      M      88  73.25  14.75\n",
       "1     1.6  Green      F      76  73.25   2.75\n",
       "2     1.5   Blue      F      56  73.25 -17.25\n",
       "3     1.8    Red      M      73  73.25  -0.25"
      ]
     },
     "execution_count": 172,
     "metadata": {},
     "output_type": "execute_result"
    }
   ],
   "source": [
    "df['pred1'] = df.Weight.mean()\n",
    "df['res1'] = df.Weight - df.pred1\n",
    "df"
   ]
  }
 ],
 "metadata": {
  "kernelspec": {
   "display_name": "Python 3 (ipykernel)",
   "language": "python",
   "name": "python3"
  },
  "language_info": {
   "codemirror_mode": {
    "name": "ipython",
    "version": 3
   },
   "file_extension": ".py",
   "mimetype": "text/x-python",
   "name": "python",
   "nbconvert_exporter": "python",
   "pygments_lexer": "ipython3",
   "version": "3.11.5"
  }
 },
 "nbformat": 4,
 "nbformat_minor": 5
}
