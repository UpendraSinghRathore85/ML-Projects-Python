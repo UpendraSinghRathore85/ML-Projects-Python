{
 "cells": [
  {
   "cell_type": "markdown",
   "id": "be686418",
   "metadata": {},
   "source": [
    "# VIF"
   ]
  },
  {
   "cell_type": "code",
   "execution_count": 1,
   "id": "9b7aa206",
   "metadata": {},
   "outputs": [],
   "source": [
    "import pandas as pd\n",
    "from statsmodels.stats.outliers_influence import variance_inflation_factor\n",
    "from sklearn.datasets import load_diabetes\n",
    "\n"
   ]
  },
  {
   "cell_type": "code",
   "execution_count": 2,
   "id": "91b11ca1",
   "metadata": {},
   "outputs": [],
   "source": [
    "diabetes_data = load_diabetes()"
   ]
  },
  {
   "cell_type": "code",
   "execution_count": 3,
   "id": "7de3a000",
   "metadata": {},
   "outputs": [],
   "source": [
    "# Function to calculate VIF\n",
    "def calculate_vif(X):\n",
    "    vif_data = pd.DataFrame()\n",
    "    vif_data[\"Feature\"] = X.columns\n",
    "    vif_data[\"VIF\"] = [variance_inflation_factor(X.values, i) for i in range(len(X.columns))]\n",
    "    return vif_data"
   ]
  },
  {
   "cell_type": "markdown",
   "id": "7869557c",
   "metadata": {},
   "source": [
    "### Calculate VIF for diabetes_df"
   ]
  },
  {
   "cell_type": "code",
   "execution_count": 4,
   "id": "34dd2516",
   "metadata": {},
   "outputs": [
    {
     "data": {
      "text/html": [
       "<div>\n",
       "<style scoped>\n",
       "    .dataframe tbody tr th:only-of-type {\n",
       "        vertical-align: middle;\n",
       "    }\n",
       "\n",
       "    .dataframe tbody tr th {\n",
       "        vertical-align: top;\n",
       "    }\n",
       "\n",
       "    .dataframe thead th {\n",
       "        text-align: right;\n",
       "    }\n",
       "</style>\n",
       "<table border=\"1\" class=\"dataframe\">\n",
       "  <thead>\n",
       "    <tr style=\"text-align: right;\">\n",
       "      <th></th>\n",
       "      <th>age</th>\n",
       "      <th>sex</th>\n",
       "      <th>bmi</th>\n",
       "      <th>bp</th>\n",
       "      <th>s1</th>\n",
       "      <th>s2</th>\n",
       "      <th>s3</th>\n",
       "      <th>s4</th>\n",
       "      <th>s5</th>\n",
       "      <th>s6</th>\n",
       "    </tr>\n",
       "  </thead>\n",
       "  <tbody>\n",
       "    <tr>\n",
       "      <th>0</th>\n",
       "      <td>0.038076</td>\n",
       "      <td>0.050680</td>\n",
       "      <td>0.061696</td>\n",
       "      <td>0.021872</td>\n",
       "      <td>-0.044223</td>\n",
       "      <td>-0.034821</td>\n",
       "      <td>-0.043401</td>\n",
       "      <td>-0.002592</td>\n",
       "      <td>0.019907</td>\n",
       "      <td>-0.017646</td>\n",
       "    </tr>\n",
       "    <tr>\n",
       "      <th>1</th>\n",
       "      <td>-0.001882</td>\n",
       "      <td>-0.044642</td>\n",
       "      <td>-0.051474</td>\n",
       "      <td>-0.026328</td>\n",
       "      <td>-0.008449</td>\n",
       "      <td>-0.019163</td>\n",
       "      <td>0.074412</td>\n",
       "      <td>-0.039493</td>\n",
       "      <td>-0.068332</td>\n",
       "      <td>-0.092204</td>\n",
       "    </tr>\n",
       "    <tr>\n",
       "      <th>2</th>\n",
       "      <td>0.085299</td>\n",
       "      <td>0.050680</td>\n",
       "      <td>0.044451</td>\n",
       "      <td>-0.005670</td>\n",
       "      <td>-0.045599</td>\n",
       "      <td>-0.034194</td>\n",
       "      <td>-0.032356</td>\n",
       "      <td>-0.002592</td>\n",
       "      <td>0.002861</td>\n",
       "      <td>-0.025930</td>\n",
       "    </tr>\n",
       "    <tr>\n",
       "      <th>3</th>\n",
       "      <td>-0.089063</td>\n",
       "      <td>-0.044642</td>\n",
       "      <td>-0.011595</td>\n",
       "      <td>-0.036656</td>\n",
       "      <td>0.012191</td>\n",
       "      <td>0.024991</td>\n",
       "      <td>-0.036038</td>\n",
       "      <td>0.034309</td>\n",
       "      <td>0.022688</td>\n",
       "      <td>-0.009362</td>\n",
       "    </tr>\n",
       "    <tr>\n",
       "      <th>4</th>\n",
       "      <td>0.005383</td>\n",
       "      <td>-0.044642</td>\n",
       "      <td>-0.036385</td>\n",
       "      <td>0.021872</td>\n",
       "      <td>0.003935</td>\n",
       "      <td>0.015596</td>\n",
       "      <td>0.008142</td>\n",
       "      <td>-0.002592</td>\n",
       "      <td>-0.031988</td>\n",
       "      <td>-0.046641</td>\n",
       "    </tr>\n",
       "  </tbody>\n",
       "</table>\n",
       "</div>"
      ],
      "text/plain": [
       "        age       sex       bmi        bp        s1        s2        s3  \\\n",
       "0  0.038076  0.050680  0.061696  0.021872 -0.044223 -0.034821 -0.043401   \n",
       "1 -0.001882 -0.044642 -0.051474 -0.026328 -0.008449 -0.019163  0.074412   \n",
       "2  0.085299  0.050680  0.044451 -0.005670 -0.045599 -0.034194 -0.032356   \n",
       "3 -0.089063 -0.044642 -0.011595 -0.036656  0.012191  0.024991 -0.036038   \n",
       "4  0.005383 -0.044642 -0.036385  0.021872  0.003935  0.015596  0.008142   \n",
       "\n",
       "         s4        s5        s6  \n",
       "0 -0.002592  0.019907 -0.017646  \n",
       "1 -0.039493 -0.068332 -0.092204  \n",
       "2 -0.002592  0.002861 -0.025930  \n",
       "3  0.034309  0.022688 -0.009362  \n",
       "4 -0.002592 -0.031988 -0.046641  "
      ]
     },
     "execution_count": 4,
     "metadata": {},
     "output_type": "execute_result"
    }
   ],
   "source": [
    "# Create a DataFrame with the features\n",
    "diabetes_df = pd.DataFrame(diabetes_data.data, columns=diabetes_data.feature_names)\n",
    "\n",
    "diabetes_df.head()"
   ]
  },
  {
   "cell_type": "code",
   "execution_count": 5,
   "id": "67e5376d",
   "metadata": {},
   "outputs": [
    {
     "name": "stdout",
     "output_type": "stream",
     "text": [
      "VIF values:\n",
      "  Feature        VIF\n",
      "0     age   1.217307\n",
      "1     sex   1.278071\n",
      "2     bmi   1.509437\n",
      "3      bp   1.459428\n",
      "4      s1  59.202510\n",
      "5      s2  39.193370\n",
      "6      s3  15.402156\n",
      "7      s4   8.890986\n",
      "8      s5  10.075967\n",
      "9      s6   1.484623\n"
     ]
    }
   ],
   "source": [
    "# Calculate VIF\n",
    "vif_df = calculate_vif(diabetes_df)\n",
    "print(\"VIF values:\")\n",
    "print(vif_df)"
   ]
  },
  {
   "cell_type": "markdown",
   "id": "e756a542",
   "metadata": {},
   "source": [
    "## Approach to remove VIF\n",
    "- APPROACH 1 :Set a threshold and remove features at once -- Wrong\n",
    "- APPROACH 2 :Set a threshold and remove feature one by one with highest VIF\n"
   ]
  },
  {
   "cell_type": "markdown",
   "id": "bbaa3a30",
   "metadata": {},
   "source": [
    "### APPROACH 1 - Wrong"
   ]
  },
  {
   "cell_type": "code",
   "execution_count": 6,
   "id": "217a7888",
   "metadata": {},
   "outputs": [
    {
     "name": "stdout",
     "output_type": "stream",
     "text": [
      "  Feature        VIF\n",
      "0     age   1.217307\n",
      "1     sex   1.278071\n",
      "2     bmi   1.509437\n",
      "3      bp   1.459428\n",
      "4      s1  59.202510\n",
      "5      s2  39.193370\n",
      "6      s3  15.402156\n",
      "7      s4   8.890986\n",
      "8      s5  10.075967\n",
      "9      s6   1.484623\n"
     ]
    }
   ],
   "source": [
    "# Assuming diabetes_df is your DataFrame containing the diabetes dataset features\n",
    "diabetes_df_filtered = diabetes_df.copy()  # Make a copy of the original DataFrame\n",
    "\n",
    "vif_df = calculate_vif(diabetes_df_filtered)\n",
    "print(vif_df)\n",
    "\n",
    "# Set a threshold for VIF\n",
    "threshold = 5\n",
    "\n",
    "# Remove features with VIF above the threshold\n",
    "high_vif_features = vif_df[vif_df['VIF'] > threshold]['Feature']\n",
    "diabetes_df_filtered = diabetes_df.drop(high_vif_features, axis=1)"
   ]
  },
  {
   "cell_type": "code",
   "execution_count": 7,
   "id": "bd1f2bd8",
   "metadata": {},
   "outputs": [
    {
     "name": "stdout",
     "output_type": "stream",
     "text": [
      "Removed features with high VIF:\n"
     ]
    },
    {
     "data": {
      "text/html": [
       "<div>\n",
       "<style scoped>\n",
       "    .dataframe tbody tr th:only-of-type {\n",
       "        vertical-align: middle;\n",
       "    }\n",
       "\n",
       "    .dataframe tbody tr th {\n",
       "        vertical-align: top;\n",
       "    }\n",
       "\n",
       "    .dataframe thead th {\n",
       "        text-align: right;\n",
       "    }\n",
       "</style>\n",
       "<table border=\"1\" class=\"dataframe\">\n",
       "  <thead>\n",
       "    <tr style=\"text-align: right;\">\n",
       "      <th></th>\n",
       "      <th>age</th>\n",
       "      <th>sex</th>\n",
       "      <th>bmi</th>\n",
       "      <th>bp</th>\n",
       "      <th>s6</th>\n",
       "    </tr>\n",
       "  </thead>\n",
       "  <tbody>\n",
       "    <tr>\n",
       "      <th>0</th>\n",
       "      <td>0.038076</td>\n",
       "      <td>0.050680</td>\n",
       "      <td>0.061696</td>\n",
       "      <td>0.021872</td>\n",
       "      <td>-0.017646</td>\n",
       "    </tr>\n",
       "    <tr>\n",
       "      <th>1</th>\n",
       "      <td>-0.001882</td>\n",
       "      <td>-0.044642</td>\n",
       "      <td>-0.051474</td>\n",
       "      <td>-0.026328</td>\n",
       "      <td>-0.092204</td>\n",
       "    </tr>\n",
       "    <tr>\n",
       "      <th>2</th>\n",
       "      <td>0.085299</td>\n",
       "      <td>0.050680</td>\n",
       "      <td>0.044451</td>\n",
       "      <td>-0.005670</td>\n",
       "      <td>-0.025930</td>\n",
       "    </tr>\n",
       "  </tbody>\n",
       "</table>\n",
       "</div>"
      ],
      "text/plain": [
       "        age       sex       bmi        bp        s6\n",
       "0  0.038076  0.050680  0.061696  0.021872 -0.017646\n",
       "1 -0.001882 -0.044642 -0.051474 -0.026328 -0.092204\n",
       "2  0.085299  0.050680  0.044451 -0.005670 -0.025930"
      ]
     },
     "execution_count": 7,
     "metadata": {},
     "output_type": "execute_result"
    }
   ],
   "source": [
    "print(\"Removed features with high VIF:\")\n",
    "diabetes_df_filtered.head(3)"
   ]
  },
  {
   "cell_type": "markdown",
   "id": "f595d81a",
   "metadata": {},
   "source": [
    "### % of features left"
   ]
  },
  {
   "cell_type": "code",
   "execution_count": 8,
   "id": "d9575536",
   "metadata": {},
   "outputs": [
    {
     "name": "stdout",
     "output_type": "stream",
     "text": [
      "Percentage of featues left = 50.0 %\n"
     ]
    }
   ],
   "source": [
    "print(f\"Percentage of featues left = {diabetes_df_filtered.shape[1]/diabetes_df.shape[1]*100} %\")"
   ]
  },
  {
   "cell_type": "markdown",
   "id": "212161df",
   "metadata": {},
   "source": [
    "## APPROACH 2 :Set a threshold and remove feature one by one with highest VIF"
   ]
  },
  {
   "cell_type": "code",
   "execution_count": 9,
   "id": "d5b37ec5",
   "metadata": {},
   "outputs": [],
   "source": [
    "import pandas as pd\n",
    "from statsmodels.stats.outliers_influence import variance_inflation_factor\n",
    "\n",
    "# Assuming diabetes_df is your DataFrame containing the diabetes dataset features\n",
    "diabetes_df_filtered = diabetes_df.copy()  # Make a copy of the original DataFrame\n"
   ]
  },
  {
   "cell_type": "code",
   "execution_count": 10,
   "id": "de8a4cc6",
   "metadata": {},
   "outputs": [
    {
     "data": {
      "text/html": [
       "<div>\n",
       "<style scoped>\n",
       "    .dataframe tbody tr th:only-of-type {\n",
       "        vertical-align: middle;\n",
       "    }\n",
       "\n",
       "    .dataframe tbody tr th {\n",
       "        vertical-align: top;\n",
       "    }\n",
       "\n",
       "    .dataframe thead th {\n",
       "        text-align: right;\n",
       "    }\n",
       "</style>\n",
       "<table border=\"1\" class=\"dataframe\">\n",
       "  <thead>\n",
       "    <tr style=\"text-align: right;\">\n",
       "      <th></th>\n",
       "      <th>age</th>\n",
       "      <th>sex</th>\n",
       "      <th>bmi</th>\n",
       "      <th>bp</th>\n",
       "      <th>s1</th>\n",
       "      <th>s2</th>\n",
       "      <th>s3</th>\n",
       "      <th>s4</th>\n",
       "      <th>s5</th>\n",
       "      <th>s6</th>\n",
       "    </tr>\n",
       "  </thead>\n",
       "  <tbody>\n",
       "    <tr>\n",
       "      <th>0</th>\n",
       "      <td>0.038076</td>\n",
       "      <td>0.050680</td>\n",
       "      <td>0.061696</td>\n",
       "      <td>0.021872</td>\n",
       "      <td>-0.044223</td>\n",
       "      <td>-0.034821</td>\n",
       "      <td>-0.043401</td>\n",
       "      <td>-0.002592</td>\n",
       "      <td>0.019907</td>\n",
       "      <td>-0.017646</td>\n",
       "    </tr>\n",
       "    <tr>\n",
       "      <th>1</th>\n",
       "      <td>-0.001882</td>\n",
       "      <td>-0.044642</td>\n",
       "      <td>-0.051474</td>\n",
       "      <td>-0.026328</td>\n",
       "      <td>-0.008449</td>\n",
       "      <td>-0.019163</td>\n",
       "      <td>0.074412</td>\n",
       "      <td>-0.039493</td>\n",
       "      <td>-0.068332</td>\n",
       "      <td>-0.092204</td>\n",
       "    </tr>\n",
       "    <tr>\n",
       "      <th>2</th>\n",
       "      <td>0.085299</td>\n",
       "      <td>0.050680</td>\n",
       "      <td>0.044451</td>\n",
       "      <td>-0.005670</td>\n",
       "      <td>-0.045599</td>\n",
       "      <td>-0.034194</td>\n",
       "      <td>-0.032356</td>\n",
       "      <td>-0.002592</td>\n",
       "      <td>0.002861</td>\n",
       "      <td>-0.025930</td>\n",
       "    </tr>\n",
       "    <tr>\n",
       "      <th>3</th>\n",
       "      <td>-0.089063</td>\n",
       "      <td>-0.044642</td>\n",
       "      <td>-0.011595</td>\n",
       "      <td>-0.036656</td>\n",
       "      <td>0.012191</td>\n",
       "      <td>0.024991</td>\n",
       "      <td>-0.036038</td>\n",
       "      <td>0.034309</td>\n",
       "      <td>0.022688</td>\n",
       "      <td>-0.009362</td>\n",
       "    </tr>\n",
       "    <tr>\n",
       "      <th>4</th>\n",
       "      <td>0.005383</td>\n",
       "      <td>-0.044642</td>\n",
       "      <td>-0.036385</td>\n",
       "      <td>0.021872</td>\n",
       "      <td>0.003935</td>\n",
       "      <td>0.015596</td>\n",
       "      <td>0.008142</td>\n",
       "      <td>-0.002592</td>\n",
       "      <td>-0.031988</td>\n",
       "      <td>-0.046641</td>\n",
       "    </tr>\n",
       "  </tbody>\n",
       "</table>\n",
       "</div>"
      ],
      "text/plain": [
       "        age       sex       bmi        bp        s1        s2        s3  \\\n",
       "0  0.038076  0.050680  0.061696  0.021872 -0.044223 -0.034821 -0.043401   \n",
       "1 -0.001882 -0.044642 -0.051474 -0.026328 -0.008449 -0.019163  0.074412   \n",
       "2  0.085299  0.050680  0.044451 -0.005670 -0.045599 -0.034194 -0.032356   \n",
       "3 -0.089063 -0.044642 -0.011595 -0.036656  0.012191  0.024991 -0.036038   \n",
       "4  0.005383 -0.044642 -0.036385  0.021872  0.003935  0.015596  0.008142   \n",
       "\n",
       "         s4        s5        s6  \n",
       "0 -0.002592  0.019907 -0.017646  \n",
       "1 -0.039493 -0.068332 -0.092204  \n",
       "2 -0.002592  0.002861 -0.025930  \n",
       "3  0.034309  0.022688 -0.009362  \n",
       "4 -0.002592 -0.031988 -0.046641  "
      ]
     },
     "execution_count": 10,
     "metadata": {},
     "output_type": "execute_result"
    }
   ],
   "source": [
    "diabetes_df_filtered.head()"
   ]
  },
  {
   "cell_type": "code",
   "execution_count": 11,
   "id": "99c28425",
   "metadata": {},
   "outputs": [
    {
     "name": "stdout",
     "output_type": "stream",
     "text": [
      "  Feature        VIF\n",
      "0     age   1.217307\n",
      "1     sex   1.278071\n",
      "2     bmi   1.509437\n",
      "3      bp   1.459428\n",
      "4      s1  59.202510\n",
      "5      s2  39.193370\n",
      "6      s3  15.402156\n",
      "7      s4   8.890986\n",
      "8      s5  10.075967\n",
      "9      s6   1.484623\n"
     ]
    }
   ],
   "source": [
    "print(calculate_vif(diabetes_df_filtered))"
   ]
  },
  {
   "cell_type": "code",
   "execution_count": 12,
   "id": "9c24a646",
   "metadata": {},
   "outputs": [
    {
     "name": "stdout",
     "output_type": "stream",
     "text": [
      "  Feature        VIF\n",
      "0     age   1.217307\n",
      "1     sex   1.278071\n",
      "2     bmi   1.509437\n",
      "3      bp   1.459428\n",
      "4      s1  59.202510\n",
      "5      s2  39.193370\n",
      "6      s3  15.402156\n",
      "7      s4   8.890986\n",
      "8      s5  10.075967\n",
      "9      s6   1.484623\n",
      "Removed feature with highest VIF: s1 (VIF: 59.202510134318615)\n",
      "VIF values after removing feature with highest VIF:\n",
      "  Feature       VIF\n",
      "0     age  1.216892\n",
      "1     sex  1.275049\n",
      "2     bmi  1.502320\n",
      "3      bp  1.457413\n",
      "4      s2  2.926535\n",
      "5      s3  3.736890\n",
      "6      s4  7.818670\n",
      "7      s5  2.172865\n",
      "8      s6  1.484410\n",
      "Removed feature with highest VIF: s4 (VIF: 7.818670164713724)\n",
      "VIF values after removing feature with highest VIF:\n",
      "  Feature       VIF\n",
      "0     age  1.216284\n",
      "1     sex  1.269207\n",
      "2     bmi  1.498559\n",
      "3      bp  1.447358\n",
      "4      s2  1.180838\n",
      "5      s3  1.473827\n",
      "6      s5  1.641090\n",
      "7      s6  1.476913\n"
     ]
    }
   ],
   "source": [
    "# Set a threshold for VIF\n",
    "threshold = 5\n",
    "\n",
    "print(calculate_vif(diabetes_df_filtered))\n",
    "\n",
    "# Iteratively remove features with high VIF until all VIF values are below the threshold\n",
    "while True:\n",
    "    vif_df = calculate_vif(diabetes_df_filtered)\n",
    "    max_vif_feature = vif_df.loc[vif_df['VIF'].idxmax(), 'Feature']\n",
    "    max_vif_value = vif_df['VIF'].max()\n",
    "    if max_vif_value <= threshold:\n",
    "        break\n",
    "    diabetes_df_filtered.drop(max_vif_feature, axis=1, inplace=True)\n",
    "\n",
    "    # Print VIF value and feature name after removing the feature with highest VIF\n",
    "    print(f\"Removed feature with highest VIF: {max_vif_feature} (VIF: {max_vif_value})\")\n",
    "    print(\"VIF values after removing feature with highest VIF:\")\n",
    "    print(calculate_vif(diabetes_df_filtered))\n",
    "\n"
   ]
  },
  {
   "cell_type": "code",
   "execution_count": 13,
   "id": "bcf5693b",
   "metadata": {},
   "outputs": [
    {
     "name": "stdout",
     "output_type": "stream",
     "text": [
      "Final DataFrame after feature removal:\n"
     ]
    },
    {
     "data": {
      "text/html": [
       "<div>\n",
       "<style scoped>\n",
       "    .dataframe tbody tr th:only-of-type {\n",
       "        vertical-align: middle;\n",
       "    }\n",
       "\n",
       "    .dataframe tbody tr th {\n",
       "        vertical-align: top;\n",
       "    }\n",
       "\n",
       "    .dataframe thead th {\n",
       "        text-align: right;\n",
       "    }\n",
       "</style>\n",
       "<table border=\"1\" class=\"dataframe\">\n",
       "  <thead>\n",
       "    <tr style=\"text-align: right;\">\n",
       "      <th></th>\n",
       "      <th>age</th>\n",
       "      <th>sex</th>\n",
       "      <th>bmi</th>\n",
       "      <th>bp</th>\n",
       "      <th>s2</th>\n",
       "      <th>s3</th>\n",
       "      <th>s5</th>\n",
       "      <th>s6</th>\n",
       "    </tr>\n",
       "  </thead>\n",
       "  <tbody>\n",
       "    <tr>\n",
       "      <th>0</th>\n",
       "      <td>0.038076</td>\n",
       "      <td>0.050680</td>\n",
       "      <td>0.061696</td>\n",
       "      <td>0.021872</td>\n",
       "      <td>-0.034821</td>\n",
       "      <td>-0.043401</td>\n",
       "      <td>0.019907</td>\n",
       "      <td>-0.017646</td>\n",
       "    </tr>\n",
       "    <tr>\n",
       "      <th>1</th>\n",
       "      <td>-0.001882</td>\n",
       "      <td>-0.044642</td>\n",
       "      <td>-0.051474</td>\n",
       "      <td>-0.026328</td>\n",
       "      <td>-0.019163</td>\n",
       "      <td>0.074412</td>\n",
       "      <td>-0.068332</td>\n",
       "      <td>-0.092204</td>\n",
       "    </tr>\n",
       "    <tr>\n",
       "      <th>2</th>\n",
       "      <td>0.085299</td>\n",
       "      <td>0.050680</td>\n",
       "      <td>0.044451</td>\n",
       "      <td>-0.005670</td>\n",
       "      <td>-0.034194</td>\n",
       "      <td>-0.032356</td>\n",
       "      <td>0.002861</td>\n",
       "      <td>-0.025930</td>\n",
       "    </tr>\n",
       "    <tr>\n",
       "      <th>3</th>\n",
       "      <td>-0.089063</td>\n",
       "      <td>-0.044642</td>\n",
       "      <td>-0.011595</td>\n",
       "      <td>-0.036656</td>\n",
       "      <td>0.024991</td>\n",
       "      <td>-0.036038</td>\n",
       "      <td>0.022688</td>\n",
       "      <td>-0.009362</td>\n",
       "    </tr>\n",
       "    <tr>\n",
       "      <th>4</th>\n",
       "      <td>0.005383</td>\n",
       "      <td>-0.044642</td>\n",
       "      <td>-0.036385</td>\n",
       "      <td>0.021872</td>\n",
       "      <td>0.015596</td>\n",
       "      <td>0.008142</td>\n",
       "      <td>-0.031988</td>\n",
       "      <td>-0.046641</td>\n",
       "    </tr>\n",
       "  </tbody>\n",
       "</table>\n",
       "</div>"
      ],
      "text/plain": [
       "        age       sex       bmi        bp        s2        s3        s5  \\\n",
       "0  0.038076  0.050680  0.061696  0.021872 -0.034821 -0.043401  0.019907   \n",
       "1 -0.001882 -0.044642 -0.051474 -0.026328 -0.019163  0.074412 -0.068332   \n",
       "2  0.085299  0.050680  0.044451 -0.005670 -0.034194 -0.032356  0.002861   \n",
       "3 -0.089063 -0.044642 -0.011595 -0.036656  0.024991 -0.036038  0.022688   \n",
       "4  0.005383 -0.044642 -0.036385  0.021872  0.015596  0.008142 -0.031988   \n",
       "\n",
       "         s6  \n",
       "0 -0.017646  \n",
       "1 -0.092204  \n",
       "2 -0.025930  \n",
       "3 -0.009362  \n",
       "4 -0.046641  "
      ]
     },
     "execution_count": 13,
     "metadata": {},
     "output_type": "execute_result"
    }
   ],
   "source": [
    "print(\"Final DataFrame after feature removal:\")\n",
    "diabetes_df_filtered.head()"
   ]
  },
  {
   "cell_type": "markdown",
   "id": "92852ddf",
   "metadata": {},
   "source": [
    "## % of features left"
   ]
  },
  {
   "cell_type": "code",
   "execution_count": 14,
   "id": "9b521ba9",
   "metadata": {},
   "outputs": [
    {
     "name": "stdout",
     "output_type": "stream",
     "text": [
      "Percentage of featues left = 80.0 %\n"
     ]
    }
   ],
   "source": [
    "print(f\"Percentage of featues left = {diabetes_df_filtered.shape[1]/diabetes_df.shape[1]*100} %\")"
   ]
  }
 ],
 "metadata": {
  "kernelspec": {
   "display_name": "Python 3 (ipykernel)",
   "language": "python",
   "name": "python3"
  },
  "language_info": {
   "codemirror_mode": {
    "name": "ipython",
    "version": 3
   },
   "file_extension": ".py",
   "mimetype": "text/x-python",
   "name": "python",
   "nbconvert_exporter": "python",
   "pygments_lexer": "ipython3",
   "version": "3.11.5"
  }
 },
 "nbformat": 4,
 "nbformat_minor": 5
}
