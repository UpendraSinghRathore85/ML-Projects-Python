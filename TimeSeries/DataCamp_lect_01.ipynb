{
 "cells": [
  {
   "cell_type": "code",
   "execution_count": 1,
   "id": "40263e7a",
   "metadata": {},
   "outputs": [],
   "source": [
    "import pandas as pd\n",
    "from datetime import datetime"
   ]
  },
  {
   "cell_type": "code",
   "execution_count": 2,
   "id": "7b86ec06",
   "metadata": {},
   "outputs": [
    {
     "name": "stdout",
     "output_type": "stream",
     "text": [
      "6 Sunday\n",
      "0 Monday\n",
      "1 Tuesday\n",
      "2 Wednesday\n",
      "3 Thursday\n",
      "4 Friday\n",
      "5 Saturday\n"
     ]
    }
   ],
   "source": [
    "# Create the range of dates here\n",
    "seven_days = pd.date_range('2017-1-1', periods=7)\n",
    "\n",
    "# Iterate over the dates and print the number and name of the weekday\n",
    "for day in seven_days:\n",
    "    print(day.dayofweek, day.day_name())"
   ]
  },
  {
   "cell_type": "code",
   "execution_count": 3,
   "id": "17c699a3",
   "metadata": {},
   "outputs": [
    {
     "name": "stdout",
     "output_type": "stream",
     "text": [
      "<class 'pandas.core.frame.DataFrame'>\n",
      "RangeIndex: 248 entries, 0 to 247\n",
      "Data columns (total 7 columns):\n",
      " #   Column           Non-Null Count  Dtype  \n",
      "---  ------           --------------  -----  \n",
      " 0   Date             248 non-null    object \n",
      " 1   Open             248 non-null    float64\n",
      " 2   High             248 non-null    float64\n",
      " 3   Low              248 non-null    float64\n",
      " 4   Close            248 non-null    float64\n",
      " 5   Shares Traded    247 non-null    float64\n",
      " 6   Turnover (₹ Cr)  247 non-null    float64\n",
      "dtypes: float64(6), object(1)\n",
      "memory usage: 13.7+ KB\n"
     ]
    }
   ],
   "source": [
    "df = pd.read_csv('NIFTY_MIDCAP.csv')\n",
    "df.info()"
   ]
  },
  {
   "cell_type": "code",
   "execution_count": 10,
   "id": "28252c4f",
   "metadata": {},
   "outputs": [
    {
     "data": {
      "text/html": [
       "<div>\n",
       "<style scoped>\n",
       "    .dataframe tbody tr th:only-of-type {\n",
       "        vertical-align: middle;\n",
       "    }\n",
       "\n",
       "    .dataframe tbody tr th {\n",
       "        vertical-align: top;\n",
       "    }\n",
       "\n",
       "    .dataframe thead th {\n",
       "        text-align: right;\n",
       "    }\n",
       "</style>\n",
       "<table border=\"1\" class=\"dataframe\">\n",
       "  <thead>\n",
       "    <tr style=\"text-align: right;\">\n",
       "      <th></th>\n",
       "      <th>Open</th>\n",
       "      <th>High</th>\n",
       "      <th>Low</th>\n",
       "      <th>Close</th>\n",
       "      <th>Shares_Traded</th>\n",
       "      <th>Turnover_(₹_Cr)</th>\n",
       "    </tr>\n",
       "    <tr>\n",
       "      <th>Date</th>\n",
       "      <th></th>\n",
       "      <th></th>\n",
       "      <th></th>\n",
       "      <th></th>\n",
       "      <th></th>\n",
       "      <th></th>\n",
       "    </tr>\n",
       "  </thead>\n",
       "  <tbody>\n",
       "    <tr>\n",
       "      <th>2023-12-22</th>\n",
       "      <td>16661.35</td>\n",
       "      <td>16737.60</td>\n",
       "      <td>16575.50</td>\n",
       "      <td>16693.00</td>\n",
       "      <td>1.112996e+09</td>\n",
       "      <td>19724.14</td>\n",
       "    </tr>\n",
       "    <tr>\n",
       "      <th>2023-12-26</th>\n",
       "      <td>16761.80</td>\n",
       "      <td>16826.70</td>\n",
       "      <td>16712.05</td>\n",
       "      <td>16787.00</td>\n",
       "      <td>9.774328e+08</td>\n",
       "      <td>18558.92</td>\n",
       "    </tr>\n",
       "    <tr>\n",
       "      <th>2023-12-27</th>\n",
       "      <td>16873.50</td>\n",
       "      <td>16932.40</td>\n",
       "      <td>16775.90</td>\n",
       "      <td>16852.45</td>\n",
       "      <td>7.604502e+08</td>\n",
       "      <td>18294.60</td>\n",
       "    </tr>\n",
       "    <tr>\n",
       "      <th>2023-12-28</th>\n",
       "      <td>16909.40</td>\n",
       "      <td>16944.55</td>\n",
       "      <td>16848.40</td>\n",
       "      <td>16933.75</td>\n",
       "      <td>1.088676e+09</td>\n",
       "      <td>22603.97</td>\n",
       "    </tr>\n",
       "    <tr>\n",
       "      <th>2023-12-29</th>\n",
       "      <td>16972.90</td>\n",
       "      <td>17102.40</td>\n",
       "      <td>16907.60</td>\n",
       "      <td>17077.05</td>\n",
       "      <td>2.735974e+09</td>\n",
       "      <td>23766.47</td>\n",
       "    </tr>\n",
       "  </tbody>\n",
       "</table>\n",
       "</div>"
      ],
      "text/plain": [
       "                Open      High       Low     Close  Shares_Traded  \\\n",
       "Date                                                                \n",
       "2023-12-22  16661.35  16737.60  16575.50  16693.00   1.112996e+09   \n",
       "2023-12-26  16761.80  16826.70  16712.05  16787.00   9.774328e+08   \n",
       "2023-12-27  16873.50  16932.40  16775.90  16852.45   7.604502e+08   \n",
       "2023-12-28  16909.40  16944.55  16848.40  16933.75   1.088676e+09   \n",
       "2023-12-29  16972.90  17102.40  16907.60  17077.05   2.735974e+09   \n",
       "\n",
       "            Turnover_(₹_Cr)  \n",
       "Date                         \n",
       "2023-12-22         19724.14  \n",
       "2023-12-26         18558.92  \n",
       "2023-12-27         18294.60  \n",
       "2023-12-28         22603.97  \n",
       "2023-12-29         23766.47  "
      ]
     },
     "execution_count": 10,
     "metadata": {},
     "output_type": "execute_result"
    }
   ],
   "source": [
    "df.head(5)"
   ]
  },
  {
   "cell_type": "code",
   "execution_count": 5,
   "id": "aa78e069",
   "metadata": {},
   "outputs": [],
   "source": [
    "# Rename columns after trimming whitespace\n",
    "df.columns = df.columns.str.strip().str.replace(' ', '_')"
   ]
  },
  {
   "cell_type": "code",
   "execution_count": 6,
   "id": "b08ba642",
   "metadata": {},
   "outputs": [],
   "source": [
    "df['Date'] = pd.to_datetime(df['Date'], format=\"%d-%b-%Y\")\n",
    "df = df.set_index('Date')"
   ]
  },
  {
   "cell_type": "code",
   "execution_count": 7,
   "id": "c9f9a595",
   "metadata": {},
   "outputs": [
    {
     "name": "stdout",
     "output_type": "stream",
     "text": [
      "<class 'pandas.core.frame.DataFrame'>\n",
      "DatetimeIndex: 248 entries, 2023-12-22 to 2024-12-20\n",
      "Data columns (total 6 columns):\n",
      " #   Column           Non-Null Count  Dtype  \n",
      "---  ------           --------------  -----  \n",
      " 0   Open             248 non-null    float64\n",
      " 1   High             248 non-null    float64\n",
      " 2   Low              248 non-null    float64\n",
      " 3   Close            248 non-null    float64\n",
      " 4   Shares_Traded    247 non-null    float64\n",
      " 5   Turnover_(₹_Cr)  247 non-null    float64\n",
      "dtypes: float64(6)\n",
      "memory usage: 13.6 KB\n"
     ]
    }
   ],
   "source": [
    "df.info()"
   ]
  },
  {
   "cell_type": "code",
   "execution_count": 11,
   "id": "7f96150e",
   "metadata": {},
   "outputs": [
    {
     "data": {
      "image/png": "[encoded data removed]",
      "text/plain": [
       "<Figure size 640x480 with 1 Axes>"
      ]
     },
     "metadata": {},
     "output_type": "display_data"
    }
   ],
   "source": [
    "for month in range(1,12):\n",
    "    df.loc[df.index.month ==month]['Close'].plot()"
   ]
  }
 ],
 "metadata": {
  "kernelspec": {
   "display_name": "Python 3 (ipykernel)",
   "language": "python",
   "name": "python3"
  },
  "language_info": {
   "codemirror_mode": {
    "name": "ipython",
    "version": 3
   },
   "file_extension": ".py",
   "mimetype": "text/x-python",
   "name": "python",
   "nbconvert_exporter": "python",
   "pygments_lexer": "ipython3",
   "version": "3.11.5"
  }
 },
 "nbformat": 4,
 "nbformat_minor": 5
}
