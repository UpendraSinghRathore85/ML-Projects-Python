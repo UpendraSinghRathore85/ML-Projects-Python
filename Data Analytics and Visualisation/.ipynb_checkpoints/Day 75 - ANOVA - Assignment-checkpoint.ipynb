{
 "cells": [
  {
   "cell_type": "code",
   "execution_count": 1,
   "id": "53202ac5",
   "metadata": {},
   "outputs": [],
   "source": [
    "import numpy as np\n",
    "from scipy.stats import f_oneway\n",
    "from scipy.stats import ttest_ind\n",
    "from scipy.stats import chi2_contingency"
   ]
  },
  {
   "cell_type": "code",
   "execution_count": 2,
   "id": "3543f399",
   "metadata": {},
   "outputs": [],
   "source": [
    "def check(p_value , alpha):\n",
    "    if (p_value < alpha):\n",
    "        print (f\"reject the null hypothesis p_value < alpha, {p_value} < {alpha}\")\n",
    "    else :\n",
    "         print (f\"fail to reject the null hypothesis p_value > alpha, {p_value} > {alpha}\")"
   ]
  },
  {
   "cell_type": "code",
   "execution_count": 3,
   "id": "717e6fab",
   "metadata": {},
   "outputs": [],
   "source": [
    "a = [13, 8, 11, 12, 11]\n",
    "b = [15, 10, 16, 11, 13, 10]\n",
    "c = [5, 11, 9, 5]\n",
    "d = [8, 10, 6, 5, 7]\n",
    "alpha = 0.05"
   ]
  },
  {
   "cell_type": "code",
   "execution_count": 4,
   "id": "07c97988",
   "metadata": {},
   "outputs": [
    {
     "data": {
      "text/plain": [
       "F_onewayResult(statistic=6.324748040313554, pvalue=0.0049302919205628576)"
      ]
     },
     "execution_count": 4,
     "metadata": {},
     "output_type": "execute_result"
    }
   ],
   "source": [
    "f_oneway(a, b, c, d)"
   ]
  },
  {
   "cell_type": "code",
   "execution_count": 5,
   "id": "59f1ee08",
   "metadata": {},
   "outputs": [
    {
     "name": "stdout",
     "output_type": "stream",
     "text": [
      "reject the null hypothesis p_value < alpha, 0.0049302919205628576 < 0.05\n"
     ]
    }
   ],
   "source": [
    "f_stats, p_val = f_oneway(a, b, c, d)\n",
    "check(p_val, alpha)"
   ]
  },
  {
   "cell_type": "markdown",
   "id": "077718ed",
   "metadata": {},
   "source": [
    "# Q2. Book Review"
   ]
  },
  {
   "cell_type": "raw",
   "id": "2abd4eea",
   "metadata": {},
   "source": [
    "here is a website, \"www.goodreads.com\" where people can leave their reviews about a book and rate them on a scale of 1 to 5 stars.\n",
    "The following table gives the number of pages of a random sample of books with different ratings, as listed on the site:\n",
    "\n",
    "\n",
    "one_star = [382, 391, 335, 368, 400, 372]\n",
    "two_star = [560, 343, 512, 329, 391, 367]\n",
    "three_star = [384, 458, 409, 309, 374, 459]\n",
    "four_star = [325, 390, 304, 240, 306, 169]\n",
    "five_star = [360, 298, 272, 368, 320, 326]\n",
    "At a 1% significance level, does the data provide sufficient evidence to conclude that there is a difference in the mean number of pages among books in these five rating groups?"
   ]
  },
  {
   "cell_type": "code",
   "execution_count": 6,
   "id": "62840077",
   "metadata": {},
   "outputs": [],
   "source": [
    "one_star = [382, 391, 335, 368, 400, 372]\n",
    "two_star = [560, 343, 512, 329, 391, 367]\n",
    "three_star = [384, 458, 409, 309, 374, 459]\n",
    "four_star = [325, 390, 304, 240, 306, 169]\n",
    "five_star = [360, 298, 272, 368, 320, 326]"
   ]
  },
  {
   "cell_type": "code",
   "execution_count": 7,
   "id": "076b3f15",
   "metadata": {},
   "outputs": [
    {
     "data": {
      "text/plain": [
       "F_onewayResult(statistic=4.238644902556343, pvalue=0.009362001936328837)"
      ]
     },
     "execution_count": 7,
     "metadata": {},
     "output_type": "execute_result"
    }
   ],
   "source": [
    "f_oneway(one_star, two_star, three_star, four_star, five_star)"
   ]
  },
  {
   "cell_type": "code",
   "execution_count": 8,
   "id": "91a41124",
   "metadata": {},
   "outputs": [],
   "source": [
    "f_stats, p_val = f_oneway(one_star, two_star, three_star, four_star, five_star)"
   ]
  },
  {
   "cell_type": "code",
   "execution_count": 9,
   "id": "1189eeac",
   "metadata": {},
   "outputs": [
    {
     "name": "stdout",
     "output_type": "stream",
     "text": [
      "reject the null hypothesis p_value < alpha, 0.009362001936328837 < 0.01\n"
     ]
    }
   ],
   "source": [
    "check(p_val, alpha=0.01)"
   ]
  },
  {
   "cell_type": "markdown",
   "id": "446a7af5",
   "metadata": {},
   "source": [
    "# Q3. SmartPhone Battery Life"
   ]
  },
  {
   "cell_type": "raw",
   "id": "fe26ef0b",
   "metadata": {},
   "source": [
    "Consumer Reports publishes reviews and comparisons of products based on results from its laboratory.\n",
    "Data from their website gave the following table for battery lives in hours, for samples of smartphones made by four different mobile companies."
   ]
  },
  {
   "cell_type": "code",
   "execution_count": 10,
   "id": "dedc9ab5",
   "metadata": {},
   "outputs": [],
   "source": [
    "Brand_A = [19.60, 18.82, 19.00, 18.45, 19.79, 19.03, 17.89, 19.42]\n",
    "Brand_B = [21.10, 20.00, 20.43, 19.67, 18.99, 19.98, 20.14, 19.78]\n",
    "Brand_C = [10.31, 10.02, 9.41, 9.89, 10.05, 10.52, 11.02, 10.42]\n",
    "Brand_D = [17.02, 16.71, 17.78, 18.65, 15.98, 17.63, 17.00, 16.78, 16.92, 17.14]"
   ]
  },
  {
   "cell_type": "code",
   "execution_count": 11,
   "id": "08b18bf8",
   "metadata": {},
   "outputs": [
    {
     "data": {
      "text/plain": [
       "F_onewayResult(statistic=404.7865500650496, pvalue=2.392149441499325e-24)"
      ]
     },
     "execution_count": 11,
     "metadata": {},
     "output_type": "execute_result"
    }
   ],
   "source": [
    "f_oneway(Brand_A, Brand_B, Brand_C, Brand_D)"
   ]
  },
  {
   "cell_type": "code",
   "execution_count": 12,
   "id": "68e2c18c",
   "metadata": {},
   "outputs": [
    {
     "name": "stdout",
     "output_type": "stream",
     "text": [
      "reject the null hypothesis p_value < alpha, 2.392149441499325e-24 < 0.02\n"
     ]
    }
   ],
   "source": [
    "f_stats, p_val = f_oneway(Brand_A, Brand_B, Brand_C, Brand_D)\n",
    "check(p_val, alpha=0.02)"
   ]
  },
  {
   "cell_type": "code",
   "execution_count": 13,
   "id": "fa03ba17",
   "metadata": {},
   "outputs": [
    {
     "name": "stdout",
     "output_type": "stream",
     "text": [
      "reject the null hypothesis p_value < alpha, 0.005464761718691163 < 0.02\n"
     ]
    }
   ],
   "source": [
    "t_stats, p_val = ttest_ind(Brand_A, Brand_B)\n",
    "check(p_val, alpha=0.02)"
   ]
  },
  {
   "cell_type": "code",
   "execution_count": 14,
   "id": "68a36243",
   "metadata": {},
   "outputs": [
    {
     "name": "stdout",
     "output_type": "stream",
     "text": [
      "reject the null hypothesis p_value < alpha, 8.33672049161488e-14 < 0.02\n"
     ]
    }
   ],
   "source": [
    "t_stats, p_val = ttest_ind(Brand_C, Brand_D)\n",
    "check(p_val, alpha=0.02)"
   ]
  },
  {
   "cell_type": "code",
   "execution_count": 20,
   "id": "38563edb",
   "metadata": {},
   "outputs": [
    {
     "name": "stdout",
     "output_type": "stream",
     "text": [
      "reject the null hypothesis p_value < alpha, 3.271164766368406e-05 < 0.02\n"
     ]
    }
   ],
   "source": [
    "t_stats, p_val = ttest_ind(Brand_A, Brand_D)\n",
    "check(p_val, alpha=0.02)"
   ]
  },
  {
   "cell_type": "markdown",
   "id": "cb39d15d",
   "metadata": {},
   "source": [
    "# Q4. Vehicle Miles"
   ]
  },
  {
   "cell_type": "markdown",
   "id": "7e9e95bf",
   "metadata": {},
   "source": [
    "The Highway Administration conducts an annual survey on motor vehicles travelling on the highway. They publish their findings in Highway Statistics, based on different types of vehicles.\n",
    "\n",
    "Independent simple random samples of cars, buses, and trucks yielded the data on number of thousand miles driven last year."
   ]
  },
  {
   "cell_type": "code",
   "execution_count": 21,
   "id": "0a28d748",
   "metadata": {},
   "outputs": [],
   "source": [
    "cars = [19.9, 15.3, 2.2, 6.8, 34.2, 8.3, 12.0, 7.0, 9.5, 1.1]\n",
    "buses = [1.8, 24.6, 7.2, 37.0, 7.2, 21.2, 6.5, 23.6]\n",
    "trucks = [13.3, 23.0, 25.4, 15.3, 57.1, 14.5, 26.0]"
   ]
  },
  {
   "cell_type": "code",
   "execution_count": null,
   "id": "a8fd62d3",
   "metadata": {},
   "outputs": [],
   "source": []
  },
  {
   "cell_type": "raw",
   "id": "20808a77",
   "metadata": {},
   "source": [
    "We want to decide there is a difference in last year’s mean number of miles driven among cars, buses, and trucks.\n",
    "\n",
    "At a 93% confidence level, does the data provide sufficient evidence to conclude that there is a difference in last year’s mean number of miles driven by cars, buses, and trucks."
   ]
  },
  {
   "cell_type": "code",
   "execution_count": 22,
   "id": "fbfdd44e",
   "metadata": {},
   "outputs": [
    {
     "data": {
      "text/plain": [
       "F_onewayResult(statistic=2.4686944536875277, pvalue=0.10782985675757563)"
      ]
     },
     "execution_count": 22,
     "metadata": {},
     "output_type": "execute_result"
    }
   ],
   "source": [
    "f_oneway(cars, buses, trucks)"
   ]
  },
  {
   "cell_type": "code",
   "execution_count": 24,
   "id": "7965823b",
   "metadata": {},
   "outputs": [
    {
     "name": "stdout",
     "output_type": "stream",
     "text": [
      "fail to reject the null hypothesis p_value > alpha, 0.10782985675757563 > 0.01\n"
     ]
    }
   ],
   "source": [
    "f_stats, p_val =f_oneway(cars, buses, trucks)\n",
    "check(p_val, alpha=0.01)"
   ]
  },
  {
   "cell_type": "markdown",
   "id": "e88fb7ae",
   "metadata": {},
   "source": [
    "# Q5. Average Height"
   ]
  },
  {
   "cell_type": "markdown",
   "id": "4333fac4",
   "metadata": {},
   "source": [
    "Check whether there is a significant difference (consider a 1% significance level) in the mean height of three groups of adult people. Height is in inches.\n",
    "\n",
    "college_students = [71, 62, 63, 59, 67, 68, 63, 62, 66, 65, 61, 60]\n",
    "athletes = [67, 68, 72, 66, 65, 69, 71, 70, 65, 64, 68]\n",
    "army = [68, 67, 66, 68, 69, 70, 71, 69, 66, 67]\n",
    "\n",
    "Choose the correct option below :"
   ]
  },
  {
   "cell_type": "code",
   "execution_count": 25,
   "id": "b9031c64",
   "metadata": {},
   "outputs": [],
   "source": [
    "college_students = [71, 62, 63, 59, 67, 68, 63, 62, 66, 65, 61, 60]\n",
    "athletes = [67, 68, 72, 66, 65, 69, 71, 70, 65, 64, 68]\n",
    "army = [68, 67, 66, 68, 69, 70, 71, 69, 66, 67]"
   ]
  },
  {
   "cell_type": "code",
   "execution_count": 26,
   "id": "57f1250e",
   "metadata": {},
   "outputs": [
    {
     "data": {
      "text/plain": [
       "F_onewayResult(statistic=7.899836075209478, pvalue=0.0017534092082519943)"
      ]
     },
     "execution_count": 26,
     "metadata": {},
     "output_type": "execute_result"
    }
   ],
   "source": [
    "f_oneway(college_students, athletes, army)"
   ]
  },
  {
   "cell_type": "code",
   "execution_count": 27,
   "id": "32f2e084",
   "metadata": {},
   "outputs": [
    {
     "name": "stdout",
     "output_type": "stream",
     "text": [
      "reject the null hypothesis p_value < alpha, 0.0017534092082519943 < 0.01\n"
     ]
    }
   ],
   "source": [
    "f_stats, p_val =f_oneway(college_students, athletes, army)\n",
    "check(p_val, alpha=0.01)"
   ]
  },
  {
   "cell_type": "markdown",
   "id": "cb5f869a",
   "metadata": {},
   "source": [
    "# Q6. Exam scores distribution"
   ]
  },
  {
   "cell_type": "code",
   "execution_count": 28,
   "id": "b1458f39",
   "metadata": {},
   "outputs": [
    {
     "data": {
      "text/plain": [
       "array([45., 60., 45.])"
      ]
     },
     "execution_count": 28,
     "metadata": {},
     "output_type": "execute_result"
    }
   ],
   "source": [
    "n = 150\n",
    "per_exp = np.array([.30, .40, .30])\n",
    "exp = n* per_exp\n",
    "exp"
   ]
  },
  {
   "cell_type": "code",
   "execution_count": 29,
   "id": "acfae9e0",
   "metadata": {},
   "outputs": [],
   "source": [
    "observation = [45, 50, 55]"
   ]
  },
  {
   "cell_type": "code",
   "execution_count": null,
   "id": "4b3aec68",
   "metadata": {},
   "outputs": [],
   "source": []
  },
  {
   "cell_type": "code",
   "execution_count": 30,
   "id": "77db769f",
   "metadata": {},
   "outputs": [],
   "source": [
    "from scipy.stats import chisquare"
   ]
  },
  {
   "cell_type": "code",
   "execution_count": 31,
   "id": "71030fee",
   "metadata": {},
   "outputs": [
    {
     "data": {
      "text/plain": [
       "Power_divergenceResult(statistic=3.8888888888888893, pvalue=0.1430666827544082)"
      ]
     },
     "execution_count": 31,
     "metadata": {},
     "output_type": "execute_result"
    }
   ],
   "source": [
    "chisquare(f_obs=observation, f_exp=exp)"
   ]
  },
  {
   "cell_type": "code",
   "execution_count": 32,
   "id": "fc398db2",
   "metadata": {},
   "outputs": [
    {
     "name": "stdout",
     "output_type": "stream",
     "text": [
      "fail to reject the null hypothesis p_value > alpha, 0.1430666827544082 > 0.05\n"
     ]
    }
   ],
   "source": [
    "chi_stats, p_val = chisquare(f_obs=observation, f_exp=exp)\n",
    "check(p_val, alpha=0.05)"
   ]
  },
  {
   "cell_type": "markdown",
   "id": "5a032d15",
   "metadata": {},
   "source": [
    "# Q7. Time spent on website"
   ]
  },
  {
   "cell_type": "code",
   "execution_count": 35,
   "id": "42828961",
   "metadata": {},
   "outputs": [
    {
     "data": {
      "text/plain": [
       "array([ 40., 100.,  60.])"
      ]
     },
     "execution_count": 35,
     "metadata": {},
     "output_type": "execute_result"
    }
   ],
   "source": [
    "n = 200\n",
    "per_exp = np.array([.20, .50, .30])\n",
    "expected = n* per_exp\n",
    "expected"
   ]
  },
  {
   "cell_type": "code",
   "execution_count": 36,
   "id": "47827bea",
   "metadata": {},
   "outputs": [],
   "source": [
    "observed = np.array([30, 85, 85])"
   ]
  },
  {
   "cell_type": "code",
   "execution_count": 37,
   "id": "c6be2192",
   "metadata": {},
   "outputs": [
    {
     "name": "stdout",
     "output_type": "stream",
     "text": [
      "reject the null hypothesis p_value < alpha, 0.0005088621855732918 < 0.05\n"
     ]
    }
   ],
   "source": [
    "chi_stats, p_val = chisquare(f_obs=observed, f_exp=expected)\n",
    "check(p_val, alpha=0.05)"
   ]
  }
 ],
 "metadata": {
  "kernelspec": {
   "display_name": "Python 3 (ipykernel)",
   "language": "python",
   "name": "python3"
  },
  "language_info": {
   "codemirror_mode": {
    "name": "ipython",
    "version": 3
   },
   "file_extension": ".py",
   "mimetype": "text/x-python",
   "name": "python",
   "nbconvert_exporter": "python",
   "pygments_lexer": "ipython3",
   "version": "3.11.5"
  }
 },
 "nbformat": 4,
 "nbformat_minor": 5
}
