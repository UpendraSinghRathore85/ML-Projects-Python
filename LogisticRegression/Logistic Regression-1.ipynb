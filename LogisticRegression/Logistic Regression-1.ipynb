{
 "cells": [
  {
   "cell_type": "code",
   "execution_count": 1,
   "id": "ead3f994",
   "metadata": {},
   "outputs": [],
   "source": [
    "import numpy as np"
   ]
  },
  {
   "cell_type": "code",
   "execution_count": 7,
   "id": "17874a0d",
   "metadata": {},
   "outputs": [],
   "source": [
    "def ver001(x):\n",
    "    return [1/(1+np.exp(-ele)) for ele in x]"
   ]
  },
  {
   "cell_type": "code",
   "execution_count": 9,
   "id": "7664dd5b",
   "metadata": {},
   "outputs": [
    {
     "data": {
      "text/plain": [
       "[0.9999546021312976, 0.9999999979388463]"
      ]
     },
     "execution_count": 9,
     "metadata": {},
     "output_type": "execute_result"
    }
   ],
   "source": [
    "ver001([10, 20])"
   ]
  },
  {
   "cell_type": "code",
   "execution_count": 11,
   "id": "794c7749",
   "metadata": {},
   "outputs": [],
   "source": [
    "def ver003(x):\n",
    "    return 1/(1+ np.exp(-(np.clip(x, -min_limit, None))))"
   ]
  },
  {
   "cell_type": "code",
   "execution_count": 17,
   "id": "e8ffcec9",
   "metadata": {},
   "outputs": [
    {
     "data": {
      "text/plain": [
       "1.0"
      ]
     },
     "execution_count": 17,
     "metadata": {},
     "output_type": "execute_result"
    }
   ],
   "source": [
    "min_limit = 709\n",
    "\n",
    "ver003(709)"
   ]
  },
  {
   "cell_type": "code",
   "execution_count": 25,
   "id": "aabac361",
   "metadata": {},
   "outputs": [
    {
     "data": {
      "text/plain": [
       "-709"
      ]
     },
     "execution_count": 25,
     "metadata": {},
     "output_type": "execute_result"
    }
   ],
   "source": [
    "np.clip(-709, -min_limit, None)"
   ]
  },
  {
   "cell_type": "code",
   "execution_count": 27,
   "id": "9be2247e",
   "metadata": {},
   "outputs": [],
   "source": [
    "x = [[11, 22], [39, 0], [33, 39], [1, 28], [9, 24], [19, 14], [6, 7], [28, 3], [4, 17], [35, 15]]"
   ]
  },
  {
   "cell_type": "code",
   "execution_count": 40,
   "id": "c63c274b",
   "metadata": {},
   "outputs": [
    {
     "data": {
      "text/plain": [
       "[11, 39, 33, 1, 9, 19, 6, 28, 4, 35]"
      ]
     },
     "execution_count": 40,
     "metadata": {},
     "output_type": "execute_result"
    }
   ],
   "source": [
    "[x[i][0] for i, val in enumerate (x)]"
   ]
  },
  {
   "cell_type": "code",
   "execution_count": null,
   "id": "017c09e3",
   "metadata": {},
   "outputs": [],
   "source": [
    "import numpy as np\n",
    "def logloss(z, y_true, x):\n",
    "    '''logit and y_true are lists\n",
    "       output -> Two numpy arrays are expected to be returned'''\n",
    "\n",
    "    z = np.asarray(z)\n",
    "    y_true = np.asarray(y_true)\n",
    "    x = np.asarray(x)\n",
    "\n",
    "    # YOUR CODE GOES HERE\n",
    "    probability = 1 / (1 + np.exp(- (z)))\n",
    "    lloss = - (y_true * np.log(probability) + (1 - y_true) * np.log(1 - probability))\n",
    "    derv = probability - y_true\n",
    "    derv = derv * x[:,0]\n",
    "    return np.round(lloss, 2), np.round(derv, 2)"
   ]
  }
 ],
 "metadata": {
  "kernelspec": {
   "display_name": "Python 3 (ipykernel)",
   "language": "python",
   "name": "python3"
  },
  "language_info": {
   "codemirror_mode": {
    "name": "ipython",
    "version": 3
   },
   "file_extension": ".py",
   "mimetype": "text/x-python",
   "name": "python",
   "nbconvert_exporter": "python",
   "pygments_lexer": "ipython3",
   "version": "3.11.5"
  }
 },
 "nbformat": 4,
 "nbformat_minor": 5
}
